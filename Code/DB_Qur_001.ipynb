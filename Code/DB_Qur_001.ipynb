{
 "cells": [
  {
   "cell_type": "code",
   "execution_count": 4,
   "metadata": {
    "ExecuteTime": {
     "end_time": "2020-01-12T08:14:39.531774Z",
     "start_time": "2020-01-12T08:14:39.527784Z"
    }
   },
   "outputs": [],
   "source": [
    "import os\n",
    "import pandas as pd\n",
    "import zipfile"
   ]
  },
  {
   "cell_type": "code",
   "execution_count": 2,
   "metadata": {
    "ExecuteTime": {
     "end_time": "2020-01-12T08:05:39.128334Z",
     "start_time": "2020-01-12T08:05:39.125342Z"
    }
   },
   "outputs": [],
   "source": [
    "verses_path = r'..\\Datasets\\VBV'\n",
    "ayat_path = r'..\\Datasets\\Ayat'"
   ]
  },
  {
   "cell_type": "code",
   "execution_count": 3,
   "metadata": {
    "ExecuteTime": {
     "end_time": "2020-01-12T08:07:07.832193Z",
     "start_time": "2020-01-12T08:07:07.827206Z"
    }
   },
   "outputs": [
    {
     "name": "stdout",
     "output_type": "stream",
     "text": [
      "Abdullaah_AlJuhaynee@128kbps.zip\n",
      "Abdullah_Matroud@128kbps.zip\n",
      "Abdul_Basit@Mujawwad.zip\n",
      "Abdul_Basit@Murattal.zip\n",
      "Abdurrahman_AsSudais@prayer.zip\n",
      "Ahmed_AlAjamy@128kbps.zip\n",
      "Ahmed_Neana@128kbps.zip\n",
      "Akram_AlAlaqimy@128kbps.zip\n",
      "Ali_Hajjaj_AlSuesy@128kbps.zip\n",
      "Aziz_Alili@128kbps.zip\n",
      "Khaalid_Abdullaah_al-Qahtaanee@192kbps.zip\n",
      "Mahmoud_AlHusary@Murattal.zip\n",
      "Mohammad_AlMinshawy@Murattal.zip\n",
      "Muhammad_AlTablaway@Mujawwad.zip\n",
      "Muhammad_Ayyoob@Murattal.zip\n",
      "Muhsin_AlQasim@192kbps.zip\n",
      "Nasser_Alqatami@128kbps.zip\n",
      "Sahl_Yassin@128kbps.zip\n",
      "Salaah_Bukhatir@128kbps.zip\n",
      "Salah_AlBudair@128kbps.zip\n",
      "Saud_AshShuraym@prayer.zip\n",
      "Yasser_AdDussary@128kbps.zip\n"
     ]
    }
   ],
   "source": [
    "directory = os.fsencode(verses_path)\n",
    "\n",
    "for file in os.listdir(directory):\n",
    "    filename = os.fsdecode(file)\n",
    "    print(filename)"
   ]
  },
  {
   "cell_type": "code",
   "execution_count": 6,
   "metadata": {
    "ExecuteTime": {
     "end_time": "2020-01-12T08:15:59.145315Z",
     "start_time": "2020-01-12T08:15:59.136340Z"
    }
   },
   "outputs": [],
   "source": [
    "archive = zipfile.ZipFile(os.path.join(verses_path, 'Abdul_Basit@Mujawwad.zip'), 'r')"
   ]
  },
  {
   "cell_type": "code",
   "execution_count": 15,
   "metadata": {
    "ExecuteTime": {
     "end_time": "2020-01-12T08:18:44.156075Z",
     "start_time": "2020-01-12T08:18:44.151088Z"
    },
    "collapsed": true
   },
   "outputs": [
    {
     "data": {
      "text/plain": [
       "[<ZipInfo filename='114.txt' compress_type=deflate external_attr=0x20 file_size=48 compress_size=42>,\n",
       " <ZipInfo filename='001.txt' compress_type=deflate external_attr=0x20 file_size=55 compress_size=46>,\n",
       " <ZipInfo filename='002.txt' compress_type=deflate external_attr=0x20 file_size=2628 compress_size=1203>,\n",
       " <ZipInfo filename='003.txt' compress_type=deflate external_attr=0x20 file_size=1781 compress_size=825>,\n",
       " <ZipInfo filename='004.txt' compress_type=deflate external_attr=0x20 file_size=1578 compress_size=730>,\n",
       " <ZipInfo filename='005.txt' compress_type=deflate external_attr=0x20 file_size=1075 compress_size=506>,\n",
       " <ZipInfo filename='006.txt' compress_type=deflate external_attr=0x20 file_size=1465 compress_size=686>,\n",
       " <ZipInfo filename='007.txt' compress_type=deflate external_attr=0x20 file_size=1831 compress_size=861>,\n",
       " <ZipInfo filename='008.txt' compress_type=deflate external_attr=0x20 file_size=656 compress_size=307>,\n",
       " <ZipInfo filename='009.txt' compress_type=deflate external_attr=0x20 file_size=1139 compress_size=531>,\n",
       " <ZipInfo filename='010.txt' compress_type=deflate external_attr=0x20 file_size=966 compress_size=437>,\n",
       " <ZipInfo filename='011.txt' compress_type=deflate external_attr=0x20 file_size=1091 compress_size=498>,\n",
       " <ZipInfo filename='012.txt' compress_type=deflate external_attr=0x20 file_size=978 compress_size=451>,\n",
       " <ZipInfo filename='013.txt' compress_type=deflate external_attr=0x20 file_size=376 compress_size=184>,\n",
       " <ZipInfo filename='014.txt' compress_type=deflate external_attr=0x20 file_size=453 compress_size=216>,\n",
       " <ZipInfo filename='015.txt' compress_type=deflate external_attr=0x20 file_size=851 compress_size=383>,\n",
       " <ZipInfo filename='016.txt' compress_type=deflate external_attr=0x20 file_size=1130 compress_size=525>,\n",
       " <ZipInfo filename='017.txt' compress_type=deflate external_attr=0x20 file_size=981 compress_size=452>,\n",
       " <ZipInfo filename='018.txt' compress_type=deflate external_attr=0x20 file_size=972 compress_size=445>,\n",
       " <ZipInfo filename='019.txt' compress_type=deflate external_attr=0x20 file_size=847 compress_size=394>,\n",
       " <ZipInfo filename='020.txt' compress_type=deflate external_attr=0x20 file_size=1167 compress_size=536>,\n",
       " <ZipInfo filename='021.txt' compress_type=deflate external_attr=0x20 file_size=979 compress_size=463>,\n",
       " <ZipInfo filename='022.txt' compress_type=deflate external_attr=0x20 file_size=689 compress_size=318>,\n",
       " <ZipInfo filename='023.txt' compress_type=deflate external_attr=0x20 file_size=1029 compress_size=476>,\n",
       " <ZipInfo filename='024.txt' compress_type=deflate external_attr=0x20 file_size=559 compress_size=267>,\n",
       " <ZipInfo filename='025.txt' compress_type=deflate external_attr=0x20 file_size=670 compress_size=307>,\n",
       " <ZipInfo filename='026.txt' compress_type=deflate external_attr=0x20 file_size=2000 compress_size=927>,\n",
       " <ZipInfo filename='027.txt' compress_type=deflate external_attr=0x20 file_size=811 compress_size=384>,\n",
       " <ZipInfo filename='028.txt' compress_type=deflate external_attr=0x20 file_size=774 compress_size=369>,\n",
       " <ZipInfo filename='029.txt' compress_type=deflate external_attr=0x20 file_size=600 compress_size=286>,\n",
       " <ZipInfo filename='030.txt' compress_type=deflate external_attr=0x20 file_size=515 compress_size=247>,\n",
       " <ZipInfo filename='031.txt' compress_type=deflate external_attr=0x20 file_size=282 compress_size=148>,\n",
       " <ZipInfo filename='032.txt' compress_type=deflate external_attr=0x20 file_size=243 compress_size=129>,\n",
       " <ZipInfo filename='033.txt' compress_type=deflate external_attr=0x20 file_size=641 compress_size=302>,\n",
       " <ZipInfo filename='034.txt' compress_type=deflate external_attr=0x20 file_size=468 compress_size=228>,\n",
       " <ZipInfo filename='035.txt' compress_type=deflate external_attr=0x20 file_size=390 compress_size=195>,\n",
       " <ZipInfo filename='036.txt' compress_type=deflate external_attr=0x20 file_size=708 compress_size=335>,\n",
       " <ZipInfo filename='037.txt' compress_type=deflate external_attr=0x20 file_size=1582 compress_size=718>,\n",
       " <ZipInfo filename='038.txt' compress_type=deflate external_attr=0x20 file_size=764 compress_size=356>,\n",
       " <ZipInfo filename='039.txt' compress_type=deflate external_attr=0x20 file_size=659 compress_size=312>,\n",
       " <ZipInfo filename='040.txt' compress_type=deflate external_attr=0x20 file_size=743 compress_size=347>,\n",
       " <ZipInfo filename='041.txt' compress_type=deflate external_attr=0x20 file_size=465 compress_size=226>,\n",
       " <ZipInfo filename='042.txt' compress_type=deflate external_attr=0x20 file_size=458 compress_size=222>,\n",
       " <ZipInfo filename='043.txt' compress_type=deflate external_attr=0x20 file_size=768 compress_size=359>,\n",
       " <ZipInfo filename='044.txt' compress_type=deflate external_attr=0x20 file_size=481 compress_size=233>,\n",
       " <ZipInfo filename='045.txt' compress_type=deflate external_attr=0x20 file_size=310 compress_size=155>,\n",
       " <ZipInfo filename='046.txt' compress_type=deflate external_attr=0x20 file_size=299 compress_size=151>,\n",
       " <ZipInfo filename='047.txt' compress_type=deflate external_attr=0x20 file_size=324 compress_size=166>,\n",
       " <ZipInfo filename='048.txt' compress_type=deflate external_attr=0x20 file_size=244 compress_size=129>,\n",
       " <ZipInfo filename='049.txt' compress_type=deflate external_attr=0x20 file_size=152 compress_size=87>,\n",
       " <ZipInfo filename='050.txt' compress_type=deflate external_attr=0x20 file_size=366 compress_size=179>,\n",
       " <ZipInfo filename='051.txt' compress_type=deflate external_attr=0x20 file_size=482 compress_size=238>,\n",
       " <ZipInfo filename='052.txt' compress_type=deflate external_attr=0x20 file_size=389 compress_size=194>,\n",
       " <ZipInfo filename='053.txt' compress_type=deflate external_attr=0x20 file_size=496 compress_size=233>,\n",
       " <ZipInfo filename='054.txt' compress_type=deflate external_attr=0x20 file_size=444 compress_size=219>,\n",
       " <ZipInfo filename='055.txt' compress_type=deflate external_attr=0x20 file_size=641 compress_size=299>,\n",
       " <ZipInfo filename='056.txt' compress_type=deflate external_attr=0x20 file_size=782 compress_size=367>,\n",
       " <ZipInfo filename='057.txt' compress_type=deflate external_attr=0x20 file_size=245 compress_size=129>,\n",
       " <ZipInfo filename='058.txt' compress_type=deflate external_attr=0x20 file_size=190 compress_size=107>,\n",
       " <ZipInfo filename='059.txt' compress_type=deflate external_attr=0x20 file_size=206 compress_size=113>,\n",
       " <ZipInfo filename='060.txt' compress_type=deflate external_attr=0x20 file_size=112 compress_size=70>,\n",
       " <ZipInfo filename='061.txt' compress_type=deflate external_attr=0x20 file_size=115 compress_size=72>,\n",
       " <ZipInfo filename='062.txt' compress_type=deflate external_attr=0x20 file_size=93 compress_size=61>,\n",
       " <ZipInfo filename='063.txt' compress_type=deflate external_attr=0x20 file_size=93 compress_size=61>,\n",
       " <ZipInfo filename='064.txt' compress_type=deflate external_attr=0x20 file_size=148 compress_size=86>,\n",
       " <ZipInfo filename='065.txt' compress_type=deflate external_attr=0x20 file_size=102 compress_size=64>,\n",
       " <ZipInfo filename='066.txt' compress_type=deflate external_attr=0x20 file_size=100 compress_size=66>,\n",
       " <ZipInfo filename='067.txt' compress_type=deflate external_attr=0x20 file_size=243 compress_size=130>,\n",
       " <ZipInfo filename='068.txt' compress_type=deflate external_attr=0x20 file_size=416 compress_size=208>,\n",
       " <ZipInfo filename='069.txt' compress_type=deflate external_attr=0x20 file_size=416 compress_size=202>,\n",
       " <ZipInfo filename='070.txt' compress_type=deflate external_attr=0x20 file_size=350 compress_size=182>,\n",
       " <ZipInfo filename='071.txt' compress_type=deflate external_attr=0x20 file_size=227 compress_size=121>,\n",
       " <ZipInfo filename='072.txt' compress_type=deflate external_attr=0x20 file_size=226 compress_size=121>,\n",
       " <ZipInfo filename='073.txt' compress_type=deflate external_attr=0x20 file_size=160 compress_size=91>,\n",
       " <ZipInfo filename='074.txt' compress_type=deflate external_attr=0x20 file_size=442 compress_size=212>,\n",
       " <ZipInfo filename='075.txt' compress_type=deflate external_attr=0x20 file_size=318 compress_size=161>,\n",
       " <ZipInfo filename='076.txt' compress_type=deflate external_attr=0x20 file_size=251 compress_size=129>,\n",
       " <ZipInfo filename='077.txt' compress_type=deflate external_attr=0x20 file_size=394 compress_size=192>,\n",
       " <ZipInfo filename='078.txt' compress_type=deflate external_attr=0x20 file_size=317 compress_size=159>,\n",
       " <ZipInfo filename='079.txt' compress_type=deflate external_attr=0x20 file_size=364 compress_size=178>,\n",
       " <ZipInfo filename='080.txt' compress_type=deflate external_attr=0x20 file_size=332 compress_size=168>,\n",
       " <ZipInfo filename='081.txt' compress_type=deflate external_attr=0x20 file_size=227 compress_size=115>,\n",
       " <ZipInfo filename='082.txt' compress_type=deflate external_attr=0x20 file_size=151 compress_size=89>,\n",
       " <ZipInfo filename='083.txt' compress_type=deflate external_attr=0x20 file_size=288 compress_size=148>,\n",
       " <ZipInfo filename='084.txt' compress_type=deflate external_attr=0x20 file_size=199 compress_size=108>,\n",
       " <ZipInfo filename='085.txt' compress_type=deflate external_attr=0x20 file_size=176 compress_size=100>,\n",
       " <ZipInfo filename='086.txt' compress_type=deflate external_attr=0x20 file_size=135 compress_size=80>,\n",
       " <ZipInfo filename='087.txt' compress_type=deflate external_attr=0x20 file_size=152 compress_size=87>,\n",
       " <ZipInfo filename='088.txt' compress_type=deflate external_attr=0x20 file_size=209 compress_size=113>,\n",
       " <ZipInfo filename='089.txt' compress_type=deflate external_attr=0x20 file_size=238 compress_size=124>,\n",
       " <ZipInfo filename='090.txt' compress_type=deflate external_attr=0x20 file_size=159 compress_size=91>,\n",
       " <ZipInfo filename='091.txt' compress_type=deflate external_attr=0x20 file_size=119 compress_size=75>,\n",
       " <ZipInfo filename='092.txt' compress_type=deflate external_attr=0x20 file_size=165 compress_size=92>,\n",
       " <ZipInfo filename='093.txt' compress_type=deflate external_attr=0x20 file_size=87 compress_size=61>,\n",
       " <ZipInfo filename='094.txt' compress_type=deflate external_attr=0x20 file_size=62 compress_size=49>,\n",
       " <ZipInfo filename='095.txt' compress_type=deflate external_attr=0x20 file_size=63 compress_size=50>,\n",
       " <ZipInfo filename='096.txt' compress_type=deflate external_attr=0x20 file_size=149 compress_size=87>,\n",
       " <ZipInfo filename='097.txt' compress_type=deflate external_attr=0x20 file_size=41 compress_size=39>,\n",
       " <ZipInfo filename='098.txt' compress_type=deflate external_attr=0x20 file_size=66 compress_size=51>,\n",
       " <ZipInfo filename='099.txt' compress_type=deflate external_attr=0x20 file_size=64 compress_size=51>,\n",
       " <ZipInfo filename='100.txt' compress_type=deflate external_attr=0x20 file_size=86 compress_size=60>,\n",
       " <ZipInfo filename='101.txt' compress_type=deflate external_attr=0x20 file_size=86 compress_size=61>,\n",
       " <ZipInfo filename='102.txt' compress_type=deflate external_attr=0x20 file_size=63 compress_size=51>,\n",
       " <ZipInfo filename='103.txt' external_attr=0x20 file_size=27>,\n",
       " <ZipInfo filename='104.txt' compress_type=deflate external_attr=0x20 file_size=69 compress_size=52>,\n",
       " <ZipInfo filename='105.txt' compress_type=deflate external_attr=0x20 file_size=41 compress_size=37>,\n",
       " <ZipInfo filename='106.txt' compress_type=deflate external_attr=0x20 file_size=34 compress_size=32>,\n",
       " <ZipInfo filename='107.txt' compress_type=deflate external_attr=0x20 file_size=57 compress_size=46>,\n",
       " <ZipInfo filename='108.txt' external_attr=0x20 file_size=27>,\n",
       " <ZipInfo filename='109.txt' compress_type=deflate external_attr=0x20 file_size=48 compress_size=42>,\n",
       " <ZipInfo filename='110.txt' external_attr=0x20 file_size=27>,\n",
       " <ZipInfo filename='111.txt' compress_type=deflate external_attr=0x20 file_size=41 compress_size=38>,\n",
       " <ZipInfo filename='112.txt' compress_type=deflate external_attr=0x20 file_size=34 compress_size=33>,\n",
       " <ZipInfo filename='113.txt' compress_type=deflate external_attr=0x20 file_size=42 compress_size=38>,\n",
       " <ZipInfo filename='source.TXT' compress_type=deflate external_attr=0x20 file_size=91 compress_size=82>,\n",
       " <ZipInfo filename='000_disclaimer.txt' compress_type=deflate external_attr=0x20 file_size=361 compress_size=250>]"
      ]
     },
     "execution_count": 15,
     "metadata": {},
     "output_type": "execute_result"
    }
   ],
   "source": [
    "archive.filelist"
   ]
  },
  {
   "cell_type": "code",
   "execution_count": 19,
   "metadata": {
    "ExecuteTime": {
     "end_time": "2020-01-12T08:20:38.845866Z",
     "start_time": "2020-01-12T08:20:38.840879Z"
    },
    "scrolled": false
   },
   "outputs": [
    {
     "name": "stdout",
     "output_type": "stream",
     "text": [
      "['114.txt', '001.txt', '002.txt', '003.txt', '004.txt', '005.txt', '006.txt', '007.txt', '008.txt', '009.txt', '010.txt', '011.txt', '012.txt', '013.txt', '014.txt', '015.txt', '016.txt', '017.txt', '018.txt', '019.txt', '020.txt', '021.txt', '022.txt', '023.txt', '024.txt', '025.txt', '026.txt', '027.txt', '028.txt', '029.txt', '030.txt', '031.txt', '032.txt', '033.txt', '034.txt', '035.txt', '036.txt', '037.txt', '038.txt', '039.txt', '040.txt', '041.txt', '042.txt', '043.txt', '044.txt', '045.txt', '046.txt', '047.txt', '048.txt', '049.txt', '050.txt', '051.txt', '052.txt', '053.txt', '054.txt', '055.txt', '056.txt', '057.txt', '058.txt', '059.txt', '060.txt', '061.txt', '062.txt', '063.txt', '064.txt', '065.txt', '066.txt', '067.txt', '068.txt', '069.txt', '070.txt', '071.txt', '072.txt', '073.txt', '074.txt', '075.txt', '076.txt', '077.txt', '078.txt', '079.txt', '080.txt', '081.txt', '082.txt', '083.txt', '084.txt', '085.txt', '086.txt', '087.txt', '088.txt', '089.txt', '090.txt', '091.txt', '092.txt', '093.txt', '094.txt', '095.txt', '096.txt', '097.txt', '098.txt', '099.txt', '100.txt', '101.txt', '102.txt', '103.txt', '104.txt', '105.txt', '106.txt', '107.txt', '108.txt', '109.txt', '110.txt', '111.txt', '112.txt', '113.txt']\n"
     ]
    }
   ],
   "source": [
    "print([_ for _ in archive.namelist() if len(_)==7])"
   ]
  },
  {
   "cell_type": "code",
   "execution_count": 59,
   "metadata": {
    "ExecuteTime": {
     "end_time": "2020-01-12T08:45:43.265907Z",
     "start_time": "2020-01-12T08:45:43.256932Z"
    }
   },
   "outputs": [
    {
     "data": {
      "text/html": [
       "<div>\n",
       "<style scoped>\n",
       "    .dataframe tbody tr th:only-of-type {\n",
       "        vertical-align: middle;\n",
       "    }\n",
       "\n",
       "    .dataframe tbody tr th {\n",
       "        vertical-align: top;\n",
       "    }\n",
       "\n",
       "    .dataframe thead th {\n",
       "        text-align: right;\n",
       "    }\n",
       "</style>\n",
       "<table border=\"1\" class=\"dataframe\">\n",
       "  <thead>\n",
       "    <tr style=\"text-align: right;\">\n",
       "      <th></th>\n",
       "      <th>0</th>\n",
       "    </tr>\n",
       "  </thead>\n",
       "  <tbody>\n",
       "    <tr>\n",
       "      <th>0</th>\n",
       "      <td>6064</td>\n",
       "    </tr>\n",
       "    <tr>\n",
       "      <th>1</th>\n",
       "      <td>14816</td>\n",
       "    </tr>\n",
       "    <tr>\n",
       "      <th>2</th>\n",
       "      <td>28442</td>\n",
       "    </tr>\n",
       "    <tr>\n",
       "      <th>3</th>\n",
       "      <td>37567</td>\n",
       "    </tr>\n",
       "    <tr>\n",
       "      <th>4</th>\n",
       "      <td>46379</td>\n",
       "    </tr>\n",
       "    <tr>\n",
       "      <th>5</th>\n",
       "      <td>59377</td>\n",
       "    </tr>\n",
       "    <tr>\n",
       "      <th>6</th>\n",
       "      <td>70255</td>\n",
       "    </tr>\n",
       "    <tr>\n",
       "      <th>7</th>\n",
       "      <td>97752</td>\n",
       "    </tr>\n",
       "  </tbody>\n",
       "</table>\n",
       "</div>"
      ],
      "text/plain": [
       "       0\n",
       "0   6064\n",
       "1  14816\n",
       "2  28442\n",
       "3  37567\n",
       "4  46379\n",
       "5  59377\n",
       "6  70255\n",
       "7  97752"
      ]
     },
     "execution_count": 59,
     "metadata": {},
     "output_type": "execute_result"
    }
   ],
   "source": [
    "test = pd.read_csv(archive.open('001.txt'), header=None, dtype=int)\n",
    "test"
   ]
  },
  {
   "cell_type": "code",
   "execution_count": 60,
   "metadata": {
    "ExecuteTime": {
     "end_time": "2020-01-12T08:45:43.834387Z",
     "start_time": "2020-01-12T08:45:43.827406Z"
    }
   },
   "outputs": [
    {
     "data": {
      "text/html": [
       "<div>\n",
       "<style scoped>\n",
       "    .dataframe tbody tr th:only-of-type {\n",
       "        vertical-align: middle;\n",
       "    }\n",
       "\n",
       "    .dataframe tbody tr th {\n",
       "        vertical-align: top;\n",
       "    }\n",
       "\n",
       "    .dataframe thead th {\n",
       "        text-align: right;\n",
       "    }\n",
       "</style>\n",
       "<table border=\"1\" class=\"dataframe\">\n",
       "  <thead>\n",
       "    <tr style=\"text-align: right;\">\n",
       "      <th></th>\n",
       "      <th>0</th>\n",
       "    </tr>\n",
       "  </thead>\n",
       "  <tbody>\n",
       "    <tr>\n",
       "      <th>0</th>\n",
       "      <td>NaN</td>\n",
       "    </tr>\n",
       "    <tr>\n",
       "      <th>1</th>\n",
       "      <td>8752.0</td>\n",
       "    </tr>\n",
       "    <tr>\n",
       "      <th>2</th>\n",
       "      <td>13626.0</td>\n",
       "    </tr>\n",
       "    <tr>\n",
       "      <th>3</th>\n",
       "      <td>9125.0</td>\n",
       "    </tr>\n",
       "    <tr>\n",
       "      <th>4</th>\n",
       "      <td>8812.0</td>\n",
       "    </tr>\n",
       "    <tr>\n",
       "      <th>5</th>\n",
       "      <td>12998.0</td>\n",
       "    </tr>\n",
       "    <tr>\n",
       "      <th>6</th>\n",
       "      <td>10878.0</td>\n",
       "    </tr>\n",
       "    <tr>\n",
       "      <th>7</th>\n",
       "      <td>27497.0</td>\n",
       "    </tr>\n",
       "  </tbody>\n",
       "</table>\n",
       "</div>"
      ],
      "text/plain": [
       "         0\n",
       "0      NaN\n",
       "1   8752.0\n",
       "2  13626.0\n",
       "3   9125.0\n",
       "4   8812.0\n",
       "5  12998.0\n",
       "6  10878.0\n",
       "7  27497.0"
      ]
     },
     "execution_count": 60,
     "metadata": {},
     "output_type": "execute_result"
    }
   ],
   "source": [
    "diff_time = test.diff()\n",
    "diff_time"
   ]
  },
  {
   "cell_type": "code",
   "execution_count": 61,
   "metadata": {
    "ExecuteTime": {
     "end_time": "2020-01-12T08:45:44.425199Z",
     "start_time": "2020-01-12T08:45:44.420210Z"
    }
   },
   "outputs": [
    {
     "data": {
      "text/plain": [
       "(6064, nan)"
      ]
     },
     "execution_count": 61,
     "metadata": {},
     "output_type": "execute_result"
    }
   ],
   "source": [
    "test.iloc[0,0], diff_time.iloc[0,0]"
   ]
  },
  {
   "cell_type": "code",
   "execution_count": 62,
   "metadata": {
    "ExecuteTime": {
     "end_time": "2020-01-12T08:45:45.545077Z",
     "start_time": "2020-01-12T08:45:45.538097Z"
    }
   },
   "outputs": [
    {
     "data": {
      "text/html": [
       "<div>\n",
       "<style scoped>\n",
       "    .dataframe tbody tr th:only-of-type {\n",
       "        vertical-align: middle;\n",
       "    }\n",
       "\n",
       "    .dataframe tbody tr th {\n",
       "        vertical-align: top;\n",
       "    }\n",
       "\n",
       "    .dataframe thead th {\n",
       "        text-align: right;\n",
       "    }\n",
       "</style>\n",
       "<table border=\"1\" class=\"dataframe\">\n",
       "  <thead>\n",
       "    <tr style=\"text-align: right;\">\n",
       "      <th></th>\n",
       "      <th>0</th>\n",
       "    </tr>\n",
       "  </thead>\n",
       "  <tbody>\n",
       "    <tr>\n",
       "      <th>0</th>\n",
       "      <td>6064</td>\n",
       "    </tr>\n",
       "    <tr>\n",
       "      <th>1</th>\n",
       "      <td>8752</td>\n",
       "    </tr>\n",
       "    <tr>\n",
       "      <th>2</th>\n",
       "      <td>13626</td>\n",
       "    </tr>\n",
       "    <tr>\n",
       "      <th>3</th>\n",
       "      <td>9125</td>\n",
       "    </tr>\n",
       "    <tr>\n",
       "      <th>4</th>\n",
       "      <td>8812</td>\n",
       "    </tr>\n",
       "    <tr>\n",
       "      <th>5</th>\n",
       "      <td>12998</td>\n",
       "    </tr>\n",
       "    <tr>\n",
       "      <th>6</th>\n",
       "      <td>10878</td>\n",
       "    </tr>\n",
       "    <tr>\n",
       "      <th>7</th>\n",
       "      <td>27497</td>\n",
       "    </tr>\n",
       "  </tbody>\n",
       "</table>\n",
       "</div>"
      ],
      "text/plain": [
       "       0\n",
       "0   6064\n",
       "1   8752\n",
       "2  13626\n",
       "3   9125\n",
       "4   8812\n",
       "5  12998\n",
       "6  10878\n",
       "7  27497"
      ]
     },
     "execution_count": 62,
     "metadata": {},
     "output_type": "execute_result"
    }
   ],
   "source": [
    "diff_time.iloc[0,0] = test.iloc[0,0]\n",
    "diff_time=diff_time.astype(int)\n",
    "diff_time"
   ]
  },
  {
   "cell_type": "code",
   "execution_count": 63,
   "metadata": {
    "ExecuteTime": {
     "end_time": "2020-01-12T08:45:46.998475Z",
     "start_time": "2020-01-12T08:45:46.990496Z"
    }
   },
   "outputs": [
    {
     "data": {
      "text/html": [
       "<div>\n",
       "<style scoped>\n",
       "    .dataframe tbody tr th:only-of-type {\n",
       "        vertical-align: middle;\n",
       "    }\n",
       "\n",
       "    .dataframe tbody tr th {\n",
       "        vertical-align: top;\n",
       "    }\n",
       "\n",
       "    .dataframe thead th {\n",
       "        text-align: right;\n",
       "    }\n",
       "</style>\n",
       "<table border=\"1\" class=\"dataframe\">\n",
       "  <thead>\n",
       "    <tr style=\"text-align: right;\">\n",
       "      <th></th>\n",
       "      <th>0</th>\n",
       "      <th>sura_num</th>\n",
       "    </tr>\n",
       "  </thead>\n",
       "  <tbody>\n",
       "    <tr>\n",
       "      <th>0</th>\n",
       "      <td>6064</td>\n",
       "      <td>1</td>\n",
       "    </tr>\n",
       "    <tr>\n",
       "      <th>1</th>\n",
       "      <td>8752</td>\n",
       "      <td>1</td>\n",
       "    </tr>\n",
       "    <tr>\n",
       "      <th>2</th>\n",
       "      <td>13626</td>\n",
       "      <td>1</td>\n",
       "    </tr>\n",
       "    <tr>\n",
       "      <th>3</th>\n",
       "      <td>9125</td>\n",
       "      <td>1</td>\n",
       "    </tr>\n",
       "    <tr>\n",
       "      <th>4</th>\n",
       "      <td>8812</td>\n",
       "      <td>1</td>\n",
       "    </tr>\n",
       "    <tr>\n",
       "      <th>5</th>\n",
       "      <td>12998</td>\n",
       "      <td>1</td>\n",
       "    </tr>\n",
       "    <tr>\n",
       "      <th>6</th>\n",
       "      <td>10878</td>\n",
       "      <td>1</td>\n",
       "    </tr>\n",
       "    <tr>\n",
       "      <th>7</th>\n",
       "      <td>27497</td>\n",
       "      <td>1</td>\n",
       "    </tr>\n",
       "  </tbody>\n",
       "</table>\n",
       "</div>"
      ],
      "text/plain": [
       "       0  sura_num\n",
       "0   6064         1\n",
       "1   8752         1\n",
       "2  13626         1\n",
       "3   9125         1\n",
       "4   8812         1\n",
       "5  12998         1\n",
       "6  10878         1\n",
       "7  27497         1"
      ]
     },
     "execution_count": 63,
     "metadata": {},
     "output_type": "execute_result"
    }
   ],
   "source": [
    "diff_time['sura_num']=1\n",
    "diff_time"
   ]
  },
  {
   "cell_type": "code",
   "execution_count": 64,
   "metadata": {
    "ExecuteTime": {
     "end_time": "2020-01-12T08:45:48.778713Z",
     "start_time": "2020-01-12T08:45:48.770733Z"
    }
   },
   "outputs": [
    {
     "data": {
      "text/html": [
       "<div>\n",
       "<style scoped>\n",
       "    .dataframe tbody tr th:only-of-type {\n",
       "        vertical-align: middle;\n",
       "    }\n",
       "\n",
       "    .dataframe tbody tr th {\n",
       "        vertical-align: top;\n",
       "    }\n",
       "\n",
       "    .dataframe thead th {\n",
       "        text-align: right;\n",
       "    }\n",
       "</style>\n",
       "<table border=\"1\" class=\"dataframe\">\n",
       "  <thead>\n",
       "    <tr style=\"text-align: right;\">\n",
       "      <th></th>\n",
       "      <th>index</th>\n",
       "      <th>0</th>\n",
       "      <th>sura_num</th>\n",
       "    </tr>\n",
       "  </thead>\n",
       "  <tbody>\n",
       "    <tr>\n",
       "      <th>0</th>\n",
       "      <td>0</td>\n",
       "      <td>6064</td>\n",
       "      <td>1</td>\n",
       "    </tr>\n",
       "    <tr>\n",
       "      <th>1</th>\n",
       "      <td>1</td>\n",
       "      <td>8752</td>\n",
       "      <td>1</td>\n",
       "    </tr>\n",
       "    <tr>\n",
       "      <th>2</th>\n",
       "      <td>2</td>\n",
       "      <td>13626</td>\n",
       "      <td>1</td>\n",
       "    </tr>\n",
       "    <tr>\n",
       "      <th>3</th>\n",
       "      <td>3</td>\n",
       "      <td>9125</td>\n",
       "      <td>1</td>\n",
       "    </tr>\n",
       "    <tr>\n",
       "      <th>4</th>\n",
       "      <td>4</td>\n",
       "      <td>8812</td>\n",
       "      <td>1</td>\n",
       "    </tr>\n",
       "    <tr>\n",
       "      <th>5</th>\n",
       "      <td>5</td>\n",
       "      <td>12998</td>\n",
       "      <td>1</td>\n",
       "    </tr>\n",
       "    <tr>\n",
       "      <th>6</th>\n",
       "      <td>6</td>\n",
       "      <td>10878</td>\n",
       "      <td>1</td>\n",
       "    </tr>\n",
       "    <tr>\n",
       "      <th>7</th>\n",
       "      <td>7</td>\n",
       "      <td>27497</td>\n",
       "      <td>1</td>\n",
       "    </tr>\n",
       "  </tbody>\n",
       "</table>\n",
       "</div>"
      ],
      "text/plain": [
       "   index      0  sura_num\n",
       "0      0   6064         1\n",
       "1      1   8752         1\n",
       "2      2  13626         1\n",
       "3      3   9125         1\n",
       "4      4   8812         1\n",
       "5      5  12998         1\n",
       "6      6  10878         1\n",
       "7      7  27497         1"
      ]
     },
     "execution_count": 64,
     "metadata": {},
     "output_type": "execute_result"
    }
   ],
   "source": [
    "diff_time.reset_index(inplace=True)\n",
    "# diff_time.rename(columns={\n",
    "#     0: 'duration',\n",
    "#     'index': 'aya_num'\n",
    "# },inplace=True)\n",
    "diff_time"
   ]
  },
  {
   "cell_type": "code",
   "execution_count": 65,
   "metadata": {
    "ExecuteTime": {
     "end_time": "2020-01-12T08:46:16.815429Z",
     "start_time": "2020-01-12T08:46:16.807451Z"
    }
   },
   "outputs": [
    {
     "data": {
      "text/html": [
       "<div>\n",
       "<style scoped>\n",
       "    .dataframe tbody tr th:only-of-type {\n",
       "        vertical-align: middle;\n",
       "    }\n",
       "\n",
       "    .dataframe tbody tr th {\n",
       "        vertical-align: top;\n",
       "    }\n",
       "\n",
       "    .dataframe thead th {\n",
       "        text-align: right;\n",
       "    }\n",
       "</style>\n",
       "<table border=\"1\" class=\"dataframe\">\n",
       "  <thead>\n",
       "    <tr style=\"text-align: right;\">\n",
       "      <th></th>\n",
       "      <th>aya_num</th>\n",
       "      <th>duration</th>\n",
       "      <th>sura_num</th>\n",
       "    </tr>\n",
       "  </thead>\n",
       "  <tbody>\n",
       "    <tr>\n",
       "      <th>0</th>\n",
       "      <td>0</td>\n",
       "      <td>6064</td>\n",
       "      <td>1</td>\n",
       "    </tr>\n",
       "    <tr>\n",
       "      <th>1</th>\n",
       "      <td>1</td>\n",
       "      <td>8752</td>\n",
       "      <td>1</td>\n",
       "    </tr>\n",
       "    <tr>\n",
       "      <th>2</th>\n",
       "      <td>2</td>\n",
       "      <td>13626</td>\n",
       "      <td>1</td>\n",
       "    </tr>\n",
       "    <tr>\n",
       "      <th>3</th>\n",
       "      <td>3</td>\n",
       "      <td>9125</td>\n",
       "      <td>1</td>\n",
       "    </tr>\n",
       "    <tr>\n",
       "      <th>4</th>\n",
       "      <td>4</td>\n",
       "      <td>8812</td>\n",
       "      <td>1</td>\n",
       "    </tr>\n",
       "    <tr>\n",
       "      <th>5</th>\n",
       "      <td>5</td>\n",
       "      <td>12998</td>\n",
       "      <td>1</td>\n",
       "    </tr>\n",
       "    <tr>\n",
       "      <th>6</th>\n",
       "      <td>6</td>\n",
       "      <td>10878</td>\n",
       "      <td>1</td>\n",
       "    </tr>\n",
       "    <tr>\n",
       "      <th>7</th>\n",
       "      <td>7</td>\n",
       "      <td>27497</td>\n",
       "      <td>1</td>\n",
       "    </tr>\n",
       "  </tbody>\n",
       "</table>\n",
       "</div>"
      ],
      "text/plain": [
       "   aya_num  duration  sura_num\n",
       "0        0      6064         1\n",
       "1        1      8752         1\n",
       "2        2     13626         1\n",
       "3        3      9125         1\n",
       "4        4      8812         1\n",
       "5        5     12998         1\n",
       "6        6     10878         1\n",
       "7        7     27497         1"
      ]
     },
     "execution_count": 65,
     "metadata": {},
     "output_type": "execute_result"
    }
   ],
   "source": [
    "diff_time.rename(columns={\n",
    "    0: 'duration',\n",
    "    'index': 'aya_num'\n",
    "},inplace=True)\n",
    "diff_time"
   ]
  },
  {
   "cell_type": "code",
   "execution_count": 66,
   "metadata": {
    "ExecuteTime": {
     "end_time": "2020-01-12T08:47:45.790748Z",
     "start_time": "2020-01-12T08:47:45.786752Z"
    }
   },
   "outputs": [
    {
     "data": {
      "text/plain": [
       "0    1\n",
       "1    2\n",
       "2    3\n",
       "3    4\n",
       "4    5\n",
       "5    6\n",
       "6    7\n",
       "7    8\n",
       "Name: aya_num, dtype: int64"
      ]
     },
     "execution_count": 66,
     "metadata": {},
     "output_type": "execute_result"
    }
   ],
   "source": [
    "diff_time.aya_num.apply(lambda x:x+1)"
   ]
  },
  {
   "cell_type": "code",
   "execution_count": 68,
   "metadata": {
    "ExecuteTime": {
     "end_time": "2020-01-12T08:48:20.174730Z",
     "start_time": "2020-01-12T08:48:20.169744Z"
    }
   },
   "outputs": [
    {
     "data": {
      "text/plain": [
       "(8, 3)"
      ]
     },
     "execution_count": 68,
     "metadata": {},
     "output_type": "execute_result"
    }
   ],
   "source": [
    "diff_time.shape"
   ]
  },
  {
   "cell_type": "code",
   "execution_count": 69,
   "metadata": {
    "ExecuteTime": {
     "end_time": "2020-01-12T08:49:21.140346Z",
     "start_time": "2020-01-12T08:49:21.137354Z"
    }
   },
   "outputs": [],
   "source": [
    "# To fix excess aya (al-isti'atha) before fatiha\n",
    "if diff_time.shape[0]==7:\n",
    "    diff_time.aya_num=diff_time.aya_num.apply(lambda x:x+1)"
   ]
  },
  {
   "cell_type": "code",
   "execution_count": 70,
   "metadata": {
    "ExecuteTime": {
     "end_time": "2020-01-12T09:06:43.477629Z",
     "start_time": "2020-01-12T09:06:43.467656Z"
    }
   },
   "outputs": [],
   "source": [
    "suras_ayat={\n",
    "    1:7, 2:286, 3:200, 4:176, 5:120, 6:165, 7:206, 8:75, 9:129, 10:109, \n",
    "    11:123, 12:111, 13:43, 14:52, 15:99, 16:128, 17:111, 18:110, 19:98, \n",
    "    20:135, 21:112, 22:78, 23:118, 24:64, 25:77, 26:227, 27:93, 28:88, \n",
    "    29:69, 30:60, 31:34, 32:30, 33:73, 34:54, 35:45, 36:83, 37:182, \n",
    "    38:88, 39:75, 40:85, 41:54, 42:53, 43:89, 44:59, 45:37, 46:35, \n",
    "    47:38, 48:29, 49:18, 50:45, 51:60, 52:49, 53:62, 54:55, 55:78, \n",
    "    56:96, 57:29, 58:22, 59:24, 60:13, 61:14, 62:11, 63:11, 64:18, \n",
    "    65:12, 66:12, 67:30, 68:52, 69:52, 70:44, 71:28, 72:28, 73:20, \n",
    "    74:56, 75:40, 76:31, 77:50, 78:40, 79:46, 80:42, 81:29, 82:19, \n",
    "    83:36, 84:25, 85:22, 86:17, 87:19, 88:26, 89:30, 90:20, 91:15, \n",
    "    92:21, 93:11, 94:8, 95:8, 96:19, 97:5, 98:8, 99:8, 100:11, 101:11, \n",
    "    102:8, 103:3, 104:9, 105:5, 106:4, 107:7, 108:3, 109:6, 110:3, \n",
    "    111:5, 112:4, 113:5, 114:6,}"
   ]
  },
  {
   "cell_type": "code",
   "execution_count": 73,
   "metadata": {
    "ExecuteTime": {
     "end_time": "2020-01-12T09:10:15.810870Z",
     "start_time": "2020-01-12T09:10:15.803889Z"
    }
   },
   "outputs": [],
   "source": [
    "def get_ayat_durations(filename, sura_num, sura_max):\n",
    "    # test = pd.read_csv(archive.open('001.txt'), header=None, dtype=int)\n",
    "    test = pd.read_csv(filename, header=None, dtype=int)\n",
    "    diff_time = test.diff()\n",
    "    diff_time.iloc[0,0] = test.iloc[0,0]\n",
    "    diff_time=diff_time.astype(int)\n",
    "    diff_time['sura_num']=sura_num\n",
    "    diff_time.reset_index(inplace=True)\n",
    "    diff_time.rename(columns={\n",
    "        0: 'duration',\n",
    "        'index': 'aya_num'\n",
    "    },inplace=True)\n",
    "    # To fix excess aya (al-isti'atha) before fatiha\n",
    "    if diff_time.shape[0]==sura_max:\n",
    "        diff_time.aya_num=diff_time.aya_num.apply(lambda x:x+1)\n",
    "    return diff_time[['sura_num', 'aya_num', 'duration']]"
   ]
  },
  {
   "cell_type": "code",
   "execution_count": 78,
   "metadata": {
    "ExecuteTime": {
     "end_time": "2020-01-12T09:11:32.151706Z",
     "start_time": "2020-01-12T09:11:32.136746Z"
    }
   },
   "outputs": [
    {
     "data": {
      "text/html": [
       "<div>\n",
       "<style scoped>\n",
       "    .dataframe tbody tr th:only-of-type {\n",
       "        vertical-align: middle;\n",
       "    }\n",
       "\n",
       "    .dataframe tbody tr th {\n",
       "        vertical-align: top;\n",
       "    }\n",
       "\n",
       "    .dataframe thead th {\n",
       "        text-align: right;\n",
       "    }\n",
       "</style>\n",
       "<table border=\"1\" class=\"dataframe\">\n",
       "  <thead>\n",
       "    <tr style=\"text-align: right;\">\n",
       "      <th></th>\n",
       "      <th>sura_num</th>\n",
       "      <th>aya_num</th>\n",
       "      <th>duration</th>\n",
       "    </tr>\n",
       "  </thead>\n",
       "  <tbody>\n",
       "    <tr>\n",
       "      <th>0</th>\n",
       "      <td>114</td>\n",
       "      <td>0</td>\n",
       "      <td>9256</td>\n",
       "    </tr>\n",
       "    <tr>\n",
       "      <th>1</th>\n",
       "      <td>114</td>\n",
       "      <td>1</td>\n",
       "      <td>10126</td>\n",
       "    </tr>\n",
       "    <tr>\n",
       "      <th>2</th>\n",
       "      <td>114</td>\n",
       "      <td>2</td>\n",
       "      <td>8126</td>\n",
       "    </tr>\n",
       "    <tr>\n",
       "      <th>3</th>\n",
       "      <td>114</td>\n",
       "      <td>3</td>\n",
       "      <td>7688</td>\n",
       "    </tr>\n",
       "    <tr>\n",
       "      <th>4</th>\n",
       "      <td>114</td>\n",
       "      <td>4</td>\n",
       "      <td>13437</td>\n",
       "    </tr>\n",
       "    <tr>\n",
       "      <th>5</th>\n",
       "      <td>114</td>\n",
       "      <td>5</td>\n",
       "      <td>13623</td>\n",
       "    </tr>\n",
       "    <tr>\n",
       "      <th>6</th>\n",
       "      <td>114</td>\n",
       "      <td>6</td>\n",
       "      <td>9126</td>\n",
       "    </tr>\n",
       "  </tbody>\n",
       "</table>\n",
       "</div>"
      ],
      "text/plain": [
       "   sura_num  aya_num  duration\n",
       "0       114        0      9256\n",
       "1       114        1     10126\n",
       "2       114        2      8126\n",
       "3       114        3      7688\n",
       "4       114        4     13437\n",
       "5       114        5     13623\n",
       "6       114        6      9126"
      ]
     },
     "execution_count": 78,
     "metadata": {},
     "output_type": "execute_result"
    }
   ],
   "source": [
    "get_ayat_durations(archive.open('114.txt'), 114, 6)"
   ]
  },
  {
   "cell_type": "code",
   "execution_count": null,
   "metadata": {},
   "outputs": [],
   "source": []
  }
 ],
 "metadata": {
  "kernelspec": {
   "display_name": "Python 3",
   "language": "python",
   "name": "python3"
  },
  "language_info": {
   "codemirror_mode": {
    "name": "ipython",
    "version": 3
   },
   "file_extension": ".py",
   "mimetype": "text/x-python",
   "name": "python",
   "nbconvert_exporter": "python",
   "pygments_lexer": "ipython3",
   "version": "3.7.5"
  },
  "varInspector": {
   "cols": {
    "lenName": 16,
    "lenType": 16,
    "lenVar": 40
   },
   "kernels_config": {
    "python": {
     "delete_cmd_postfix": "",
     "delete_cmd_prefix": "del ",
     "library": "var_list.py",
     "varRefreshCmd": "print(var_dic_list())"
    },
    "r": {
     "delete_cmd_postfix": ") ",
     "delete_cmd_prefix": "rm(",
     "library": "var_list.r",
     "varRefreshCmd": "cat(var_dic_list()) "
    }
   },
   "types_to_exclude": [
    "module",
    "function",
    "builtin_function_or_method",
    "instance",
    "_Feature"
   ],
   "window_display": false
  }
 },
 "nbformat": 4,
 "nbformat_minor": 2
}
