{
 "cells": [
  {
   "cell_type": "code",
   "execution_count": 1,
   "metadata": {
    "ExecuteTime": {
     "end_time": "2020-12-06T22:13:32.203580Z",
     "start_time": "2020-12-06T22:13:31.504240Z"
    }
   },
   "outputs": [],
   "source": [
    "import os\n",
    "import pandas as pd\n",
    "# import zipfile\n",
    "import re"
   ]
  },
  {
   "cell_type": "code",
   "execution_count": 2,
   "metadata": {
    "ExecuteTime": {
     "end_time": "2020-12-06T22:17:06.556340Z",
     "start_time": "2020-12-06T22:17:06.552350Z"
    }
   },
   "outputs": [],
   "source": [
    "text_path = r'..\\Datasets\\QuranFullText'"
   ]
  },
  {
   "cell_type": "code",
   "execution_count": 3,
   "metadata": {
    "ExecuteTime": {
     "end_time": "2020-12-06T22:24:29.503022Z",
     "start_time": "2020-12-06T22:24:29.495013Z"
    }
   },
   "outputs": [],
   "source": [
    "quran_text = {\n",
    "    \"simple\": \"quran-simple.txt\",\n",
    "    \"enhanced\": \"quran-simple-enhanced.txt\",\n",
    "    \"min\": \"quran-simple-min.txt\",\n",
    "    \"simple_cln\": \"quran-simple-clean.txt\",\n",
    "    \"uthmani\": \"quran-uthmani.txt\",\n",
    "    \"uthmani_min\": \"quran-uthmani-min.txt\"\n",
    "}"
   ]
  },
  {
   "cell_type": "code",
   "execution_count": 5,
   "metadata": {
    "ExecuteTime": {
     "end_time": "2020-12-06T22:25:23.822338Z",
     "start_time": "2020-12-06T22:25:23.815384Z"
    }
   },
   "outputs": [
    {
     "data": {
      "text/plain": [
       "'..\\\\Datasets\\\\QuranFullText\\\\quran-simple.txt'"
      ]
     },
     "execution_count": 5,
     "metadata": {},
     "output_type": "execute_result"
    }
   ],
   "source": [
    "filename = os.path.join(text_path, quran_text[\"simple\"])\n",
    "filename"
   ]
  },
  {
   "cell_type": "code",
   "execution_count": 12,
   "metadata": {
    "ExecuteTime": {
     "end_time": "2020-12-06T22:34:36.583702Z",
     "start_time": "2020-12-06T22:34:36.541846Z"
    }
   },
   "outputs": [
    {
     "data": {
      "text/html": [
       "<div>\n",
       "<style scoped>\n",
       "    .dataframe tbody tr th:only-of-type {\n",
       "        vertical-align: middle;\n",
       "    }\n",
       "\n",
       "    .dataframe tbody tr th {\n",
       "        vertical-align: top;\n",
       "    }\n",
       "\n",
       "    .dataframe thead th {\n",
       "        text-align: right;\n",
       "    }\n",
       "</style>\n",
       "<table border=\"1\" class=\"dataframe\">\n",
       "  <thead>\n",
       "    <tr style=\"text-align: right;\">\n",
       "      <th></th>\n",
       "      <th>SuraNum</th>\n",
       "      <th>AyaNum</th>\n",
       "      <th>AyaText</th>\n",
       "    </tr>\n",
       "  </thead>\n",
       "  <tbody>\n",
       "    <tr>\n",
       "      <th>0</th>\n",
       "      <td>1</td>\n",
       "      <td>1</td>\n",
       "      <td>بِسْمِ اللَّهِ الرَّحْمَنِ الرَّحِيمِ</td>\n",
       "    </tr>\n",
       "    <tr>\n",
       "      <th>1</th>\n",
       "      <td>1</td>\n",
       "      <td>2</td>\n",
       "      <td>الْحَمْدُ لِلَّهِ رَبِّ الْعَالَمِينَ</td>\n",
       "    </tr>\n",
       "    <tr>\n",
       "      <th>2</th>\n",
       "      <td>1</td>\n",
       "      <td>3</td>\n",
       "      <td>الرَّحْمَنِ الرَّحِيمِ</td>\n",
       "    </tr>\n",
       "    <tr>\n",
       "      <th>3</th>\n",
       "      <td>1</td>\n",
       "      <td>4</td>\n",
       "      <td>مَالِكِ يَوْمِ الدِّينِ</td>\n",
       "    </tr>\n",
       "    <tr>\n",
       "      <th>4</th>\n",
       "      <td>1</td>\n",
       "      <td>5</td>\n",
       "      <td>إِيَّاكَ نَعْبُدُ وَإِيَّاكَ نَسْتَعِينُ</td>\n",
       "    </tr>\n",
       "  </tbody>\n",
       "</table>\n",
       "</div>"
      ],
      "text/plain": [
       "   SuraNum  AyaNum                                   AyaText\n",
       "0        1       1     بِسْمِ اللَّهِ الرَّحْمَنِ الرَّحِيمِ\n",
       "1        1       2     الْحَمْدُ لِلَّهِ رَبِّ الْعَالَمِينَ\n",
       "2        1       3                    الرَّحْمَنِ الرَّحِيمِ\n",
       "3        1       4                   مَالِكِ يَوْمِ الدِّينِ\n",
       "4        1       5  إِيَّاكَ نَعْبُدُ وَإِيَّاكَ نَسْتَعِينُ"
      ]
     },
     "metadata": {},
     "output_type": "display_data"
    },
    {
     "data": {
      "text/html": [
       "<div>\n",
       "<style scoped>\n",
       "    .dataframe tbody tr th:only-of-type {\n",
       "        vertical-align: middle;\n",
       "    }\n",
       "\n",
       "    .dataframe tbody tr th {\n",
       "        vertical-align: top;\n",
       "    }\n",
       "\n",
       "    .dataframe thead th {\n",
       "        text-align: right;\n",
       "    }\n",
       "</style>\n",
       "<table border=\"1\" class=\"dataframe\">\n",
       "  <thead>\n",
       "    <tr style=\"text-align: right;\">\n",
       "      <th></th>\n",
       "      <th>SuraNum</th>\n",
       "      <th>AyaNum</th>\n",
       "      <th>AyaText</th>\n",
       "    </tr>\n",
       "  </thead>\n",
       "  <tbody>\n",
       "    <tr>\n",
       "      <th>6231</th>\n",
       "      <td>114</td>\n",
       "      <td>2</td>\n",
       "      <td>مَلِكِ النَّاسِ</td>\n",
       "    </tr>\n",
       "    <tr>\n",
       "      <th>6232</th>\n",
       "      <td>114</td>\n",
       "      <td>3</td>\n",
       "      <td>إِلَهِ النَّاسِ</td>\n",
       "    </tr>\n",
       "    <tr>\n",
       "      <th>6233</th>\n",
       "      <td>114</td>\n",
       "      <td>4</td>\n",
       "      <td>مِنْ شَرِّ الْوَسْوَاسِ الْخَنَّاسِ</td>\n",
       "    </tr>\n",
       "    <tr>\n",
       "      <th>6234</th>\n",
       "      <td>114</td>\n",
       "      <td>5</td>\n",
       "      <td>الَّذِي يُوَسْوِسُ فِي صُدُورِ النَّاسِ</td>\n",
       "    </tr>\n",
       "    <tr>\n",
       "      <th>6235</th>\n",
       "      <td>114</td>\n",
       "      <td>6</td>\n",
       "      <td>مِنَ الْجِنَّةِ وَالنَّاسِ</td>\n",
       "    </tr>\n",
       "  </tbody>\n",
       "</table>\n",
       "</div>"
      ],
      "text/plain": [
       "      SuraNum  AyaNum                                  AyaText\n",
       "6231      114       2                          مَلِكِ النَّاسِ\n",
       "6232      114       3                          إِلَهِ النَّاسِ\n",
       "6233      114       4      مِنْ شَرِّ الْوَسْوَاسِ الْخَنَّاسِ\n",
       "6234      114       5  الَّذِي يُوَسْوِسُ فِي صُدُورِ النَّاسِ\n",
       "6235      114       6               مِنَ الْجِنَّةِ وَالنَّاسِ"
      ]
     },
     "metadata": {},
     "output_type": "display_data"
    }
   ],
   "source": [
    "ds= pd.read_csv(filename, \n",
    "                nrows=6236, \n",
    "                delimiter=\"|\",\n",
    "                names=[\"SuraNum\", \"AyaNum\", \"AyaText\"],\n",
    "                )\n",
    "display(ds.head(), ds.tail())"
   ]
  },
  {
   "cell_type": "code",
   "execution_count": 37,
   "metadata": {
    "ExecuteTime": {
     "end_time": "2020-12-06T22:52:29.448473Z",
     "start_time": "2020-12-06T22:52:29.429524Z"
    }
   },
   "outputs": [
    {
     "data": {
      "text/plain": [
       "0    بِسْمِ اللَّهِ الرَّحْمَنِ الرَّحِيمِ\n",
       "Name: AyaText, dtype: object"
      ]
     },
     "execution_count": 37,
     "metadata": {},
     "output_type": "execute_result"
    }
   ],
   "source": [
    "# Testing\n",
    "aya = ds[(ds.SuraNum==1) & (ds.AyaNum==1)][\"AyaText\"]\n",
    "aya"
   ]
  },
  {
   "cell_type": "code",
   "execution_count": 26,
   "metadata": {
    "ExecuteTime": {
     "end_time": "2020-12-06T22:41:42.902636Z",
     "start_time": "2020-12-06T22:41:42.894650Z"
    }
   },
   "outputs": [
    {
     "data": {
      "text/plain": [
       "'بِسْمِ اللَّهِ الرَّحْمَنِ الرَّحِيمِ'"
      ]
     },
     "execution_count": 26,
     "metadata": {},
     "output_type": "execute_result"
    }
   ],
   "source": [
    "aya.iloc[0]"
   ]
  },
  {
   "cell_type": "code",
   "execution_count": 38,
   "metadata": {
    "ExecuteTime": {
     "end_time": "2020-12-06T22:53:53.428436Z",
     "start_time": "2020-12-06T22:53:53.414475Z"
    }
   },
   "outputs": [
    {
     "data": {
      "text/plain": [
       "'بِسْمِ اللَّهِ الرَّحْمَنِ الرَّحِيمِ'"
      ]
     },
     "execution_count": 38,
     "metadata": {},
     "output_type": "execute_result"
    }
   ],
   "source": [
    "sura_num = 1\n",
    "aya_num = 1\n",
    "aya = ds[(ds.SuraNum == sura_num) & (ds.AyaNum == aya_num)][\"AyaText\"].iloc[0]\n",
    "aya"
   ]
  },
  {
   "cell_type": "code",
   "execution_count": 29,
   "metadata": {
    "ExecuteTime": {
     "end_time": "2020-12-06T22:46:46.466398Z",
     "start_time": "2020-12-06T22:46:46.453432Z"
    }
   },
   "outputs": [
    {
     "data": {
      "text/plain": [
       "['بِسْمِ', 'اللَّهِ', 'الرَّحْمَنِ', 'الرَّحِيمِ']"
      ]
     },
     "execution_count": 29,
     "metadata": {},
     "output_type": "execute_result"
    }
   ],
   "source": [
    "words = aya.split(' ')\n",
    "words"
   ]
  },
  {
   "cell_type": "code",
   "execution_count": 30,
   "metadata": {
    "ExecuteTime": {
     "end_time": "2020-12-06T22:46:57.263647Z",
     "start_time": "2020-12-06T22:46:57.253647Z"
    }
   },
   "outputs": [
    {
     "data": {
      "text/plain": [
       "'بِسْمِ'"
      ]
     },
     "execution_count": 30,
     "metadata": {},
     "output_type": "execute_result"
    }
   ],
   "source": [
    "words[0]"
   ]
  },
  {
   "cell_type": "code",
   "execution_count": 36,
   "metadata": {
    "ExecuteTime": {
     "end_time": "2020-12-06T22:50:26.339292Z",
     "start_time": "2020-12-06T22:50:26.333288Z"
    }
   },
   "outputs": [
    {
     "data": {
      "text/plain": [
       "[1, 2, 3, 4]"
      ]
     },
     "execution_count": 36,
     "metadata": {},
     "output_type": "execute_result"
    }
   ],
   "source": [
    "words_len = len(words)\n",
    "words_count = list(range(words_len + 1))[1:]\n",
    "words_count"
   ]
  },
  {
   "cell_type": "code",
   "execution_count": 39,
   "metadata": {
    "ExecuteTime": {
     "end_time": "2020-12-06T22:58:23.110266Z",
     "start_time": "2020-12-06T22:58:23.104284Z"
    }
   },
   "outputs": [
    {
     "data": {
      "text/plain": [
       "([1, 1, 1, 1], [1, 1, 1, 1])"
      ]
     },
     "execution_count": 39,
     "metadata": {},
     "output_type": "execute_result"
    }
   ],
   "source": [
    "sura_list= [sura_num]*words_len\n",
    "aya_num_list= [aya_num]*words_len\n",
    "sura_list, aya_num_list"
   ]
  },
  {
   "cell_type": "code",
   "execution_count": 44,
   "metadata": {
    "ExecuteTime": {
     "end_time": "2020-12-06T23:09:54.185305Z",
     "start_time": "2020-12-06T23:09:54.174305Z"
    }
   },
   "outputs": [],
   "source": [
    "def get_aya_lists(sura_num, aya_num):\n",
    "    aya = ds[(ds.SuraNum == sura_num)\n",
    "             & (ds.AyaNum == aya_num)][\"AyaText\"].iloc[0]\n",
    "    words = aya.split(' ')\n",
    "    words_len = len(words)\n",
    "    words_count = list(range(words_len + 1))[1:]\n",
    "    sura_list = [sura_num] * words_len\n",
    "    aya_num_list = [aya_num] * words_len\n",
    "    return [sura_list, aya_num_list, words_count, words]"
   ]
  },
  {
   "cell_type": "code",
   "execution_count": 45,
   "metadata": {
    "ExecuteTime": {
     "end_time": "2020-12-06T23:09:54.729042Z",
     "start_time": "2020-12-06T23:09:54.710092Z"
    }
   },
   "outputs": [
    {
     "data": {
      "text/plain": [
       "[[1, 1, 1, 1],\n",
       " [2, 2, 2, 2],\n",
       " [1, 2, 3, 4],\n",
       " ['الْحَمْدُ', 'لِلَّهِ', 'رَبِّ', 'الْعَالَمِينَ']]"
      ]
     },
     "execution_count": 45,
     "metadata": {},
     "output_type": "execute_result"
    }
   ],
   "source": [
    "get_aya_lists(1, 2)"
   ]
  },
  {
   "cell_type": "code",
   "execution_count": 48,
   "metadata": {
    "ExecuteTime": {
     "end_time": "2020-12-06T23:13:40.128904Z",
     "start_time": "2020-12-06T23:13:40.109955Z"
    }
   },
   "outputs": [
    {
     "data": {
      "text/html": [
       "<div>\n",
       "<style scoped>\n",
       "    .dataframe tbody tr th:only-of-type {\n",
       "        vertical-align: middle;\n",
       "    }\n",
       "\n",
       "    .dataframe tbody tr th {\n",
       "        vertical-align: top;\n",
       "    }\n",
       "\n",
       "    .dataframe thead th {\n",
       "        text-align: right;\n",
       "    }\n",
       "</style>\n",
       "<table border=\"1\" class=\"dataframe\">\n",
       "  <thead>\n",
       "    <tr style=\"text-align: right;\">\n",
       "      <th></th>\n",
       "      <th>sura_num</th>\n",
       "      <th>aya_num</th>\n",
       "      <th>word_num</th>\n",
       "      <th>word_text</th>\n",
       "    </tr>\n",
       "  </thead>\n",
       "  <tbody>\n",
       "    <tr>\n",
       "      <th>0</th>\n",
       "      <td>1</td>\n",
       "      <td>2</td>\n",
       "      <td>1</td>\n",
       "      <td>الْحَمْدُ</td>\n",
       "    </tr>\n",
       "    <tr>\n",
       "      <th>1</th>\n",
       "      <td>1</td>\n",
       "      <td>2</td>\n",
       "      <td>2</td>\n",
       "      <td>لِلَّهِ</td>\n",
       "    </tr>\n",
       "    <tr>\n",
       "      <th>2</th>\n",
       "      <td>1</td>\n",
       "      <td>2</td>\n",
       "      <td>3</td>\n",
       "      <td>رَبِّ</td>\n",
       "    </tr>\n",
       "    <tr>\n",
       "      <th>3</th>\n",
       "      <td>1</td>\n",
       "      <td>2</td>\n",
       "      <td>4</td>\n",
       "      <td>الْعَالَمِينَ</td>\n",
       "    </tr>\n",
       "  </tbody>\n",
       "</table>\n",
       "</div>"
      ],
      "text/plain": [
       "  sura_num aya_num word_num      word_text\n",
       "0        1       2        1      الْحَمْدُ\n",
       "1        1       2        2        لِلَّهِ\n",
       "2        1       2        3          رَبِّ\n",
       "3        1       2        4  الْعَالَمِينَ"
      ]
     },
     "execution_count": 48,
     "metadata": {},
     "output_type": "execute_result"
    }
   ],
   "source": [
    "aya_df = pd.DataFrame(get_aya_lists(1, 2),\n",
    "                      index=[\"sura_num\", \"aya_num\", \"word_num\", \"word_text\"]).T\n",
    "aya_df"
   ]
  },
  {
   "cell_type": "code",
   "execution_count": 49,
   "metadata": {
    "ExecuteTime": {
     "end_time": "2020-12-06T23:14:42.038286Z",
     "start_time": "2020-12-06T23:14:42.032330Z"
    }
   },
   "outputs": [],
   "source": [
    "def get_aya_df(sura_num, aya_num):\n",
    "    return pd.DataFrame(get_aya_lists(sura_num, aya_num),\n",
    "                      index=[\"sura_num\", \"aya_num\", \"word_num\", \"word_text\"]).T"
   ]
  },
  {
   "cell_type": "code",
   "execution_count": 50,
   "metadata": {
    "ExecuteTime": {
     "end_time": "2020-12-06T23:15:04.013251Z",
     "start_time": "2020-12-06T23:15:03.996296Z"
    }
   },
   "outputs": [
    {
     "data": {
      "text/html": [
       "<div>\n",
       "<style scoped>\n",
       "    .dataframe tbody tr th:only-of-type {\n",
       "        vertical-align: middle;\n",
       "    }\n",
       "\n",
       "    .dataframe tbody tr th {\n",
       "        vertical-align: top;\n",
       "    }\n",
       "\n",
       "    .dataframe thead th {\n",
       "        text-align: right;\n",
       "    }\n",
       "</style>\n",
       "<table border=\"1\" class=\"dataframe\">\n",
       "  <thead>\n",
       "    <tr style=\"text-align: right;\">\n",
       "      <th></th>\n",
       "      <th>sura_num</th>\n",
       "      <th>aya_num</th>\n",
       "      <th>word_num</th>\n",
       "      <th>word_text</th>\n",
       "    </tr>\n",
       "  </thead>\n",
       "  <tbody>\n",
       "    <tr>\n",
       "      <th>0</th>\n",
       "      <td>1</td>\n",
       "      <td>5</td>\n",
       "      <td>1</td>\n",
       "      <td>إِيَّاكَ</td>\n",
       "    </tr>\n",
       "    <tr>\n",
       "      <th>1</th>\n",
       "      <td>1</td>\n",
       "      <td>5</td>\n",
       "      <td>2</td>\n",
       "      <td>نَعْبُدُ</td>\n",
       "    </tr>\n",
       "    <tr>\n",
       "      <th>2</th>\n",
       "      <td>1</td>\n",
       "      <td>5</td>\n",
       "      <td>3</td>\n",
       "      <td>وَإِيَّاكَ</td>\n",
       "    </tr>\n",
       "    <tr>\n",
       "      <th>3</th>\n",
       "      <td>1</td>\n",
       "      <td>5</td>\n",
       "      <td>4</td>\n",
       "      <td>نَسْتَعِينُ</td>\n",
       "    </tr>\n",
       "  </tbody>\n",
       "</table>\n",
       "</div>"
      ],
      "text/plain": [
       "  sura_num aya_num word_num    word_text\n",
       "0        1       5        1     إِيَّاكَ\n",
       "1        1       5        2     نَعْبُدُ\n",
       "2        1       5        3   وَإِيَّاكَ\n",
       "3        1       5        4  نَسْتَعِينُ"
      ]
     },
     "execution_count": 50,
     "metadata": {},
     "output_type": "execute_result"
    }
   ],
   "source": [
    "get_aya_df(1, 5)"
   ]
  },
  {
   "cell_type": "code",
   "execution_count": 51,
   "metadata": {
    "ExecuteTime": {
     "end_time": "2020-12-06T23:17:03.386093Z",
     "start_time": "2020-12-06T23:17:03.373140Z"
    }
   },
   "outputs": [
    {
     "data": {
      "text/html": [
       "<div>\n",
       "<style scoped>\n",
       "    .dataframe tbody tr th:only-of-type {\n",
       "        vertical-align: middle;\n",
       "    }\n",
       "\n",
       "    .dataframe tbody tr th {\n",
       "        vertical-align: top;\n",
       "    }\n",
       "\n",
       "    .dataframe thead th {\n",
       "        text-align: right;\n",
       "    }\n",
       "</style>\n",
       "<table border=\"1\" class=\"dataframe\">\n",
       "  <thead>\n",
       "    <tr style=\"text-align: right;\">\n",
       "      <th></th>\n",
       "      <th>sura_num</th>\n",
       "      <th>aya_num</th>\n",
       "      <th>word_num</th>\n",
       "      <th>word_text</th>\n",
       "    </tr>\n",
       "  </thead>\n",
       "  <tbody>\n",
       "    <tr>\n",
       "      <th>0</th>\n",
       "      <td>1</td>\n",
       "      <td>2</td>\n",
       "      <td>1</td>\n",
       "      <td>الْحَمْدُ</td>\n",
       "    </tr>\n",
       "    <tr>\n",
       "      <th>1</th>\n",
       "      <td>1</td>\n",
       "      <td>2</td>\n",
       "      <td>2</td>\n",
       "      <td>لِلَّهِ</td>\n",
       "    </tr>\n",
       "    <tr>\n",
       "      <th>2</th>\n",
       "      <td>1</td>\n",
       "      <td>2</td>\n",
       "      <td>3</td>\n",
       "      <td>رَبِّ</td>\n",
       "    </tr>\n",
       "    <tr>\n",
       "      <th>3</th>\n",
       "      <td>1</td>\n",
       "      <td>2</td>\n",
       "      <td>4</td>\n",
       "      <td>الْعَالَمِينَ</td>\n",
       "    </tr>\n",
       "    <tr>\n",
       "      <th>0</th>\n",
       "      <td>1</td>\n",
       "      <td>3</td>\n",
       "      <td>1</td>\n",
       "      <td>الرَّحْمَنِ</td>\n",
       "    </tr>\n",
       "    <tr>\n",
       "      <th>1</th>\n",
       "      <td>1</td>\n",
       "      <td>3</td>\n",
       "      <td>2</td>\n",
       "      <td>الرَّحِيمِ</td>\n",
       "    </tr>\n",
       "  </tbody>\n",
       "</table>\n",
       "</div>"
      ],
      "text/plain": [
       "  sura_num aya_num word_num      word_text\n",
       "0        1       2        1      الْحَمْدُ\n",
       "1        1       2        2        لِلَّهِ\n",
       "2        1       2        3          رَبِّ\n",
       "3        1       2        4  الْعَالَمِينَ\n",
       "0        1       3        1    الرَّحْمَنِ\n",
       "1        1       3        2     الرَّحِيمِ"
      ]
     },
     "execution_count": 51,
     "metadata": {},
     "output_type": "execute_result"
    }
   ],
   "source": [
    "pd.concat([get_aya_df(1, 2), get_aya_df(1, 3)])"
   ]
  },
  {
   "cell_type": "code",
   "execution_count": 56,
   "metadata": {
    "ExecuteTime": {
     "end_time": "2020-12-06T23:30:35.992718Z",
     "start_time": "2020-12-06T23:30:35.986707Z"
    }
   },
   "outputs": [
    {
     "data": {
      "text/plain": [
       "286"
      ]
     },
     "execution_count": 56,
     "metadata": {},
     "output_type": "execute_result"
    }
   ],
   "source": [
    "# getting number of ayat of a sura\n",
    "sura_num = 2\n",
    "ds[(ds.SuraNum == sura_num)].head()\n",
    "sura_ayas = ds[(ds.SuraNum == sura_num)]\n",
    "sura_ayas.AyaNum.max()"
   ]
  },
  {
   "cell_type": "code",
   "execution_count": 58,
   "metadata": {
    "ExecuteTime": {
     "end_time": "2020-12-06T23:33:27.867161Z",
     "start_time": "2020-12-06T23:33:27.763441Z"
    }
   },
   "outputs": [
    {
     "name": "stdout",
     "output_type": "stream",
     "text": [
      "1 7 * 2 286 * 3 200 * 4 176 * 5 120 * 6 165 * 7 206 * 8 75 * 9 129 * 10 109 * 11 123 * 12 111 * 13 43 * 14 52 * 15 99 * 16 128 * 17 111 * 18 110 * 19 98 * 20 135 * 21 112 * 22 78 * 23 118 * 24 64 * 25 77 * 26 227 * 27 93 * 28 88 * 29 69 * 30 60 * 31 34 * 32 30 * 33 73 * 34 54 * 35 45 * 36 83 * 37 182 * 38 88 * 39 75 * 40 85 * 41 54 * 42 53 * 43 89 * 44 59 * 45 37 * 46 35 * 47 38 * 48 29 * 49 18 * 50 45 * 51 60 * 52 49 * 53 62 * 54 55 * 55 78 * 56 96 * 57 29 * 58 22 * 59 24 * 60 13 * 61 14 * 62 11 * 63 11 * 64 18 * 65 12 * 66 12 * 67 30 * 68 52 * 69 52 * 70 44 * 71 28 * 72 28 * 73 20 * 74 56 * 75 40 * 76 31 * 77 50 * 78 40 * 79 46 * 80 42 * 81 29 * 82 19 * 83 36 * 84 25 * 85 22 * 86 17 * 87 19 * 88 26 * 89 30 * 90 20 * 91 15 * 92 21 * 93 11 * 94 8 * 95 8 * 96 19 * 97 5 * 98 8 * 99 8 * 100 11 * 101 11 * 102 8 * 103 3 * 104 9 * 105 5 * 106 4 * 107 7 * 108 3 * 109 6 * 110 3 * 111 5 * 112 4 * 113 5 * 114 6 * "
     ]
    }
   ],
   "source": [
    "# Creating the final data set\n",
    "\n",
    "for sura_num in range(1, 115):\n",
    "    sura_ayas = ds[(ds.SuraNum == sura_num)]\n",
    "    num_ayas = sura_ayas.AyaNum.max()\n",
    "    print(sura_num, num_ayas, end=\" * \")"
   ]
  },
  {
   "cell_type": "code",
   "execution_count": 78,
   "metadata": {
    "ExecuteTime": {
     "end_time": "2020-12-07T00:28:07.869022Z",
     "start_time": "2020-12-07T00:28:07.856052Z"
    }
   },
   "outputs": [],
   "source": [
    "# Creating the final data set\n",
    "def get_full_dataset():\n",
    "    words_gross_list = []\n",
    "    for sura_num in range(1, 115):\n",
    "        sura_ayas = ds[(ds.SuraNum == sura_num)]\n",
    "        num_ayas = sura_ayas.AyaNum.max()\n",
    "        print(sura_num, end=\">\")\n",
    "        for aya_num in range(1, num_ayas + 1):\n",
    "            words_gross_list.append(get_aya_df(sura_num, aya_num))\n",
    "            pass\n",
    "        pass\n",
    "    print()\n",
    "    words_df = pd.concat(words_gross_list)\n",
    "    print(\"*Done*\")\n",
    "    # to free the memory\n",
    "    words_gross_list=[]\n",
    "    return words_df"
   ]
  },
  {
   "cell_type": "code",
   "execution_count": 79,
   "metadata": {
    "ExecuteTime": {
     "end_time": "2020-12-07T00:28:23.467072Z",
     "start_time": "2020-12-07T00:28:12.104389Z"
    }
   },
   "outputs": [
    {
     "name": "stdout",
     "output_type": "stream",
     "text": [
      "1>2>3>4>5>6>7>8>9>10>11>12>13>14>15>16>17>18>19>20>21>22>23>24>25>26>27>28>29>30>31>32>33>34>35>36>37>38>39>40>41>42>43>44>45>46>47>48>49>50>51>52>53>54>55>56>57>58>59>60>61>62>63>64>65>66>67>68>69>70>71>72>73>74>75>76>77>78>79>80>81>82>83>84>85>86>87>88>89>90>91>92>93>94>95>96>97>98>99>100>101>102>103>104>105>106>107>108>109>110>111>112>113>114>\n",
      "*Done*\n"
     ]
    }
   ],
   "source": [
    "words_df = get_full_dataset()"
   ]
  },
  {
   "cell_type": "code",
   "execution_count": 80,
   "metadata": {
    "ExecuteTime": {
     "end_time": "2020-12-07T00:28:43.263103Z",
     "start_time": "2020-12-07T00:28:43.197322Z"
    }
   },
   "outputs": [
    {
     "data": {
      "text/html": [
       "<div>\n",
       "<style scoped>\n",
       "    .dataframe tbody tr th:only-of-type {\n",
       "        vertical-align: middle;\n",
       "    }\n",
       "\n",
       "    .dataframe tbody tr th {\n",
       "        vertical-align: top;\n",
       "    }\n",
       "\n",
       "    .dataframe thead th {\n",
       "        text-align: right;\n",
       "    }\n",
       "</style>\n",
       "<table border=\"1\" class=\"dataframe\">\n",
       "  <thead>\n",
       "    <tr style=\"text-align: right;\">\n",
       "      <th></th>\n",
       "      <th>sura_num</th>\n",
       "      <th>aya_num</th>\n",
       "      <th>word_num</th>\n",
       "      <th>word_text</th>\n",
       "    </tr>\n",
       "  </thead>\n",
       "  <tbody>\n",
       "    <tr>\n",
       "      <th>count</th>\n",
       "      <td>77793</td>\n",
       "      <td>77793</td>\n",
       "      <td>77793</td>\n",
       "      <td>77793</td>\n",
       "    </tr>\n",
       "    <tr>\n",
       "      <th>unique</th>\n",
       "      <td>114</td>\n",
       "      <td>286</td>\n",
       "      <td>129</td>\n",
       "      <td>17574</td>\n",
       "    </tr>\n",
       "    <tr>\n",
       "      <th>top</th>\n",
       "      <td>2</td>\n",
       "      <td>7</td>\n",
       "      <td>1</td>\n",
       "      <td>مِنْ</td>\n",
       "    </tr>\n",
       "    <tr>\n",
       "      <th>freq</th>\n",
       "      <td>6140</td>\n",
       "      <td>1161</td>\n",
       "      <td>6236</td>\n",
       "      <td>1673</td>\n",
       "    </tr>\n",
       "  </tbody>\n",
       "</table>\n",
       "</div>"
      ],
      "text/plain": [
       "        sura_num  aya_num  word_num word_text\n",
       "count      77793    77793     77793     77793\n",
       "unique       114      286       129     17574\n",
       "top            2        7         1      مِنْ\n",
       "freq        6140     1161      6236      1673"
      ]
     },
     "execution_count": 80,
     "metadata": {},
     "output_type": "execute_result"
    }
   ],
   "source": [
    "words_df.describe()"
   ]
  },
  {
   "cell_type": "code",
   "execution_count": 81,
   "metadata": {
    "ExecuteTime": {
     "end_time": "2020-12-07T00:28:55.321703Z",
     "start_time": "2020-12-07T00:28:55.296770Z"
    }
   },
   "outputs": [
    {
     "name": "stdout",
     "output_type": "stream",
     "text": [
      "<class 'pandas.core.frame.DataFrame'>\n",
      "Int64Index: 77793 entries, 0 to 2\n",
      "Data columns (total 4 columns):\n",
      " #   Column     Non-Null Count  Dtype \n",
      "---  ------     --------------  ----- \n",
      " 0   sura_num   77793 non-null  object\n",
      " 1   aya_num    77793 non-null  object\n",
      " 2   word_num   77793 non-null  object\n",
      " 3   word_text  77793 non-null  object\n",
      "dtypes: object(4)\n",
      "memory usage: 3.0+ MB\n"
     ]
    }
   ],
   "source": [
    "words_df.info()"
   ]
  },
  {
   "cell_type": "code",
   "execution_count": 82,
   "metadata": {
    "ExecuteTime": {
     "end_time": "2020-12-07T00:29:01.767394Z",
     "start_time": "2020-12-07T00:29:01.759420Z"
    }
   },
   "outputs": [
    {
     "data": {
      "text/html": [
       "<div>\n",
       "<style scoped>\n",
       "    .dataframe tbody tr th:only-of-type {\n",
       "        vertical-align: middle;\n",
       "    }\n",
       "\n",
       "    .dataframe tbody tr th {\n",
       "        vertical-align: top;\n",
       "    }\n",
       "\n",
       "    .dataframe thead th {\n",
       "        text-align: right;\n",
       "    }\n",
       "</style>\n",
       "<table border=\"1\" class=\"dataframe\">\n",
       "  <thead>\n",
       "    <tr style=\"text-align: right;\">\n",
       "      <th></th>\n",
       "      <th>sura_num</th>\n",
       "      <th>aya_num</th>\n",
       "      <th>word_num</th>\n",
       "      <th>word_text</th>\n",
       "    </tr>\n",
       "  </thead>\n",
       "  <tbody>\n",
       "    <tr>\n",
       "      <th>0</th>\n",
       "      <td>1</td>\n",
       "      <td>1</td>\n",
       "      <td>1</td>\n",
       "      <td>بِسْمِ</td>\n",
       "    </tr>\n",
       "    <tr>\n",
       "      <th>1</th>\n",
       "      <td>1</td>\n",
       "      <td>1</td>\n",
       "      <td>2</td>\n",
       "      <td>اللَّهِ</td>\n",
       "    </tr>\n",
       "    <tr>\n",
       "      <th>2</th>\n",
       "      <td>1</td>\n",
       "      <td>1</td>\n",
       "      <td>3</td>\n",
       "      <td>الرَّحْمَنِ</td>\n",
       "    </tr>\n",
       "    <tr>\n",
       "      <th>3</th>\n",
       "      <td>1</td>\n",
       "      <td>1</td>\n",
       "      <td>4</td>\n",
       "      <td>الرَّحِيمِ</td>\n",
       "    </tr>\n",
       "    <tr>\n",
       "      <th>0</th>\n",
       "      <td>1</td>\n",
       "      <td>2</td>\n",
       "      <td>1</td>\n",
       "      <td>الْحَمْدُ</td>\n",
       "    </tr>\n",
       "  </tbody>\n",
       "</table>\n",
       "</div>"
      ],
      "text/plain": [
       "  sura_num aya_num word_num    word_text\n",
       "0        1       1        1       بِسْمِ\n",
       "1        1       1        2      اللَّهِ\n",
       "2        1       1        3  الرَّحْمَنِ\n",
       "3        1       1        4   الرَّحِيمِ\n",
       "0        1       2        1    الْحَمْدُ"
      ]
     },
     "execution_count": 82,
     "metadata": {},
     "output_type": "execute_result"
    }
   ],
   "source": [
    "words_df.head()"
   ]
  },
  {
   "cell_type": "code",
   "execution_count": 83,
   "metadata": {
    "ExecuteTime": {
     "end_time": "2020-12-07T00:29:07.454310Z",
     "start_time": "2020-12-07T00:29:07.440321Z"
    }
   },
   "outputs": [
    {
     "data": {
      "text/html": [
       "<div>\n",
       "<style scoped>\n",
       "    .dataframe tbody tr th:only-of-type {\n",
       "        vertical-align: middle;\n",
       "    }\n",
       "\n",
       "    .dataframe tbody tr th {\n",
       "        vertical-align: top;\n",
       "    }\n",
       "\n",
       "    .dataframe thead th {\n",
       "        text-align: right;\n",
       "    }\n",
       "</style>\n",
       "<table border=\"1\" class=\"dataframe\">\n",
       "  <thead>\n",
       "    <tr style=\"text-align: right;\">\n",
       "      <th></th>\n",
       "      <th>index</th>\n",
       "      <th>sura_num</th>\n",
       "      <th>aya_num</th>\n",
       "      <th>word_num</th>\n",
       "      <th>word_text</th>\n",
       "    </tr>\n",
       "  </thead>\n",
       "  <tbody>\n",
       "    <tr>\n",
       "      <th>0</th>\n",
       "      <td>0</td>\n",
       "      <td>1</td>\n",
       "      <td>1</td>\n",
       "      <td>1</td>\n",
       "      <td>بِسْمِ</td>\n",
       "    </tr>\n",
       "    <tr>\n",
       "      <th>1</th>\n",
       "      <td>1</td>\n",
       "      <td>1</td>\n",
       "      <td>1</td>\n",
       "      <td>2</td>\n",
       "      <td>اللَّهِ</td>\n",
       "    </tr>\n",
       "    <tr>\n",
       "      <th>2</th>\n",
       "      <td>2</td>\n",
       "      <td>1</td>\n",
       "      <td>1</td>\n",
       "      <td>3</td>\n",
       "      <td>الرَّحْمَنِ</td>\n",
       "    </tr>\n",
       "    <tr>\n",
       "      <th>3</th>\n",
       "      <td>3</td>\n",
       "      <td>1</td>\n",
       "      <td>1</td>\n",
       "      <td>4</td>\n",
       "      <td>الرَّحِيمِ</td>\n",
       "    </tr>\n",
       "    <tr>\n",
       "      <th>4</th>\n",
       "      <td>0</td>\n",
       "      <td>1</td>\n",
       "      <td>2</td>\n",
       "      <td>1</td>\n",
       "      <td>الْحَمْدُ</td>\n",
       "    </tr>\n",
       "    <tr>\n",
       "      <th>...</th>\n",
       "      <td>...</td>\n",
       "      <td>...</td>\n",
       "      <td>...</td>\n",
       "      <td>...</td>\n",
       "      <td>...</td>\n",
       "    </tr>\n",
       "    <tr>\n",
       "      <th>77788</th>\n",
       "      <td>3</td>\n",
       "      <td>114</td>\n",
       "      <td>5</td>\n",
       "      <td>4</td>\n",
       "      <td>صُدُورِ</td>\n",
       "    </tr>\n",
       "    <tr>\n",
       "      <th>77789</th>\n",
       "      <td>4</td>\n",
       "      <td>114</td>\n",
       "      <td>5</td>\n",
       "      <td>5</td>\n",
       "      <td>النَّاسِ</td>\n",
       "    </tr>\n",
       "    <tr>\n",
       "      <th>77790</th>\n",
       "      <td>0</td>\n",
       "      <td>114</td>\n",
       "      <td>6</td>\n",
       "      <td>1</td>\n",
       "      <td>مِنَ</td>\n",
       "    </tr>\n",
       "    <tr>\n",
       "      <th>77791</th>\n",
       "      <td>1</td>\n",
       "      <td>114</td>\n",
       "      <td>6</td>\n",
       "      <td>2</td>\n",
       "      <td>الْجِنَّةِ</td>\n",
       "    </tr>\n",
       "    <tr>\n",
       "      <th>77792</th>\n",
       "      <td>2</td>\n",
       "      <td>114</td>\n",
       "      <td>6</td>\n",
       "      <td>3</td>\n",
       "      <td>وَالنَّاسِ</td>\n",
       "    </tr>\n",
       "  </tbody>\n",
       "</table>\n",
       "<p>77793 rows × 5 columns</p>\n",
       "</div>"
      ],
      "text/plain": [
       "       index sura_num aya_num word_num    word_text\n",
       "0          0        1       1        1       بِسْمِ\n",
       "1          1        1       1        2      اللَّهِ\n",
       "2          2        1       1        3  الرَّحْمَنِ\n",
       "3          3        1       1        4   الرَّحِيمِ\n",
       "4          0        1       2        1    الْحَمْدُ\n",
       "...      ...      ...     ...      ...          ...\n",
       "77788      3      114       5        4      صُدُورِ\n",
       "77789      4      114       5        5     النَّاسِ\n",
       "77790      0      114       6        1         مِنَ\n",
       "77791      1      114       6        2   الْجِنَّةِ\n",
       "77792      2      114       6        3   وَالنَّاسِ\n",
       "\n",
       "[77793 rows x 5 columns]"
      ]
     },
     "execution_count": 83,
     "metadata": {},
     "output_type": "execute_result"
    }
   ],
   "source": [
    "words_df.reset_index()"
   ]
  },
  {
   "cell_type": "code",
   "execution_count": 66,
   "metadata": {
    "ExecuteTime": {
     "end_time": "2020-12-07T00:06:23.121063Z",
     "start_time": "2020-12-07T00:06:23.091143Z"
    }
   },
   "outputs": [
    {
     "data": {
      "text/html": [
       "<div>\n",
       "<style scoped>\n",
       "    .dataframe tbody tr th:only-of-type {\n",
       "        vertical-align: middle;\n",
       "    }\n",
       "\n",
       "    .dataframe tbody tr th {\n",
       "        vertical-align: top;\n",
       "    }\n",
       "\n",
       "    .dataframe thead th {\n",
       "        text-align: right;\n",
       "    }\n",
       "</style>\n",
       "<table border=\"1\" class=\"dataframe\">\n",
       "  <thead>\n",
       "    <tr style=\"text-align: right;\">\n",
       "      <th></th>\n",
       "      <th>index</th>\n",
       "      <th>sura_num</th>\n",
       "      <th>aya_num</th>\n",
       "      <th>word_num</th>\n",
       "      <th>word_text</th>\n",
       "    </tr>\n",
       "  </thead>\n",
       "  <tbody>\n",
       "    <tr>\n",
       "      <th>0</th>\n",
       "      <td>0</td>\n",
       "      <td>1</td>\n",
       "      <td>1</td>\n",
       "      <td>1</td>\n",
       "      <td>بِسْمِ</td>\n",
       "    </tr>\n",
       "    <tr>\n",
       "      <th>1</th>\n",
       "      <td>1</td>\n",
       "      <td>1</td>\n",
       "      <td>1</td>\n",
       "      <td>2</td>\n",
       "      <td>اللَّهِ</td>\n",
       "    </tr>\n",
       "    <tr>\n",
       "      <th>2</th>\n",
       "      <td>2</td>\n",
       "      <td>1</td>\n",
       "      <td>1</td>\n",
       "      <td>3</td>\n",
       "      <td>الرَّحْمَنِ</td>\n",
       "    </tr>\n",
       "    <tr>\n",
       "      <th>3</th>\n",
       "      <td>3</td>\n",
       "      <td>1</td>\n",
       "      <td>1</td>\n",
       "      <td>4</td>\n",
       "      <td>الرَّحِيمِ</td>\n",
       "    </tr>\n",
       "    <tr>\n",
       "      <th>4</th>\n",
       "      <td>0</td>\n",
       "      <td>1</td>\n",
       "      <td>2</td>\n",
       "      <td>1</td>\n",
       "      <td>الْحَمْدُ</td>\n",
       "    </tr>\n",
       "    <tr>\n",
       "      <th>5</th>\n",
       "      <td>1</td>\n",
       "      <td>1</td>\n",
       "      <td>2</td>\n",
       "      <td>2</td>\n",
       "      <td>لِلَّهِ</td>\n",
       "    </tr>\n",
       "    <tr>\n",
       "      <th>6</th>\n",
       "      <td>2</td>\n",
       "      <td>1</td>\n",
       "      <td>2</td>\n",
       "      <td>3</td>\n",
       "      <td>رَبِّ</td>\n",
       "    </tr>\n",
       "    <tr>\n",
       "      <th>7</th>\n",
       "      <td>3</td>\n",
       "      <td>1</td>\n",
       "      <td>2</td>\n",
       "      <td>4</td>\n",
       "      <td>الْعَالَمِينَ</td>\n",
       "    </tr>\n",
       "    <tr>\n",
       "      <th>8</th>\n",
       "      <td>0</td>\n",
       "      <td>1</td>\n",
       "      <td>3</td>\n",
       "      <td>1</td>\n",
       "      <td>الرَّحْمَنِ</td>\n",
       "    </tr>\n",
       "    <tr>\n",
       "      <th>9</th>\n",
       "      <td>1</td>\n",
       "      <td>1</td>\n",
       "      <td>3</td>\n",
       "      <td>2</td>\n",
       "      <td>الرَّحِيمِ</td>\n",
       "    </tr>\n",
       "    <tr>\n",
       "      <th>10</th>\n",
       "      <td>0</td>\n",
       "      <td>1</td>\n",
       "      <td>4</td>\n",
       "      <td>1</td>\n",
       "      <td>مَالِكِ</td>\n",
       "    </tr>\n",
       "    <tr>\n",
       "      <th>11</th>\n",
       "      <td>1</td>\n",
       "      <td>1</td>\n",
       "      <td>4</td>\n",
       "      <td>2</td>\n",
       "      <td>يَوْمِ</td>\n",
       "    </tr>\n",
       "    <tr>\n",
       "      <th>12</th>\n",
       "      <td>2</td>\n",
       "      <td>1</td>\n",
       "      <td>4</td>\n",
       "      <td>3</td>\n",
       "      <td>الدِّينِ</td>\n",
       "    </tr>\n",
       "    <tr>\n",
       "      <th>13</th>\n",
       "      <td>0</td>\n",
       "      <td>1</td>\n",
       "      <td>5</td>\n",
       "      <td>1</td>\n",
       "      <td>إِيَّاكَ</td>\n",
       "    </tr>\n",
       "    <tr>\n",
       "      <th>14</th>\n",
       "      <td>1</td>\n",
       "      <td>1</td>\n",
       "      <td>5</td>\n",
       "      <td>2</td>\n",
       "      <td>نَعْبُدُ</td>\n",
       "    </tr>\n",
       "    <tr>\n",
       "      <th>15</th>\n",
       "      <td>2</td>\n",
       "      <td>1</td>\n",
       "      <td>5</td>\n",
       "      <td>3</td>\n",
       "      <td>وَإِيَّاكَ</td>\n",
       "    </tr>\n",
       "    <tr>\n",
       "      <th>16</th>\n",
       "      <td>3</td>\n",
       "      <td>1</td>\n",
       "      <td>5</td>\n",
       "      <td>4</td>\n",
       "      <td>نَسْتَعِينُ</td>\n",
       "    </tr>\n",
       "    <tr>\n",
       "      <th>17</th>\n",
       "      <td>0</td>\n",
       "      <td>1</td>\n",
       "      <td>6</td>\n",
       "      <td>1</td>\n",
       "      <td>اهْدِنَا</td>\n",
       "    </tr>\n",
       "    <tr>\n",
       "      <th>18</th>\n",
       "      <td>1</td>\n",
       "      <td>1</td>\n",
       "      <td>6</td>\n",
       "      <td>2</td>\n",
       "      <td>الصِّرَاطَ</td>\n",
       "    </tr>\n",
       "    <tr>\n",
       "      <th>19</th>\n",
       "      <td>2</td>\n",
       "      <td>1</td>\n",
       "      <td>6</td>\n",
       "      <td>3</td>\n",
       "      <td>الْمُسْتَقِيمَ</td>\n",
       "    </tr>\n",
       "    <tr>\n",
       "      <th>20</th>\n",
       "      <td>0</td>\n",
       "      <td>1</td>\n",
       "      <td>7</td>\n",
       "      <td>1</td>\n",
       "      <td>صِرَاطَ</td>\n",
       "    </tr>\n",
       "    <tr>\n",
       "      <th>21</th>\n",
       "      <td>1</td>\n",
       "      <td>1</td>\n",
       "      <td>7</td>\n",
       "      <td>2</td>\n",
       "      <td>الَّذِينَ</td>\n",
       "    </tr>\n",
       "    <tr>\n",
       "      <th>22</th>\n",
       "      <td>2</td>\n",
       "      <td>1</td>\n",
       "      <td>7</td>\n",
       "      <td>3</td>\n",
       "      <td>أَنْعَمْتَ</td>\n",
       "    </tr>\n",
       "    <tr>\n",
       "      <th>23</th>\n",
       "      <td>3</td>\n",
       "      <td>1</td>\n",
       "      <td>7</td>\n",
       "      <td>4</td>\n",
       "      <td>عَلَيْهِمْ</td>\n",
       "    </tr>\n",
       "    <tr>\n",
       "      <th>24</th>\n",
       "      <td>4</td>\n",
       "      <td>1</td>\n",
       "      <td>7</td>\n",
       "      <td>5</td>\n",
       "      <td>غَيْرِ</td>\n",
       "    </tr>\n",
       "    <tr>\n",
       "      <th>25</th>\n",
       "      <td>5</td>\n",
       "      <td>1</td>\n",
       "      <td>7</td>\n",
       "      <td>6</td>\n",
       "      <td>الْمَغْضُوبِ</td>\n",
       "    </tr>\n",
       "    <tr>\n",
       "      <th>26</th>\n",
       "      <td>6</td>\n",
       "      <td>1</td>\n",
       "      <td>7</td>\n",
       "      <td>7</td>\n",
       "      <td>عَلَيْهِمْ</td>\n",
       "    </tr>\n",
       "    <tr>\n",
       "      <th>27</th>\n",
       "      <td>7</td>\n",
       "      <td>1</td>\n",
       "      <td>7</td>\n",
       "      <td>8</td>\n",
       "      <td>وَلَا</td>\n",
       "    </tr>\n",
       "    <tr>\n",
       "      <th>28</th>\n",
       "      <td>8</td>\n",
       "      <td>1</td>\n",
       "      <td>7</td>\n",
       "      <td>9</td>\n",
       "      <td>الضَّالِّينَ</td>\n",
       "    </tr>\n",
       "    <tr>\n",
       "      <th>29</th>\n",
       "      <td>0</td>\n",
       "      <td>2</td>\n",
       "      <td>1</td>\n",
       "      <td>1</td>\n",
       "      <td>بِسْمِ</td>\n",
       "    </tr>\n",
       "    <tr>\n",
       "      <th>30</th>\n",
       "      <td>1</td>\n",
       "      <td>2</td>\n",
       "      <td>1</td>\n",
       "      <td>2</td>\n",
       "      <td>اللَّهِ</td>\n",
       "    </tr>\n",
       "    <tr>\n",
       "      <th>31</th>\n",
       "      <td>2</td>\n",
       "      <td>2</td>\n",
       "      <td>1</td>\n",
       "      <td>3</td>\n",
       "      <td>الرَّحْمَنِ</td>\n",
       "    </tr>\n",
       "    <tr>\n",
       "      <th>32</th>\n",
       "      <td>3</td>\n",
       "      <td>2</td>\n",
       "      <td>1</td>\n",
       "      <td>4</td>\n",
       "      <td>الرَّحِيمِ</td>\n",
       "    </tr>\n",
       "    <tr>\n",
       "      <th>33</th>\n",
       "      <td>4</td>\n",
       "      <td>2</td>\n",
       "      <td>1</td>\n",
       "      <td>5</td>\n",
       "      <td>الم</td>\n",
       "    </tr>\n",
       "    <tr>\n",
       "      <th>34</th>\n",
       "      <td>0</td>\n",
       "      <td>2</td>\n",
       "      <td>2</td>\n",
       "      <td>1</td>\n",
       "      <td>ذَلِكَ</td>\n",
       "    </tr>\n",
       "    <tr>\n",
       "      <th>35</th>\n",
       "      <td>1</td>\n",
       "      <td>2</td>\n",
       "      <td>2</td>\n",
       "      <td>2</td>\n",
       "      <td>الْكِتَابُ</td>\n",
       "    </tr>\n",
       "    <tr>\n",
       "      <th>36</th>\n",
       "      <td>2</td>\n",
       "      <td>2</td>\n",
       "      <td>2</td>\n",
       "      <td>3</td>\n",
       "      <td>لَا</td>\n",
       "    </tr>\n",
       "    <tr>\n",
       "      <th>37</th>\n",
       "      <td>3</td>\n",
       "      <td>2</td>\n",
       "      <td>2</td>\n",
       "      <td>4</td>\n",
       "      <td>رَيْبَ</td>\n",
       "    </tr>\n",
       "    <tr>\n",
       "      <th>38</th>\n",
       "      <td>4</td>\n",
       "      <td>2</td>\n",
       "      <td>2</td>\n",
       "      <td>5</td>\n",
       "      <td>فِيهِ</td>\n",
       "    </tr>\n",
       "    <tr>\n",
       "      <th>39</th>\n",
       "      <td>5</td>\n",
       "      <td>2</td>\n",
       "      <td>2</td>\n",
       "      <td>6</td>\n",
       "      <td>هُدًى</td>\n",
       "    </tr>\n",
       "  </tbody>\n",
       "</table>\n",
       "</div>"
      ],
      "text/plain": [
       "    index sura_num aya_num word_num       word_text\n",
       "0       0        1       1        1          بِسْمِ\n",
       "1       1        1       1        2         اللَّهِ\n",
       "2       2        1       1        3     الرَّحْمَنِ\n",
       "3       3        1       1        4      الرَّحِيمِ\n",
       "4       0        1       2        1       الْحَمْدُ\n",
       "5       1        1       2        2         لِلَّهِ\n",
       "6       2        1       2        3           رَبِّ\n",
       "7       3        1       2        4   الْعَالَمِينَ\n",
       "8       0        1       3        1     الرَّحْمَنِ\n",
       "9       1        1       3        2      الرَّحِيمِ\n",
       "10      0        1       4        1         مَالِكِ\n",
       "11      1        1       4        2          يَوْمِ\n",
       "12      2        1       4        3        الدِّينِ\n",
       "13      0        1       5        1        إِيَّاكَ\n",
       "14      1        1       5        2        نَعْبُدُ\n",
       "15      2        1       5        3      وَإِيَّاكَ\n",
       "16      3        1       5        4     نَسْتَعِينُ\n",
       "17      0        1       6        1        اهْدِنَا\n",
       "18      1        1       6        2      الصِّرَاطَ\n",
       "19      2        1       6        3  الْمُسْتَقِيمَ\n",
       "20      0        1       7        1         صِرَاطَ\n",
       "21      1        1       7        2       الَّذِينَ\n",
       "22      2        1       7        3      أَنْعَمْتَ\n",
       "23      3        1       7        4      عَلَيْهِمْ\n",
       "24      4        1       7        5          غَيْرِ\n",
       "25      5        1       7        6    الْمَغْضُوبِ\n",
       "26      6        1       7        7      عَلَيْهِمْ\n",
       "27      7        1       7        8           وَلَا\n",
       "28      8        1       7        9    الضَّالِّينَ\n",
       "29      0        2       1        1          بِسْمِ\n",
       "30      1        2       1        2         اللَّهِ\n",
       "31      2        2       1        3     الرَّحْمَنِ\n",
       "32      3        2       1        4      الرَّحِيمِ\n",
       "33      4        2       1        5             الم\n",
       "34      0        2       2        1          ذَلِكَ\n",
       "35      1        2       2        2      الْكِتَابُ\n",
       "36      2        2       2        3             لَا\n",
       "37      3        2       2        4          رَيْبَ\n",
       "38      4        2       2        5           فِيهِ\n",
       "39      5        2       2        6           هُدًى"
      ]
     },
     "execution_count": 66,
     "metadata": {},
     "output_type": "execute_result"
    }
   ],
   "source": [
    "words_df.head(40).reset_index()"
   ]
  },
  {
   "cell_type": "code",
   "execution_count": 67,
   "metadata": {
    "ExecuteTime": {
     "end_time": "2020-12-07T00:09:15.407594Z",
     "start_time": "2020-12-07T00:09:15.392607Z"
    }
   },
   "outputs": [
    {
     "data": {
      "text/html": [
       "<div>\n",
       "<style scoped>\n",
       "    .dataframe tbody tr th:only-of-type {\n",
       "        vertical-align: middle;\n",
       "    }\n",
       "\n",
       "    .dataframe tbody tr th {\n",
       "        vertical-align: top;\n",
       "    }\n",
       "\n",
       "    .dataframe thead th {\n",
       "        text-align: right;\n",
       "    }\n",
       "</style>\n",
       "<table border=\"1\" class=\"dataframe\">\n",
       "  <thead>\n",
       "    <tr style=\"text-align: right;\">\n",
       "      <th></th>\n",
       "      <th>sura_num</th>\n",
       "      <th>aya_num</th>\n",
       "      <th>word_num</th>\n",
       "      <th>word_text</th>\n",
       "    </tr>\n",
       "  </thead>\n",
       "  <tbody>\n",
       "    <tr>\n",
       "      <th>0</th>\n",
       "      <td>9</td>\n",
       "      <td>1</td>\n",
       "      <td>1</td>\n",
       "      <td>بَرَاءَةٌ</td>\n",
       "    </tr>\n",
       "    <tr>\n",
       "      <th>1</th>\n",
       "      <td>9</td>\n",
       "      <td>1</td>\n",
       "      <td>2</td>\n",
       "      <td>مِنَ</td>\n",
       "    </tr>\n",
       "    <tr>\n",
       "      <th>2</th>\n",
       "      <td>9</td>\n",
       "      <td>1</td>\n",
       "      <td>3</td>\n",
       "      <td>اللَّهِ</td>\n",
       "    </tr>\n",
       "    <tr>\n",
       "      <th>3</th>\n",
       "      <td>9</td>\n",
       "      <td>1</td>\n",
       "      <td>4</td>\n",
       "      <td>وَرَسُولِهِ</td>\n",
       "    </tr>\n",
       "    <tr>\n",
       "      <th>4</th>\n",
       "      <td>9</td>\n",
       "      <td>1</td>\n",
       "      <td>5</td>\n",
       "      <td>إِلَى</td>\n",
       "    </tr>\n",
       "    <tr>\n",
       "      <th>5</th>\n",
       "      <td>9</td>\n",
       "      <td>1</td>\n",
       "      <td>6</td>\n",
       "      <td>الَّذِينَ</td>\n",
       "    </tr>\n",
       "    <tr>\n",
       "      <th>6</th>\n",
       "      <td>9</td>\n",
       "      <td>1</td>\n",
       "      <td>7</td>\n",
       "      <td>عَاهَدْتُمْ</td>\n",
       "    </tr>\n",
       "    <tr>\n",
       "      <th>7</th>\n",
       "      <td>9</td>\n",
       "      <td>1</td>\n",
       "      <td>8</td>\n",
       "      <td>مِنَ</td>\n",
       "    </tr>\n",
       "    <tr>\n",
       "      <th>8</th>\n",
       "      <td>9</td>\n",
       "      <td>1</td>\n",
       "      <td>9</td>\n",
       "      <td>الْمُشْرِكِينَ</td>\n",
       "    </tr>\n",
       "  </tbody>\n",
       "</table>\n",
       "</div>"
      ],
      "text/plain": [
       "  sura_num aya_num word_num       word_text\n",
       "0        9       1        1       بَرَاءَةٌ\n",
       "1        9       1        2            مِنَ\n",
       "2        9       1        3         اللَّهِ\n",
       "3        9       1        4     وَرَسُولِهِ\n",
       "4        9       1        5           إِلَى\n",
       "5        9       1        6       الَّذِينَ\n",
       "6        9       1        7     عَاهَدْتُمْ\n",
       "7        9       1        8            مِنَ\n",
       "8        9       1        9  الْمُشْرِكِينَ"
      ]
     },
     "execution_count": 67,
     "metadata": {},
     "output_type": "execute_result"
    }
   ],
   "source": [
    "# The computer added the basmala to all suras!\n",
    "# we should modify that to make it added to sura#1 only, \n",
    "# We should check if surat altawba (#9) contains basmala or not\n",
    "#  as it should not contain it.\n",
    "\n",
    "get_aya_df(9, 1)"
   ]
  },
  {
   "cell_type": "code",
   "execution_count": 68,
   "metadata": {
    "ExecuteTime": {
     "end_time": "2020-12-07T00:12:16.637826Z",
     "start_time": "2020-12-07T00:12:16.616882Z"
    }
   },
   "outputs": [
    {
     "data": {
      "text/html": [
       "<div>\n",
       "<style scoped>\n",
       "    .dataframe tbody tr th:only-of-type {\n",
       "        vertical-align: middle;\n",
       "    }\n",
       "\n",
       "    .dataframe tbody tr th {\n",
       "        vertical-align: top;\n",
       "    }\n",
       "\n",
       "    .dataframe thead th {\n",
       "        text-align: right;\n",
       "    }\n",
       "</style>\n",
       "<table border=\"1\" class=\"dataframe\">\n",
       "  <thead>\n",
       "    <tr style=\"text-align: right;\">\n",
       "      <th></th>\n",
       "      <th>sura_num</th>\n",
       "      <th>aya_num</th>\n",
       "      <th>word_num</th>\n",
       "      <th>word_text</th>\n",
       "    </tr>\n",
       "  </thead>\n",
       "  <tbody>\n",
       "    <tr>\n",
       "      <th>0</th>\n",
       "      <td>9</td>\n",
       "      <td>129</td>\n",
       "      <td>1</td>\n",
       "      <td>فَإِنْ</td>\n",
       "    </tr>\n",
       "    <tr>\n",
       "      <th>1</th>\n",
       "      <td>9</td>\n",
       "      <td>129</td>\n",
       "      <td>2</td>\n",
       "      <td>تَوَلَّوْا</td>\n",
       "    </tr>\n",
       "    <tr>\n",
       "      <th>2</th>\n",
       "      <td>9</td>\n",
       "      <td>129</td>\n",
       "      <td>3</td>\n",
       "      <td>فَقُلْ</td>\n",
       "    </tr>\n",
       "    <tr>\n",
       "      <th>3</th>\n",
       "      <td>9</td>\n",
       "      <td>129</td>\n",
       "      <td>4</td>\n",
       "      <td>حَسْبِيَ</td>\n",
       "    </tr>\n",
       "    <tr>\n",
       "      <th>4</th>\n",
       "      <td>9</td>\n",
       "      <td>129</td>\n",
       "      <td>5</td>\n",
       "      <td>اللَّهُ</td>\n",
       "    </tr>\n",
       "    <tr>\n",
       "      <th>5</th>\n",
       "      <td>9</td>\n",
       "      <td>129</td>\n",
       "      <td>6</td>\n",
       "      <td>لَا</td>\n",
       "    </tr>\n",
       "    <tr>\n",
       "      <th>6</th>\n",
       "      <td>9</td>\n",
       "      <td>129</td>\n",
       "      <td>7</td>\n",
       "      <td>إِلَهَ</td>\n",
       "    </tr>\n",
       "    <tr>\n",
       "      <th>7</th>\n",
       "      <td>9</td>\n",
       "      <td>129</td>\n",
       "      <td>8</td>\n",
       "      <td>إِلَّا</td>\n",
       "    </tr>\n",
       "    <tr>\n",
       "      <th>8</th>\n",
       "      <td>9</td>\n",
       "      <td>129</td>\n",
       "      <td>9</td>\n",
       "      <td>هُوَ</td>\n",
       "    </tr>\n",
       "    <tr>\n",
       "      <th>9</th>\n",
       "      <td>9</td>\n",
       "      <td>129</td>\n",
       "      <td>10</td>\n",
       "      <td>عَلَيْهِ</td>\n",
       "    </tr>\n",
       "    <tr>\n",
       "      <th>10</th>\n",
       "      <td>9</td>\n",
       "      <td>129</td>\n",
       "      <td>11</td>\n",
       "      <td>تَوَكَّلْتُ</td>\n",
       "    </tr>\n",
       "    <tr>\n",
       "      <th>11</th>\n",
       "      <td>9</td>\n",
       "      <td>129</td>\n",
       "      <td>12</td>\n",
       "      <td>وَهُوَ</td>\n",
       "    </tr>\n",
       "    <tr>\n",
       "      <th>12</th>\n",
       "      <td>9</td>\n",
       "      <td>129</td>\n",
       "      <td>13</td>\n",
       "      <td>رَبُّ</td>\n",
       "    </tr>\n",
       "    <tr>\n",
       "      <th>13</th>\n",
       "      <td>9</td>\n",
       "      <td>129</td>\n",
       "      <td>14</td>\n",
       "      <td>الْعَرْشِ</td>\n",
       "    </tr>\n",
       "    <tr>\n",
       "      <th>14</th>\n",
       "      <td>9</td>\n",
       "      <td>129</td>\n",
       "      <td>15</td>\n",
       "      <td>الْعَظِيمِ</td>\n",
       "    </tr>\n",
       "  </tbody>\n",
       "</table>\n",
       "</div>"
      ],
      "text/plain": [
       "   sura_num aya_num word_num    word_text\n",
       "0         9     129        1       فَإِنْ\n",
       "1         9     129        2   تَوَلَّوْا\n",
       "2         9     129        3       فَقُلْ\n",
       "3         9     129        4     حَسْبِيَ\n",
       "4         9     129        5      اللَّهُ\n",
       "5         9     129        6          لَا\n",
       "6         9     129        7       إِلَهَ\n",
       "7         9     129        8       إِلَّا\n",
       "8         9     129        9         هُوَ\n",
       "9         9     129       10     عَلَيْهِ\n",
       "10        9     129       11  تَوَكَّلْتُ\n",
       "11        9     129       12       وَهُوَ\n",
       "12        9     129       13        رَبُّ\n",
       "13        9     129       14    الْعَرْشِ\n",
       "14        9     129       15   الْعَظِيمِ"
      ]
     },
     "execution_count": 68,
     "metadata": {},
     "output_type": "execute_result"
    }
   ],
   "source": [
    "# It is OK,\n",
    "\n",
    "# But let's check the last aya\n",
    "get_aya_df(9, 129)"
   ]
  },
  {
   "cell_type": "code",
   "execution_count": 69,
   "metadata": {
    "ExecuteTime": {
     "end_time": "2020-12-07T00:13:23.934412Z",
     "start_time": "2020-12-07T00:13:23.912440Z"
    }
   },
   "outputs": [
    {
     "data": {
      "text/html": [
       "<div>\n",
       "<style scoped>\n",
       "    .dataframe tbody tr th:only-of-type {\n",
       "        vertical-align: middle;\n",
       "    }\n",
       "\n",
       "    .dataframe tbody tr th {\n",
       "        vertical-align: top;\n",
       "    }\n",
       "\n",
       "    .dataframe thead th {\n",
       "        text-align: right;\n",
       "    }\n",
       "</style>\n",
       "<table border=\"1\" class=\"dataframe\">\n",
       "  <thead>\n",
       "    <tr style=\"text-align: right;\">\n",
       "      <th></th>\n",
       "      <th>sura_num</th>\n",
       "      <th>aya_num</th>\n",
       "      <th>word_num</th>\n",
       "      <th>word_text</th>\n",
       "    </tr>\n",
       "  </thead>\n",
       "  <tbody>\n",
       "    <tr>\n",
       "      <th>0</th>\n",
       "      <td>114</td>\n",
       "      <td>1</td>\n",
       "      <td>1</td>\n",
       "      <td>بِسْمِ</td>\n",
       "    </tr>\n",
       "    <tr>\n",
       "      <th>1</th>\n",
       "      <td>114</td>\n",
       "      <td>1</td>\n",
       "      <td>2</td>\n",
       "      <td>اللَّهِ</td>\n",
       "    </tr>\n",
       "    <tr>\n",
       "      <th>2</th>\n",
       "      <td>114</td>\n",
       "      <td>1</td>\n",
       "      <td>3</td>\n",
       "      <td>الرَّحْمَنِ</td>\n",
       "    </tr>\n",
       "    <tr>\n",
       "      <th>3</th>\n",
       "      <td>114</td>\n",
       "      <td>1</td>\n",
       "      <td>4</td>\n",
       "      <td>الرَّحِيمِ</td>\n",
       "    </tr>\n",
       "    <tr>\n",
       "      <th>4</th>\n",
       "      <td>114</td>\n",
       "      <td>1</td>\n",
       "      <td>5</td>\n",
       "      <td>قُلْ</td>\n",
       "    </tr>\n",
       "    <tr>\n",
       "      <th>5</th>\n",
       "      <td>114</td>\n",
       "      <td>1</td>\n",
       "      <td>6</td>\n",
       "      <td>أَعُوذُ</td>\n",
       "    </tr>\n",
       "    <tr>\n",
       "      <th>6</th>\n",
       "      <td>114</td>\n",
       "      <td>1</td>\n",
       "      <td>7</td>\n",
       "      <td>بِرَبِّ</td>\n",
       "    </tr>\n",
       "    <tr>\n",
       "      <th>7</th>\n",
       "      <td>114</td>\n",
       "      <td>1</td>\n",
       "      <td>8</td>\n",
       "      <td>النَّاسِ</td>\n",
       "    </tr>\n",
       "  </tbody>\n",
       "</table>\n",
       "</div>"
      ],
      "text/plain": [
       "  sura_num aya_num word_num    word_text\n",
       "0      114       1        1       بِسْمِ\n",
       "1      114       1        2      اللَّهِ\n",
       "2      114       1        3  الرَّحْمَنِ\n",
       "3      114       1        4   الرَّحِيمِ\n",
       "4      114       1        5         قُلْ\n",
       "5      114       1        6      أَعُوذُ\n",
       "6      114       1        7      بِرَبِّ\n",
       "7      114       1        8     النَّاسِ"
      ]
     },
     "execution_count": 69,
     "metadata": {},
     "output_type": "execute_result"
    }
   ],
   "source": [
    "# OK too,\n",
    "\n",
    "# what about surat alnas (#114)\n",
    "get_aya_df(114, 1)"
   ]
  },
  {
   "cell_type": "code",
   "execution_count": 84,
   "metadata": {
    "ExecuteTime": {
     "end_time": "2020-12-07T00:31:17.183622Z",
     "start_time": "2020-12-07T00:31:17.175614Z"
    }
   },
   "outputs": [],
   "source": [
    "# We found the problem, that the dataset consideres the basmala as a\n",
    "# part of each first aya, which is wrong!\n",
    "\n",
    "# We should fix this byy starting to count from 4 if the aya is #1\n",
    "# Except for sura alfatiha #1\n",
    "\n",
    "\n",
    "def get_aya_lists(sura_num, aya_num):\n",
    "    aya = ds[(ds.SuraNum == sura_num)\n",
    "             & (ds.AyaNum == aya_num)][\"AyaText\"].iloc[0]\n",
    "    words = aya.split(' ')\n",
    "    # Any first aya should be truncated except Alfatiha and Altawba 1 & 9\n",
    "    if (aya_num == 1) & (sura_num != 1) & (sura_num != 9):\n",
    "        words = words[4:]\n",
    "    words_len = len(words)\n",
    "    words_count = list(range(words_len + 1))[1:]\n",
    "    sura_list = [sura_num] * words_len\n",
    "    aya_num_list = [aya_num] * words_len\n",
    "    return [sura_list, aya_num_list, words_count, words]"
   ]
  },
  {
   "cell_type": "code",
   "execution_count": 71,
   "metadata": {
    "ExecuteTime": {
     "end_time": "2020-12-07T00:19:56.877600Z",
     "start_time": "2020-12-07T00:19:56.864604Z"
    }
   },
   "outputs": [
    {
     "data": {
      "text/html": [
       "<div>\n",
       "<style scoped>\n",
       "    .dataframe tbody tr th:only-of-type {\n",
       "        vertical-align: middle;\n",
       "    }\n",
       "\n",
       "    .dataframe tbody tr th {\n",
       "        vertical-align: top;\n",
       "    }\n",
       "\n",
       "    .dataframe thead th {\n",
       "        text-align: right;\n",
       "    }\n",
       "</style>\n",
       "<table border=\"1\" class=\"dataframe\">\n",
       "  <thead>\n",
       "    <tr style=\"text-align: right;\">\n",
       "      <th></th>\n",
       "      <th>sura_num</th>\n",
       "      <th>aya_num</th>\n",
       "      <th>word_num</th>\n",
       "      <th>word_text</th>\n",
       "    </tr>\n",
       "  </thead>\n",
       "  <tbody>\n",
       "    <tr>\n",
       "      <th>0</th>\n",
       "      <td>114</td>\n",
       "      <td>1</td>\n",
       "      <td>1</td>\n",
       "      <td>قُلْ</td>\n",
       "    </tr>\n",
       "    <tr>\n",
       "      <th>1</th>\n",
       "      <td>114</td>\n",
       "      <td>1</td>\n",
       "      <td>2</td>\n",
       "      <td>أَعُوذُ</td>\n",
       "    </tr>\n",
       "    <tr>\n",
       "      <th>2</th>\n",
       "      <td>114</td>\n",
       "      <td>1</td>\n",
       "      <td>3</td>\n",
       "      <td>بِرَبِّ</td>\n",
       "    </tr>\n",
       "    <tr>\n",
       "      <th>3</th>\n",
       "      <td>114</td>\n",
       "      <td>1</td>\n",
       "      <td>4</td>\n",
       "      <td>النَّاسِ</td>\n",
       "    </tr>\n",
       "  </tbody>\n",
       "</table>\n",
       "</div>"
      ],
      "text/plain": [
       "  sura_num aya_num word_num word_text\n",
       "0      114       1        1      قُلْ\n",
       "1      114       1        2   أَعُوذُ\n",
       "2      114       1        3   بِرَبِّ\n",
       "3      114       1        4  النَّاسِ"
      ]
     },
     "execution_count": 71,
     "metadata": {},
     "output_type": "execute_result"
    }
   ],
   "source": [
    "get_aya_df(114, 1)"
   ]
  },
  {
   "cell_type": "code",
   "execution_count": 124,
   "metadata": {
    "ExecuteTime": {
     "end_time": "2020-12-07T01:11:46.521719Z",
     "start_time": "2020-12-07T01:11:46.499754Z"
    }
   },
   "outputs": [],
   "source": [
    "def get_dataset(key=\"simple\"):\n",
    "    filename = os.path.join(text_path, quran_text[key])\n",
    "    ds= pd.read_csv(filename, \n",
    "                nrows=6236, \n",
    "                delimiter=\"|\",\n",
    "                names=[\"SuraNum\", \"AyaNum\", \"AyaText\"],\n",
    "                )\n",
    "    return ds\n",
    "ds = get_dataset(key=\"simple\")"
   ]
  },
  {
   "cell_type": "code",
   "execution_count": 125,
   "metadata": {
    "ExecuteTime": {
     "end_time": "2020-12-07T01:11:47.549711Z",
     "start_time": "2020-12-07T01:11:47.540736Z"
    }
   },
   "outputs": [],
   "source": [
    "# Creating the final data set\n",
    "def get_aya_lists(sura_num, aya_num, num_ayas):\n",
    "    aya = ds[(ds.SuraNum == sura_num)\n",
    "             & (ds.AyaNum == aya_num)][\"AyaText\"].iloc[0]\n",
    "    words = aya.split(' ')\n",
    "    # Any first aya should be truncated except Alfatiha and Altawba 1 & 9\n",
    "    if (aya_num == 1) & (sura_num != 1) & (sura_num != 9):\n",
    "        words = words[4:]\n",
    "    words_len = len(words)\n",
    "    words_count = list(range(words_len + 1))[1:]\n",
    "    words_c_list = [words_len] * words_len\n",
    "    sura_list = [sura_num] * words_len\n",
    "    aya_num_list = [aya_num] * words_len\n",
    "    aya_c_list = [num_ayas] * words_len\n",
    "    return [\n",
    "        sura_list, aya_c_list, aya_num_list, words_c_list, words_count, words\n",
    "    ]\n",
    "\n",
    "\n",
    "def get_aya_df(sura_num, aya_num, num_ayas):\n",
    "    return pd.DataFrame(get_aya_lists(sura_num, aya_num, num_ayas),\n",
    "                        index=[\n",
    "                            \"sura_num\", \"aya_in_sura\", \"aya_num\",\n",
    "                            \"words_in_aya\", \"word_num\", \"word_text\"\n",
    "                        ]).T\n",
    "\n",
    "\n",
    "def get_full_dataset(ds):\n",
    "    words_gross_list = []\n",
    "    for sura_num in range(1, 115):\n",
    "        sura_ayas = ds[(ds.SuraNum == sura_num)]\n",
    "        num_ayas = sura_ayas.AyaNum.max()\n",
    "        print(sura_num, end=\">\")\n",
    "        for aya_num in range(1, num_ayas + 1):\n",
    "            words_gross_list.append(get_aya_df(sura_num, aya_num, num_ayas))\n",
    "            pass\n",
    "        pass\n",
    "    print()\n",
    "    words_df = pd.concat(words_gross_list)\n",
    "    print(\"*Done*\")\n",
    "    # to free the memory\n",
    "    words_gross_list = []\n",
    "    words_df.reset_index(inplace=True)\n",
    "    words_df.drop('index', axis=1, inplace=True)\n",
    "    return words_df"
   ]
  },
  {
   "cell_type": "code",
   "execution_count": 104,
   "metadata": {
    "ExecuteTime": {
     "end_time": "2020-12-07T00:57:20.576069Z",
     "start_time": "2020-12-07T00:57:08.490344Z"
    }
   },
   "outputs": [
    {
     "name": "stdout",
     "output_type": "stream",
     "text": [
      "1>2>3>4>5>6>7>8>9>10>11>12>13>14>15>16>17>18>19>20>21>22>23>24>25>26>27>28>29>30>31>32>33>34>35>36>37>38>39>40>41>42>43>44>45>46>47>48>49>50>51>52>53>54>55>56>57>58>59>60>61>62>63>64>65>66>67>68>69>70>71>72>73>74>75>76>77>78>79>80>81>82>83>84>85>86>87>88>89>90>91>92>93>94>95>96>97>98>99>100>101>102>103>104>105>106>107>108>109>110>111>112>113>114>\n",
      "*Done*\n"
     ]
    }
   ],
   "source": [
    "words_df = get_full_dataset(ds)"
   ]
  },
  {
   "cell_type": "code",
   "execution_count": 105,
   "metadata": {
    "ExecuteTime": {
     "end_time": "2020-12-07T00:57:22.007264Z",
     "start_time": "2020-12-07T00:57:21.935427Z"
    }
   },
   "outputs": [
    {
     "data": {
      "text/html": [
       "<div>\n",
       "<style scoped>\n",
       "    .dataframe tbody tr th:only-of-type {\n",
       "        vertical-align: middle;\n",
       "    }\n",
       "\n",
       "    .dataframe tbody tr th {\n",
       "        vertical-align: top;\n",
       "    }\n",
       "\n",
       "    .dataframe thead th {\n",
       "        text-align: right;\n",
       "    }\n",
       "</style>\n",
       "<table border=\"1\" class=\"dataframe\">\n",
       "  <thead>\n",
       "    <tr style=\"text-align: right;\">\n",
       "      <th></th>\n",
       "      <th>sura_num</th>\n",
       "      <th>aya_in_sura</th>\n",
       "      <th>aya_num</th>\n",
       "      <th>words_in_aya</th>\n",
       "      <th>word_num</th>\n",
       "      <th>word_text</th>\n",
       "    </tr>\n",
       "  </thead>\n",
       "  <tbody>\n",
       "    <tr>\n",
       "      <th>count</th>\n",
       "      <td>77797</td>\n",
       "      <td>77797</td>\n",
       "      <td>77797</td>\n",
       "      <td>77797</td>\n",
       "      <td>77797</td>\n",
       "      <td>77797</td>\n",
       "    </tr>\n",
       "    <tr>\n",
       "      <th>unique</th>\n",
       "      <td>114</td>\n",
       "      <td>77</td>\n",
       "      <td>286</td>\n",
       "      <td>73</td>\n",
       "      <td>129</td>\n",
       "      <td>17574</td>\n",
       "    </tr>\n",
       "    <tr>\n",
       "      <th>top</th>\n",
       "      <td>2</td>\n",
       "      <td>286</td>\n",
       "      <td>7</td>\n",
       "      <td>11</td>\n",
       "      <td>1</td>\n",
       "      <td>مِنْ</td>\n",
       "    </tr>\n",
       "    <tr>\n",
       "      <th>freq</th>\n",
       "      <td>6140</td>\n",
       "      <td>6140</td>\n",
       "      <td>1161</td>\n",
       "      <td>3696</td>\n",
       "      <td>6236</td>\n",
       "      <td>1673</td>\n",
       "    </tr>\n",
       "  </tbody>\n",
       "</table>\n",
       "</div>"
      ],
      "text/plain": [
       "        sura_num  aya_in_sura  aya_num  words_in_aya  word_num word_text\n",
       "count      77797        77797    77797         77797     77797     77797\n",
       "unique       114           77      286            73       129     17574\n",
       "top            2          286        7            11         1      مِنْ\n",
       "freq        6140         6140     1161          3696      6236      1673"
      ]
     },
     "execution_count": 105,
     "metadata": {},
     "output_type": "execute_result"
    }
   ],
   "source": [
    "words_df.describe()"
   ]
  },
  {
   "cell_type": "code",
   "execution_count": 106,
   "metadata": {
    "ExecuteTime": {
     "end_time": "2020-12-07T00:57:24.717349Z",
     "start_time": "2020-12-07T00:57:24.692386Z"
    },
    "scrolled": true
   },
   "outputs": [
    {
     "name": "stdout",
     "output_type": "stream",
     "text": [
      "<class 'pandas.core.frame.DataFrame'>\n",
      "RangeIndex: 77797 entries, 0 to 77796\n",
      "Data columns (total 6 columns):\n",
      " #   Column        Non-Null Count  Dtype \n",
      "---  ------        --------------  ----- \n",
      " 0   sura_num      77797 non-null  object\n",
      " 1   aya_in_sura   77797 non-null  object\n",
      " 2   aya_num       77797 non-null  object\n",
      " 3   words_in_aya  77797 non-null  object\n",
      " 4   word_num      77797 non-null  object\n",
      " 5   word_text     77797 non-null  object\n",
      "dtypes: object(6)\n",
      "memory usage: 3.6+ MB\n"
     ]
    }
   ],
   "source": [
    "words_df.info()"
   ]
  },
  {
   "cell_type": "code",
   "execution_count": 107,
   "metadata": {
    "ExecuteTime": {
     "end_time": "2020-12-07T00:57:27.092176Z",
     "start_time": "2020-12-07T00:57:27.068449Z"
    }
   },
   "outputs": [
    {
     "data": {
      "text/html": [
       "<div>\n",
       "<style scoped>\n",
       "    .dataframe tbody tr th:only-of-type {\n",
       "        vertical-align: middle;\n",
       "    }\n",
       "\n",
       "    .dataframe tbody tr th {\n",
       "        vertical-align: top;\n",
       "    }\n",
       "\n",
       "    .dataframe thead th {\n",
       "        text-align: right;\n",
       "    }\n",
       "</style>\n",
       "<table border=\"1\" class=\"dataframe\">\n",
       "  <thead>\n",
       "    <tr style=\"text-align: right;\">\n",
       "      <th></th>\n",
       "      <th>sura_num</th>\n",
       "      <th>aya_in_sura</th>\n",
       "      <th>aya_num</th>\n",
       "      <th>words_in_aya</th>\n",
       "      <th>word_num</th>\n",
       "      <th>word_text</th>\n",
       "    </tr>\n",
       "  </thead>\n",
       "  <tbody>\n",
       "    <tr>\n",
       "      <th>0</th>\n",
       "      <td>1</td>\n",
       "      <td>7</td>\n",
       "      <td>1</td>\n",
       "      <td>4</td>\n",
       "      <td>1</td>\n",
       "      <td>بِسْمِ</td>\n",
       "    </tr>\n",
       "    <tr>\n",
       "      <th>1</th>\n",
       "      <td>1</td>\n",
       "      <td>7</td>\n",
       "      <td>1</td>\n",
       "      <td>4</td>\n",
       "      <td>2</td>\n",
       "      <td>اللَّهِ</td>\n",
       "    </tr>\n",
       "    <tr>\n",
       "      <th>2</th>\n",
       "      <td>1</td>\n",
       "      <td>7</td>\n",
       "      <td>1</td>\n",
       "      <td>4</td>\n",
       "      <td>3</td>\n",
       "      <td>الرَّحْمَنِ</td>\n",
       "    </tr>\n",
       "    <tr>\n",
       "      <th>3</th>\n",
       "      <td>1</td>\n",
       "      <td>7</td>\n",
       "      <td>1</td>\n",
       "      <td>4</td>\n",
       "      <td>4</td>\n",
       "      <td>الرَّحِيمِ</td>\n",
       "    </tr>\n",
       "    <tr>\n",
       "      <th>4</th>\n",
       "      <td>1</td>\n",
       "      <td>7</td>\n",
       "      <td>2</td>\n",
       "      <td>4</td>\n",
       "      <td>1</td>\n",
       "      <td>الْحَمْدُ</td>\n",
       "    </tr>\n",
       "    <tr>\n",
       "      <th>...</th>\n",
       "      <td>...</td>\n",
       "      <td>...</td>\n",
       "      <td>...</td>\n",
       "      <td>...</td>\n",
       "      <td>...</td>\n",
       "      <td>...</td>\n",
       "    </tr>\n",
       "    <tr>\n",
       "      <th>77792</th>\n",
       "      <td>114</td>\n",
       "      <td>6</td>\n",
       "      <td>5</td>\n",
       "      <td>5</td>\n",
       "      <td>4</td>\n",
       "      <td>صُدُورِ</td>\n",
       "    </tr>\n",
       "    <tr>\n",
       "      <th>77793</th>\n",
       "      <td>114</td>\n",
       "      <td>6</td>\n",
       "      <td>5</td>\n",
       "      <td>5</td>\n",
       "      <td>5</td>\n",
       "      <td>النَّاسِ</td>\n",
       "    </tr>\n",
       "    <tr>\n",
       "      <th>77794</th>\n",
       "      <td>114</td>\n",
       "      <td>6</td>\n",
       "      <td>6</td>\n",
       "      <td>3</td>\n",
       "      <td>1</td>\n",
       "      <td>مِنَ</td>\n",
       "    </tr>\n",
       "    <tr>\n",
       "      <th>77795</th>\n",
       "      <td>114</td>\n",
       "      <td>6</td>\n",
       "      <td>6</td>\n",
       "      <td>3</td>\n",
       "      <td>2</td>\n",
       "      <td>الْجِنَّةِ</td>\n",
       "    </tr>\n",
       "    <tr>\n",
       "      <th>77796</th>\n",
       "      <td>114</td>\n",
       "      <td>6</td>\n",
       "      <td>6</td>\n",
       "      <td>3</td>\n",
       "      <td>3</td>\n",
       "      <td>وَالنَّاسِ</td>\n",
       "    </tr>\n",
       "  </tbody>\n",
       "</table>\n",
       "<p>77797 rows × 6 columns</p>\n",
       "</div>"
      ],
      "text/plain": [
       "      sura_num aya_in_sura aya_num words_in_aya word_num    word_text\n",
       "0            1           7       1            4        1       بِسْمِ\n",
       "1            1           7       1            4        2      اللَّهِ\n",
       "2            1           7       1            4        3  الرَّحْمَنِ\n",
       "3            1           7       1            4        4   الرَّحِيمِ\n",
       "4            1           7       2            4        1    الْحَمْدُ\n",
       "...        ...         ...     ...          ...      ...          ...\n",
       "77792      114           6       5            5        4      صُدُورِ\n",
       "77793      114           6       5            5        5     النَّاسِ\n",
       "77794      114           6       6            3        1         مِنَ\n",
       "77795      114           6       6            3        2   الْجِنَّةِ\n",
       "77796      114           6       6            3        3   وَالنَّاسِ\n",
       "\n",
       "[77797 rows x 6 columns]"
      ]
     },
     "execution_count": 107,
     "metadata": {},
     "output_type": "execute_result"
    }
   ],
   "source": [
    "words_df"
   ]
  },
  {
   "cell_type": "code",
   "execution_count": 110,
   "metadata": {
    "ExecuteTime": {
     "end_time": "2020-12-07T01:00:27.533551Z",
     "start_time": "2020-12-07T01:00:27.510612Z"
    }
   },
   "outputs": [
    {
     "data": {
      "text/html": [
       "<div>\n",
       "<style scoped>\n",
       "    .dataframe tbody tr th:only-of-type {\n",
       "        vertical-align: middle;\n",
       "    }\n",
       "\n",
       "    .dataframe tbody tr th {\n",
       "        vertical-align: top;\n",
       "    }\n",
       "\n",
       "    .dataframe thead th {\n",
       "        text-align: right;\n",
       "    }\n",
       "</style>\n",
       "<table border=\"1\" class=\"dataframe\">\n",
       "  <thead>\n",
       "    <tr style=\"text-align: right;\">\n",
       "      <th></th>\n",
       "      <th>sura_num</th>\n",
       "      <th>aya_in_sura</th>\n",
       "      <th>aya_num</th>\n",
       "      <th>words_in_aya</th>\n",
       "      <th>word_num</th>\n",
       "      <th>simple</th>\n",
       "    </tr>\n",
       "  </thead>\n",
       "  <tbody>\n",
       "    <tr>\n",
       "      <th>0</th>\n",
       "      <td>1</td>\n",
       "      <td>7</td>\n",
       "      <td>1</td>\n",
       "      <td>4</td>\n",
       "      <td>1</td>\n",
       "      <td>بِسْمِ</td>\n",
       "    </tr>\n",
       "    <tr>\n",
       "      <th>1</th>\n",
       "      <td>1</td>\n",
       "      <td>7</td>\n",
       "      <td>1</td>\n",
       "      <td>4</td>\n",
       "      <td>2</td>\n",
       "      <td>اللَّهِ</td>\n",
       "    </tr>\n",
       "    <tr>\n",
       "      <th>2</th>\n",
       "      <td>1</td>\n",
       "      <td>7</td>\n",
       "      <td>1</td>\n",
       "      <td>4</td>\n",
       "      <td>3</td>\n",
       "      <td>الرَّحْمَنِ</td>\n",
       "    </tr>\n",
       "    <tr>\n",
       "      <th>3</th>\n",
       "      <td>1</td>\n",
       "      <td>7</td>\n",
       "      <td>1</td>\n",
       "      <td>4</td>\n",
       "      <td>4</td>\n",
       "      <td>الرَّحِيمِ</td>\n",
       "    </tr>\n",
       "    <tr>\n",
       "      <th>4</th>\n",
       "      <td>1</td>\n",
       "      <td>7</td>\n",
       "      <td>2</td>\n",
       "      <td>4</td>\n",
       "      <td>1</td>\n",
       "      <td>الْحَمْدُ</td>\n",
       "    </tr>\n",
       "    <tr>\n",
       "      <th>...</th>\n",
       "      <td>...</td>\n",
       "      <td>...</td>\n",
       "      <td>...</td>\n",
       "      <td>...</td>\n",
       "      <td>...</td>\n",
       "      <td>...</td>\n",
       "    </tr>\n",
       "    <tr>\n",
       "      <th>77792</th>\n",
       "      <td>114</td>\n",
       "      <td>6</td>\n",
       "      <td>5</td>\n",
       "      <td>5</td>\n",
       "      <td>4</td>\n",
       "      <td>صُدُورِ</td>\n",
       "    </tr>\n",
       "    <tr>\n",
       "      <th>77793</th>\n",
       "      <td>114</td>\n",
       "      <td>6</td>\n",
       "      <td>5</td>\n",
       "      <td>5</td>\n",
       "      <td>5</td>\n",
       "      <td>النَّاسِ</td>\n",
       "    </tr>\n",
       "    <tr>\n",
       "      <th>77794</th>\n",
       "      <td>114</td>\n",
       "      <td>6</td>\n",
       "      <td>6</td>\n",
       "      <td>3</td>\n",
       "      <td>1</td>\n",
       "      <td>مِنَ</td>\n",
       "    </tr>\n",
       "    <tr>\n",
       "      <th>77795</th>\n",
       "      <td>114</td>\n",
       "      <td>6</td>\n",
       "      <td>6</td>\n",
       "      <td>3</td>\n",
       "      <td>2</td>\n",
       "      <td>الْجِنَّةِ</td>\n",
       "    </tr>\n",
       "    <tr>\n",
       "      <th>77796</th>\n",
       "      <td>114</td>\n",
       "      <td>6</td>\n",
       "      <td>6</td>\n",
       "      <td>3</td>\n",
       "      <td>3</td>\n",
       "      <td>وَالنَّاسِ</td>\n",
       "    </tr>\n",
       "  </tbody>\n",
       "</table>\n",
       "<p>77797 rows × 6 columns</p>\n",
       "</div>"
      ],
      "text/plain": [
       "      sura_num aya_in_sura aya_num words_in_aya word_num       simple\n",
       "0            1           7       1            4        1       بِسْمِ\n",
       "1            1           7       1            4        2      اللَّهِ\n",
       "2            1           7       1            4        3  الرَّحْمَنِ\n",
       "3            1           7       1            4        4   الرَّحِيمِ\n",
       "4            1           7       2            4        1    الْحَمْدُ\n",
       "...        ...         ...     ...          ...      ...          ...\n",
       "77792      114           6       5            5        4      صُدُورِ\n",
       "77793      114           6       5            5        5     النَّاسِ\n",
       "77794      114           6       6            3        1         مِنَ\n",
       "77795      114           6       6            3        2   الْجِنَّةِ\n",
       "77796      114           6       6            3        3   وَالنَّاسِ\n",
       "\n",
       "[77797 rows x 6 columns]"
      ]
     },
     "execution_count": 110,
     "metadata": {},
     "output_type": "execute_result"
    }
   ],
   "source": [
    "words_df.rename(columns={\"word_text\":\"simple\"})"
   ]
  },
  {
   "cell_type": "code",
   "execution_count": 120,
   "metadata": {
    "ExecuteTime": {
     "end_time": "2020-12-07T01:10:13.479297Z",
     "start_time": "2020-12-07T01:10:13.453342Z"
    }
   },
   "outputs": [
    {
     "data": {
      "text/html": [
       "<div>\n",
       "<style scoped>\n",
       "    .dataframe tbody tr th:only-of-type {\n",
       "        vertical-align: middle;\n",
       "    }\n",
       "\n",
       "    .dataframe tbody tr th {\n",
       "        vertical-align: top;\n",
       "    }\n",
       "\n",
       "    .dataframe thead th {\n",
       "        text-align: right;\n",
       "    }\n",
       "</style>\n",
       "<table border=\"1\" class=\"dataframe\">\n",
       "  <thead>\n",
       "    <tr style=\"text-align: right;\">\n",
       "      <th></th>\n",
       "      <th>sura_num</th>\n",
       "      <th>aya_in_sura</th>\n",
       "      <th>aya_num</th>\n",
       "      <th>words_in_aya</th>\n",
       "      <th>word_num</th>\n",
       "      <th>word_text</th>\n",
       "      <th>word_text</th>\n",
       "    </tr>\n",
       "  </thead>\n",
       "  <tbody>\n",
       "    <tr>\n",
       "      <th>0</th>\n",
       "      <td>1</td>\n",
       "      <td>7</td>\n",
       "      <td>1</td>\n",
       "      <td>4</td>\n",
       "      <td>1</td>\n",
       "      <td>بِسْمِ</td>\n",
       "      <td>بِسْمِ</td>\n",
       "    </tr>\n",
       "    <tr>\n",
       "      <th>1</th>\n",
       "      <td>1</td>\n",
       "      <td>7</td>\n",
       "      <td>1</td>\n",
       "      <td>4</td>\n",
       "      <td>2</td>\n",
       "      <td>اللَّهِ</td>\n",
       "      <td>اللَّهِ</td>\n",
       "    </tr>\n",
       "    <tr>\n",
       "      <th>2</th>\n",
       "      <td>1</td>\n",
       "      <td>7</td>\n",
       "      <td>1</td>\n",
       "      <td>4</td>\n",
       "      <td>3</td>\n",
       "      <td>الرَّحْمَنِ</td>\n",
       "      <td>الرَّحْمَنِ</td>\n",
       "    </tr>\n",
       "    <tr>\n",
       "      <th>3</th>\n",
       "      <td>1</td>\n",
       "      <td>7</td>\n",
       "      <td>1</td>\n",
       "      <td>4</td>\n",
       "      <td>4</td>\n",
       "      <td>الرَّحِيمِ</td>\n",
       "      <td>الرَّحِيمِ</td>\n",
       "    </tr>\n",
       "    <tr>\n",
       "      <th>4</th>\n",
       "      <td>1</td>\n",
       "      <td>7</td>\n",
       "      <td>2</td>\n",
       "      <td>4</td>\n",
       "      <td>1</td>\n",
       "      <td>الْحَمْدُ</td>\n",
       "      <td>الْحَمْدُ</td>\n",
       "    </tr>\n",
       "  </tbody>\n",
       "</table>\n",
       "</div>"
      ],
      "text/plain": [
       "  sura_num aya_in_sura aya_num words_in_aya word_num    word_text    word_text\n",
       "0        1           7       1            4        1       بِسْمِ       بِسْمِ\n",
       "1        1           7       1            4        2      اللَّهِ      اللَّهِ\n",
       "2        1           7       1            4        3  الرَّحْمَنِ  الرَّحْمَنِ\n",
       "3        1           7       1            4        4   الرَّحِيمِ   الرَّحِيمِ\n",
       "4        1           7       2            4        1    الْحَمْدُ    الْحَمْدُ"
      ]
     },
     "execution_count": 120,
     "metadata": {},
     "output_type": "execute_result"
    }
   ],
   "source": [
    "pd.concat([words_df, words_df[\"word_text\"]], axis=1).head()"
   ]
  },
  {
   "cell_type": "code",
   "execution_count": 126,
   "metadata": {
    "ExecuteTime": {
     "end_time": "2020-12-07T01:13:03.213458Z",
     "start_time": "2020-12-07T01:11:51.617991Z"
    }
   },
   "outputs": [
    {
     "name": "stdout",
     "output_type": "stream",
     "text": [
      "simple\n",
      "1>2>3>4>5>6>7>8>9>10>11>12>13>14>15>16>17>18>19>20>21>22>23>24>25>26>27>28>29>30>31>32>33>34>35>36>37>38>39>40>41>42>43>44>45>46>47>48>49>50>51>52>53>54>55>56>57>58>59>60>61>62>63>64>65>66>67>68>69>70>71>72>73>74>75>76>77>78>79>80>81>82>83>84>85>86>87>88>89>90>91>92>93>94>95>96>97>98>99>100>101>102>103>104>105>106>107>108>109>110>111>112>113>114>\n",
      "*Done*\n",
      "enhanced\n",
      "1>2>3>4>5>6>7>8>9>10>11>12>13>14>15>16>17>18>19>20>21>22>23>24>25>26>27>28>29>30>31>32>33>34>35>36>37>38>39>40>41>42>43>44>45>46>47>48>49>50>51>52>53>54>55>56>57>58>59>60>61>62>63>64>65>66>67>68>69>70>71>72>73>74>75>76>77>78>79>80>81>82>83>84>85>86>87>88>89>90>91>92>93>94>95>96>97>98>99>100>101>102>103>104>105>106>107>108>109>110>111>112>113>114>\n",
      "*Done*\n",
      "min\n",
      "1>2>3>4>5>6>7>8>9>10>11>12>13>14>15>16>17>18>19>20>21>22>23>24>25>26>27>28>29>30>31>32>33>34>35>36>37>38>39>40>41>42>43>44>45>46>47>48>49>50>51>52>53>54>55>56>57>58>59>60>61>62>63>64>65>66>67>68>69>70>71>72>73>74>75>76>77>78>79>80>81>82>83>84>85>86>87>88>89>90>91>92>93>94>95>96>97>98>99>100>101>102>103>104>105>106>107>108>109>110>111>112>113>114>\n",
      "*Done*\n",
      "simple_cln\n",
      "1>2>3>4>5>6>7>8>9>10>11>12>13>14>15>16>17>18>19>20>21>22>23>24>25>26>27>28>29>30>31>32>33>34>35>36>37>38>39>40>41>42>43>44>45>46>47>48>49>50>51>52>53>54>55>56>57>58>59>60>61>62>63>64>65>66>67>68>69>70>71>72>73>74>75>76>77>78>79>80>81>82>83>84>85>86>87>88>89>90>91>92>93>94>95>96>97>98>99>100>101>102>103>104>105>106>107>108>109>110>111>112>113>114>\n",
      "*Done*\n",
      "uthmani\n",
      "1>2>3>4>5>6>7>8>9>10>11>12>13>14>15>16>17>18>19>20>21>22>23>24>25>26>27>28>29>30>31>32>33>34>35>36>37>38>39>40>41>42>43>44>45>46>47>48>49>50>51>52>53>54>55>56>57>58>59>60>61>62>63>64>65>66>67>68>69>70>71>72>73>74>75>76>77>78>79>80>81>82>83>84>85>86>87>88>89>90>91>92>93>94>95>96>97>98>99>100>101>102>103>104>105>106>107>108>109>110>111>112>113>114>\n",
      "*Done*\n",
      "uthmani_min\n",
      "1>2>3>4>5>6>7>8>9>10>11>12>13>14>15>16>17>18>19>20>21>22>23>24>25>26>27>28>29>30>31>32>33>34>35>36>37>38>39>40>41>42>43>44>45>46>47>48>49>50>51>52>53>54>55>56>57>58>59>60>61>62>63>64>65>66>67>68>69>70>71>72>73>74>75>76>77>78>79>80>81>82>83>84>85>86>87>88>89>90>91>92>93>94>95>96>97>98>99>100>101>102>103>104>105>106>107>108>109>110>111>112>113>114>\n",
      "*Done*\n"
     ]
    }
   ],
   "source": [
    "is_basic = True\n",
    "basic_ds = []\n",
    "for file_name in quran_text.keys():\n",
    "    print(file_name)\n",
    "    ds = get_dataset(file_name)\n",
    "    words_df = get_full_dataset(ds)\n",
    "    words_df.rename(columns={\"word_text\": file_name}, inplace=True)\n",
    "    if is_basic:\n",
    "        basic_ds.append(words_df)\n",
    "        is_basic = False\n",
    "    else:\n",
    "        basic_ds.append(words_df[file_name])"
   ]
  },
  {
   "cell_type": "code",
   "execution_count": 127,
   "metadata": {
    "ExecuteTime": {
     "end_time": "2020-12-07T01:13:46.200220Z",
     "start_time": "2020-12-07T01:13:46.169303Z"
    }
   },
   "outputs": [],
   "source": [
    "final_dataset = pd.concat(basic_ds, axis=1)"
   ]
  },
  {
   "cell_type": "code",
   "execution_count": 129,
   "metadata": {
    "ExecuteTime": {
     "end_time": "2020-12-07T01:13:59.960257Z",
     "start_time": "2020-12-07T01:13:59.893437Z"
    }
   },
   "outputs": [
    {
     "name": "stdout",
     "output_type": "stream",
     "text": [
      "<class 'pandas.core.frame.DataFrame'>\n",
      "RangeIndex: 77797 entries, 0 to 77796\n",
      "Data columns (total 11 columns):\n",
      " #   Column        Non-Null Count  Dtype \n",
      "---  ------        --------------  ----- \n",
      " 0   sura_num      77797 non-null  object\n",
      " 1   aya_in_sura   77797 non-null  object\n",
      " 2   aya_num       77797 non-null  object\n",
      " 3   words_in_aya  77797 non-null  object\n",
      " 4   word_num      77797 non-null  object\n",
      " 5   simple        77797 non-null  object\n",
      " 6   enhanced      77797 non-null  object\n",
      " 7   min           77797 non-null  object\n",
      " 8   simple_cln    77797 non-null  object\n",
      " 9   uthmani       77430 non-null  object\n",
      " 10  uthmani_min   77430 non-null  object\n",
      "dtypes: object(11)\n",
      "memory usage: 6.5+ MB\n"
     ]
    }
   ],
   "source": [
    "final_dataset.info()"
   ]
  },
  {
   "cell_type": "code",
   "execution_count": 130,
   "metadata": {
    "ExecuteTime": {
     "end_time": "2020-12-07T01:14:26.357818Z",
     "start_time": "2020-12-07T01:14:26.340836Z"
    }
   },
   "outputs": [
    {
     "data": {
      "text/html": [
       "<div>\n",
       "<style scoped>\n",
       "    .dataframe tbody tr th:only-of-type {\n",
       "        vertical-align: middle;\n",
       "    }\n",
       "\n",
       "    .dataframe tbody tr th {\n",
       "        vertical-align: top;\n",
       "    }\n",
       "\n",
       "    .dataframe thead th {\n",
       "        text-align: right;\n",
       "    }\n",
       "</style>\n",
       "<table border=\"1\" class=\"dataframe\">\n",
       "  <thead>\n",
       "    <tr style=\"text-align: right;\">\n",
       "      <th></th>\n",
       "      <th>sura_num</th>\n",
       "      <th>aya_in_sura</th>\n",
       "      <th>aya_num</th>\n",
       "      <th>words_in_aya</th>\n",
       "      <th>word_num</th>\n",
       "      <th>simple</th>\n",
       "      <th>enhanced</th>\n",
       "      <th>min</th>\n",
       "      <th>simple_cln</th>\n",
       "      <th>uthmani</th>\n",
       "      <th>uthmani_min</th>\n",
       "    </tr>\n",
       "  </thead>\n",
       "  <tbody>\n",
       "    <tr>\n",
       "      <th>0</th>\n",
       "      <td>1</td>\n",
       "      <td>7</td>\n",
       "      <td>1</td>\n",
       "      <td>4</td>\n",
       "      <td>1</td>\n",
       "      <td>بِسْمِ</td>\n",
       "      <td>بِسْمِ</td>\n",
       "      <td>بِسمِ</td>\n",
       "      <td>بسم</td>\n",
       "      <td>بِسْمِ</td>\n",
       "      <td>بِسمِ</td>\n",
       "    </tr>\n",
       "    <tr>\n",
       "      <th>1</th>\n",
       "      <td>1</td>\n",
       "      <td>7</td>\n",
       "      <td>1</td>\n",
       "      <td>4</td>\n",
       "      <td>2</td>\n",
       "      <td>اللَّهِ</td>\n",
       "      <td>اللَّهِ</td>\n",
       "      <td>اللَّهِ</td>\n",
       "      <td>الله</td>\n",
       "      <td>ٱللَّهِ</td>\n",
       "      <td>اللَّهِ</td>\n",
       "    </tr>\n",
       "    <tr>\n",
       "      <th>2</th>\n",
       "      <td>1</td>\n",
       "      <td>7</td>\n",
       "      <td>1</td>\n",
       "      <td>4</td>\n",
       "      <td>3</td>\n",
       "      <td>الرَّحْمَنِ</td>\n",
       "      <td>الرَّحْمَنِ</td>\n",
       "      <td>الرَّحمنِ</td>\n",
       "      <td>الرحمن</td>\n",
       "      <td>ٱلرَّحْمَٰنِ</td>\n",
       "      <td>الرَّحمٰنِ</td>\n",
       "    </tr>\n",
       "    <tr>\n",
       "      <th>3</th>\n",
       "      <td>1</td>\n",
       "      <td>7</td>\n",
       "      <td>1</td>\n",
       "      <td>4</td>\n",
       "      <td>4</td>\n",
       "      <td>الرَّحِيمِ</td>\n",
       "      <td>الرَّحِيمِ</td>\n",
       "      <td>الرَّحيمِ</td>\n",
       "      <td>الرحيم</td>\n",
       "      <td>ٱلرَّحِيمِ</td>\n",
       "      <td>الرَّحيمِ</td>\n",
       "    </tr>\n",
       "    <tr>\n",
       "      <th>4</th>\n",
       "      <td>1</td>\n",
       "      <td>7</td>\n",
       "      <td>2</td>\n",
       "      <td>4</td>\n",
       "      <td>1</td>\n",
       "      <td>الْحَمْدُ</td>\n",
       "      <td>الْحَمْدُ</td>\n",
       "      <td>الحَمدُ</td>\n",
       "      <td>الحمد</td>\n",
       "      <td>ٱلْحَمْدُ</td>\n",
       "      <td>الحَمدُ</td>\n",
       "    </tr>\n",
       "    <tr>\n",
       "      <th>5</th>\n",
       "      <td>1</td>\n",
       "      <td>7</td>\n",
       "      <td>2</td>\n",
       "      <td>4</td>\n",
       "      <td>2</td>\n",
       "      <td>لِلَّهِ</td>\n",
       "      <td>لِلَّهِ</td>\n",
       "      <td>لِلَّهِ</td>\n",
       "      <td>لله</td>\n",
       "      <td>لِلَّهِ</td>\n",
       "      <td>لِلَّهِ</td>\n",
       "    </tr>\n",
       "    <tr>\n",
       "      <th>6</th>\n",
       "      <td>1</td>\n",
       "      <td>7</td>\n",
       "      <td>2</td>\n",
       "      <td>4</td>\n",
       "      <td>3</td>\n",
       "      <td>رَبِّ</td>\n",
       "      <td>رَبِّ</td>\n",
       "      <td>رَبِّ</td>\n",
       "      <td>رب</td>\n",
       "      <td>رَبِّ</td>\n",
       "      <td>رَبِّ</td>\n",
       "    </tr>\n",
       "    <tr>\n",
       "      <th>7</th>\n",
       "      <td>1</td>\n",
       "      <td>7</td>\n",
       "      <td>2</td>\n",
       "      <td>4</td>\n",
       "      <td>4</td>\n",
       "      <td>الْعَالَمِينَ</td>\n",
       "      <td>الْعَالَمِينَ</td>\n",
       "      <td>العالَمينَ</td>\n",
       "      <td>العالمين</td>\n",
       "      <td>ٱلْعَٰلَمِينَ</td>\n",
       "      <td>العٰلَمينَ</td>\n",
       "    </tr>\n",
       "    <tr>\n",
       "      <th>8</th>\n",
       "      <td>1</td>\n",
       "      <td>7</td>\n",
       "      <td>3</td>\n",
       "      <td>2</td>\n",
       "      <td>1</td>\n",
       "      <td>الرَّحْمَنِ</td>\n",
       "      <td>الرَّحْمَنِ</td>\n",
       "      <td>الرَّحمنِ</td>\n",
       "      <td>الرحمن</td>\n",
       "      <td>ٱلرَّحْمَٰنِ</td>\n",
       "      <td>الرَّحمٰنِ</td>\n",
       "    </tr>\n",
       "    <tr>\n",
       "      <th>9</th>\n",
       "      <td>1</td>\n",
       "      <td>7</td>\n",
       "      <td>3</td>\n",
       "      <td>2</td>\n",
       "      <td>2</td>\n",
       "      <td>الرَّحِيمِ</td>\n",
       "      <td>الرَّحِيمِ</td>\n",
       "      <td>الرَّحيمِ</td>\n",
       "      <td>الرحيم</td>\n",
       "      <td>ٱلرَّحِيمِ</td>\n",
       "      <td>الرَّحيمِ</td>\n",
       "    </tr>\n",
       "  </tbody>\n",
       "</table>\n",
       "</div>"
      ],
      "text/plain": [
       "  sura_num aya_in_sura aya_num words_in_aya word_num         simple  \\\n",
       "0        1           7       1            4        1         بِسْمِ   \n",
       "1        1           7       1            4        2        اللَّهِ   \n",
       "2        1           7       1            4        3    الرَّحْمَنِ   \n",
       "3        1           7       1            4        4     الرَّحِيمِ   \n",
       "4        1           7       2            4        1      الْحَمْدُ   \n",
       "5        1           7       2            4        2        لِلَّهِ   \n",
       "6        1           7       2            4        3          رَبِّ   \n",
       "7        1           7       2            4        4  الْعَالَمِينَ   \n",
       "8        1           7       3            2        1    الرَّحْمَنِ   \n",
       "9        1           7       3            2        2     الرَّحِيمِ   \n",
       "\n",
       "        enhanced         min simple_cln        uthmani uthmani_min  \n",
       "0         بِسْمِ       بِسمِ        بسم         بِسْمِ       بِسمِ  \n",
       "1        اللَّهِ     اللَّهِ       الله        ٱللَّهِ     اللَّهِ  \n",
       "2    الرَّحْمَنِ   الرَّحمنِ     الرحمن   ٱلرَّحْمَٰنِ  الرَّحمٰنِ  \n",
       "3     الرَّحِيمِ   الرَّحيمِ     الرحيم     ٱلرَّحِيمِ   الرَّحيمِ  \n",
       "4      الْحَمْدُ     الحَمدُ      الحمد      ٱلْحَمْدُ     الحَمدُ  \n",
       "5        لِلَّهِ     لِلَّهِ        لله        لِلَّهِ     لِلَّهِ  \n",
       "6          رَبِّ       رَبِّ         رب          رَبِّ       رَبِّ  \n",
       "7  الْعَالَمِينَ  العالَمينَ   العالمين  ٱلْعَٰلَمِينَ  العٰلَمينَ  \n",
       "8    الرَّحْمَنِ   الرَّحمنِ     الرحمن   ٱلرَّحْمَٰنِ  الرَّحمٰنِ  \n",
       "9     الرَّحِيمِ   الرَّحيمِ     الرحيم     ٱلرَّحِيمِ   الرَّحيمِ  "
      ]
     },
     "execution_count": 130,
     "metadata": {},
     "output_type": "execute_result"
    }
   ],
   "source": [
    "final_dataset.head(10)"
   ]
  },
  {
   "cell_type": "code",
   "execution_count": 131,
   "metadata": {
    "ExecuteTime": {
     "end_time": "2020-12-07T01:18:54.673653Z",
     "start_time": "2020-12-07T01:18:54.667668Z"
    }
   },
   "outputs": [],
   "source": [
    "# All files are 77797 words, while Uthmani files are only 77430 words each!\n",
    "\n",
    "# Why? Don't know\n",
    "\n",
    "# Let's separate the uthmani files"
   ]
  },
  {
   "cell_type": "code",
   "execution_count": 132,
   "metadata": {
    "ExecuteTime": {
     "end_time": "2020-12-07T01:20:07.459971Z",
     "start_time": "2020-12-07T01:20:07.429030Z"
    }
   },
   "outputs": [
    {
     "data": {
      "text/html": [
       "<div>\n",
       "<style scoped>\n",
       "    .dataframe tbody tr th:only-of-type {\n",
       "        vertical-align: middle;\n",
       "    }\n",
       "\n",
       "    .dataframe tbody tr th {\n",
       "        vertical-align: top;\n",
       "    }\n",
       "\n",
       "    .dataframe thead th {\n",
       "        text-align: right;\n",
       "    }\n",
       "</style>\n",
       "<table border=\"1\" class=\"dataframe\">\n",
       "  <thead>\n",
       "    <tr style=\"text-align: right;\">\n",
       "      <th></th>\n",
       "      <th>sura_num</th>\n",
       "      <th>aya_in_sura</th>\n",
       "      <th>aya_num</th>\n",
       "      <th>words_in_aya</th>\n",
       "      <th>word_num</th>\n",
       "      <th>simple</th>\n",
       "      <th>enhanced</th>\n",
       "      <th>min</th>\n",
       "      <th>simple_cln</th>\n",
       "    </tr>\n",
       "  </thead>\n",
       "  <tbody>\n",
       "    <tr>\n",
       "      <th>0</th>\n",
       "      <td>1</td>\n",
       "      <td>7</td>\n",
       "      <td>1</td>\n",
       "      <td>4</td>\n",
       "      <td>1</td>\n",
       "      <td>بِسْمِ</td>\n",
       "      <td>بِسْمِ</td>\n",
       "      <td>بِسمِ</td>\n",
       "      <td>بسم</td>\n",
       "    </tr>\n",
       "    <tr>\n",
       "      <th>1</th>\n",
       "      <td>1</td>\n",
       "      <td>7</td>\n",
       "      <td>1</td>\n",
       "      <td>4</td>\n",
       "      <td>2</td>\n",
       "      <td>اللَّهِ</td>\n",
       "      <td>اللَّهِ</td>\n",
       "      <td>اللَّهِ</td>\n",
       "      <td>الله</td>\n",
       "    </tr>\n",
       "    <tr>\n",
       "      <th>2</th>\n",
       "      <td>1</td>\n",
       "      <td>7</td>\n",
       "      <td>1</td>\n",
       "      <td>4</td>\n",
       "      <td>3</td>\n",
       "      <td>الرَّحْمَنِ</td>\n",
       "      <td>الرَّحْمَنِ</td>\n",
       "      <td>الرَّحمنِ</td>\n",
       "      <td>الرحمن</td>\n",
       "    </tr>\n",
       "    <tr>\n",
       "      <th>3</th>\n",
       "      <td>1</td>\n",
       "      <td>7</td>\n",
       "      <td>1</td>\n",
       "      <td>4</td>\n",
       "      <td>4</td>\n",
       "      <td>الرَّحِيمِ</td>\n",
       "      <td>الرَّحِيمِ</td>\n",
       "      <td>الرَّحيمِ</td>\n",
       "      <td>الرحيم</td>\n",
       "    </tr>\n",
       "    <tr>\n",
       "      <th>4</th>\n",
       "      <td>1</td>\n",
       "      <td>7</td>\n",
       "      <td>2</td>\n",
       "      <td>4</td>\n",
       "      <td>1</td>\n",
       "      <td>الْحَمْدُ</td>\n",
       "      <td>الْحَمْدُ</td>\n",
       "      <td>الحَمدُ</td>\n",
       "      <td>الحمد</td>\n",
       "    </tr>\n",
       "  </tbody>\n",
       "</table>\n",
       "</div>"
      ],
      "text/plain": [
       "  sura_num aya_in_sura aya_num words_in_aya word_num       simple  \\\n",
       "0        1           7       1            4        1       بِسْمِ   \n",
       "1        1           7       1            4        2      اللَّهِ   \n",
       "2        1           7       1            4        3  الرَّحْمَنِ   \n",
       "3        1           7       1            4        4   الرَّحِيمِ   \n",
       "4        1           7       2            4        1    الْحَمْدُ   \n",
       "\n",
       "      enhanced        min simple_cln  \n",
       "0       بِسْمِ      بِسمِ        بسم  \n",
       "1      اللَّهِ    اللَّهِ       الله  \n",
       "2  الرَّحْمَنِ  الرَّحمنِ     الرحمن  \n",
       "3   الرَّحِيمِ  الرَّحيمِ     الرحيم  \n",
       "4    الْحَمْدُ    الحَمدُ      الحمد  "
      ]
     },
     "execution_count": 132,
     "metadata": {},
     "output_type": "execute_result"
    }
   ],
   "source": [
    "final_dataset.drop(['uthmani','uthmani_min'], axis=1).head()"
   ]
  },
  {
   "cell_type": "code",
   "execution_count": 133,
   "metadata": {
    "ExecuteTime": {
     "end_time": "2020-12-07T01:20:31.161573Z",
     "start_time": "2020-12-07T01:20:31.148581Z"
    }
   },
   "outputs": [],
   "source": [
    "final_dataset.drop(['uthmani','uthmani_min'], axis=1, inplace=True)"
   ]
  },
  {
   "cell_type": "code",
   "execution_count": 134,
   "metadata": {
    "ExecuteTime": {
     "end_time": "2020-12-07T01:22:55.085918Z",
     "start_time": "2020-12-07T01:22:31.099891Z"
    }
   },
   "outputs": [
    {
     "name": "stdout",
     "output_type": "stream",
     "text": [
      "uthmani\n",
      "1>2>3>4>5>6>7>8>9>10>11>12>13>14>15>16>17>18>19>20>21>22>23>24>25>26>27>28>29>30>31>32>33>34>35>36>37>38>39>40>41>42>43>44>45>46>47>48>49>50>51>52>53>54>55>56>57>58>59>60>61>62>63>64>65>66>67>68>69>70>71>72>73>74>75>76>77>78>79>80>81>82>83>84>85>86>87>88>89>90>91>92>93>94>95>96>97>98>99>100>101>102>103>104>105>106>107>108>109>110>111>112>113>114>\n",
      "*Done*\n",
      "uthmani_min\n",
      "1>2>3>4>5>6>7>8>9>10>11>12>13>14>15>16>17>18>19>20>21>22>23>24>25>26>27>28>29>30>31>32>33>34>35>36>37>38>39>40>41>42>43>44>45>46>47>48>49>50>51>52>53>54>55>56>57>58>59>60>61>62>63>64>65>66>67>68>69>70>71>72>73>74>75>76>77>78>79>80>81>82>83>84>85>86>87>88>89>90>91>92>93>94>95>96>97>98>99>100>101>102>103>104>105>106>107>108>109>110>111>112>113>114>\n",
      "*Done*\n"
     ]
    },
    {
     "data": {
      "text/html": [
       "<div>\n",
       "<style scoped>\n",
       "    .dataframe tbody tr th:only-of-type {\n",
       "        vertical-align: middle;\n",
       "    }\n",
       "\n",
       "    .dataframe tbody tr th {\n",
       "        vertical-align: top;\n",
       "    }\n",
       "\n",
       "    .dataframe thead th {\n",
       "        text-align: right;\n",
       "    }\n",
       "</style>\n",
       "<table border=\"1\" class=\"dataframe\">\n",
       "  <thead>\n",
       "    <tr style=\"text-align: right;\">\n",
       "      <th></th>\n",
       "      <th>sura_num</th>\n",
       "      <th>aya_in_sura</th>\n",
       "      <th>aya_num</th>\n",
       "      <th>words_in_aya</th>\n",
       "      <th>word_num</th>\n",
       "      <th>uthmani</th>\n",
       "      <th>uthmani_min</th>\n",
       "    </tr>\n",
       "  </thead>\n",
       "  <tbody>\n",
       "    <tr>\n",
       "      <th>0</th>\n",
       "      <td>1</td>\n",
       "      <td>7</td>\n",
       "      <td>1</td>\n",
       "      <td>4</td>\n",
       "      <td>1</td>\n",
       "      <td>بِسْمِ</td>\n",
       "      <td>بِسمِ</td>\n",
       "    </tr>\n",
       "    <tr>\n",
       "      <th>1</th>\n",
       "      <td>1</td>\n",
       "      <td>7</td>\n",
       "      <td>1</td>\n",
       "      <td>4</td>\n",
       "      <td>2</td>\n",
       "      <td>ٱللَّهِ</td>\n",
       "      <td>اللَّهِ</td>\n",
       "    </tr>\n",
       "    <tr>\n",
       "      <th>2</th>\n",
       "      <td>1</td>\n",
       "      <td>7</td>\n",
       "      <td>1</td>\n",
       "      <td>4</td>\n",
       "      <td>3</td>\n",
       "      <td>ٱلرَّحْمَٰنِ</td>\n",
       "      <td>الرَّحمٰنِ</td>\n",
       "    </tr>\n",
       "    <tr>\n",
       "      <th>3</th>\n",
       "      <td>1</td>\n",
       "      <td>7</td>\n",
       "      <td>1</td>\n",
       "      <td>4</td>\n",
       "      <td>4</td>\n",
       "      <td>ٱلرَّحِيمِ</td>\n",
       "      <td>الرَّحيمِ</td>\n",
       "    </tr>\n",
       "    <tr>\n",
       "      <th>4</th>\n",
       "      <td>1</td>\n",
       "      <td>7</td>\n",
       "      <td>2</td>\n",
       "      <td>4</td>\n",
       "      <td>1</td>\n",
       "      <td>ٱلْحَمْدُ</td>\n",
       "      <td>الحَمدُ</td>\n",
       "    </tr>\n",
       "    <tr>\n",
       "      <th>5</th>\n",
       "      <td>1</td>\n",
       "      <td>7</td>\n",
       "      <td>2</td>\n",
       "      <td>4</td>\n",
       "      <td>2</td>\n",
       "      <td>لِلَّهِ</td>\n",
       "      <td>لِلَّهِ</td>\n",
       "    </tr>\n",
       "    <tr>\n",
       "      <th>6</th>\n",
       "      <td>1</td>\n",
       "      <td>7</td>\n",
       "      <td>2</td>\n",
       "      <td>4</td>\n",
       "      <td>3</td>\n",
       "      <td>رَبِّ</td>\n",
       "      <td>رَبِّ</td>\n",
       "    </tr>\n",
       "    <tr>\n",
       "      <th>7</th>\n",
       "      <td>1</td>\n",
       "      <td>7</td>\n",
       "      <td>2</td>\n",
       "      <td>4</td>\n",
       "      <td>4</td>\n",
       "      <td>ٱلْعَٰلَمِينَ</td>\n",
       "      <td>العٰلَمينَ</td>\n",
       "    </tr>\n",
       "    <tr>\n",
       "      <th>8</th>\n",
       "      <td>1</td>\n",
       "      <td>7</td>\n",
       "      <td>3</td>\n",
       "      <td>2</td>\n",
       "      <td>1</td>\n",
       "      <td>ٱلرَّحْمَٰنِ</td>\n",
       "      <td>الرَّحمٰنِ</td>\n",
       "    </tr>\n",
       "    <tr>\n",
       "      <th>9</th>\n",
       "      <td>1</td>\n",
       "      <td>7</td>\n",
       "      <td>3</td>\n",
       "      <td>2</td>\n",
       "      <td>2</td>\n",
       "      <td>ٱلرَّحِيمِ</td>\n",
       "      <td>الرَّحيمِ</td>\n",
       "    </tr>\n",
       "  </tbody>\n",
       "</table>\n",
       "</div>"
      ],
      "text/plain": [
       "  sura_num aya_in_sura aya_num words_in_aya word_num        uthmani  \\\n",
       "0        1           7       1            4        1         بِسْمِ   \n",
       "1        1           7       1            4        2        ٱللَّهِ   \n",
       "2        1           7       1            4        3   ٱلرَّحْمَٰنِ   \n",
       "3        1           7       1            4        4     ٱلرَّحِيمِ   \n",
       "4        1           7       2            4        1      ٱلْحَمْدُ   \n",
       "5        1           7       2            4        2        لِلَّهِ   \n",
       "6        1           7       2            4        3          رَبِّ   \n",
       "7        1           7       2            4        4  ٱلْعَٰلَمِينَ   \n",
       "8        1           7       3            2        1   ٱلرَّحْمَٰنِ   \n",
       "9        1           7       3            2        2     ٱلرَّحِيمِ   \n",
       "\n",
       "  uthmani_min  \n",
       "0       بِسمِ  \n",
       "1     اللَّهِ  \n",
       "2  الرَّحمٰنِ  \n",
       "3   الرَّحيمِ  \n",
       "4     الحَمدُ  \n",
       "5     لِلَّهِ  \n",
       "6       رَبِّ  \n",
       "7  العٰلَمينَ  \n",
       "8  الرَّحمٰنِ  \n",
       "9   الرَّحيمِ  "
      ]
     },
     "execution_count": 134,
     "metadata": {},
     "output_type": "execute_result"
    }
   ],
   "source": [
    "is_basic = True\n",
    "basic_ds = []\n",
    "for file_name in ['uthmani','uthmani_min']:\n",
    "    print(file_name)\n",
    "    ds = get_dataset(file_name)\n",
    "    words_df = get_full_dataset(ds)\n",
    "    words_df.rename(columns={\"word_text\": file_name}, inplace=True)\n",
    "    if is_basic:\n",
    "        basic_ds.append(words_df)\n",
    "        is_basic = False\n",
    "    else:\n",
    "        basic_ds.append(words_df[file_name])\n",
    "        \n",
    "uthmani_dataset = pd.concat(basic_ds, axis=1)\n",
    "basic_ds = []\n",
    "uthmani_dataset.head(10)"
   ]
  },
  {
   "cell_type": "code",
   "execution_count": 135,
   "metadata": {
    "ExecuteTime": {
     "end_time": "2020-12-07T01:23:07.900723Z",
     "start_time": "2020-12-07T01:23:07.852851Z"
    }
   },
   "outputs": [
    {
     "name": "stdout",
     "output_type": "stream",
     "text": [
      "<class 'pandas.core.frame.DataFrame'>\n",
      "RangeIndex: 77430 entries, 0 to 77429\n",
      "Data columns (total 7 columns):\n",
      " #   Column        Non-Null Count  Dtype \n",
      "---  ------        --------------  ----- \n",
      " 0   sura_num      77430 non-null  object\n",
      " 1   aya_in_sura   77430 non-null  object\n",
      " 2   aya_num       77430 non-null  object\n",
      " 3   words_in_aya  77430 non-null  object\n",
      " 4   word_num      77430 non-null  object\n",
      " 5   uthmani       77430 non-null  object\n",
      " 6   uthmani_min   77430 non-null  object\n",
      "dtypes: object(7)\n",
      "memory usage: 4.1+ MB\n"
     ]
    }
   ],
   "source": [
    "uthmani_dataset.info()"
   ]
  },
  {
   "cell_type": "code",
   "execution_count": 136,
   "metadata": {
    "ExecuteTime": {
     "end_time": "2020-12-07T01:23:29.907035Z",
     "start_time": "2020-12-07T01:23:29.805280Z"
    }
   },
   "outputs": [
    {
     "data": {
      "text/html": [
       "<div>\n",
       "<style scoped>\n",
       "    .dataframe tbody tr th:only-of-type {\n",
       "        vertical-align: middle;\n",
       "    }\n",
       "\n",
       "    .dataframe tbody tr th {\n",
       "        vertical-align: top;\n",
       "    }\n",
       "\n",
       "    .dataframe thead th {\n",
       "        text-align: right;\n",
       "    }\n",
       "</style>\n",
       "<table border=\"1\" class=\"dataframe\">\n",
       "  <thead>\n",
       "    <tr style=\"text-align: right;\">\n",
       "      <th></th>\n",
       "      <th>sura_num</th>\n",
       "      <th>aya_in_sura</th>\n",
       "      <th>aya_num</th>\n",
       "      <th>words_in_aya</th>\n",
       "      <th>word_num</th>\n",
       "      <th>uthmani</th>\n",
       "      <th>uthmani_min</th>\n",
       "    </tr>\n",
       "  </thead>\n",
       "  <tbody>\n",
       "    <tr>\n",
       "      <th>count</th>\n",
       "      <td>77430</td>\n",
       "      <td>77430</td>\n",
       "      <td>77430</td>\n",
       "      <td>77430</td>\n",
       "      <td>77430</td>\n",
       "      <td>77430</td>\n",
       "      <td>77430</td>\n",
       "    </tr>\n",
       "    <tr>\n",
       "      <th>unique</th>\n",
       "      <td>114</td>\n",
       "      <td>77</td>\n",
       "      <td>286</td>\n",
       "      <td>74</td>\n",
       "      <td>128</td>\n",
       "      <td>18994</td>\n",
       "      <td>17943</td>\n",
       "    </tr>\n",
       "    <tr>\n",
       "      <th>top</th>\n",
       "      <td>2</td>\n",
       "      <td>286</td>\n",
       "      <td>7</td>\n",
       "      <td>11</td>\n",
       "      <td>1</td>\n",
       "      <td>فِى</td>\n",
       "      <td>مِن</td>\n",
       "    </tr>\n",
       "    <tr>\n",
       "      <th>freq</th>\n",
       "      <td>6116</td>\n",
       "      <td>6116</td>\n",
       "      <td>1158</td>\n",
       "      <td>3795</td>\n",
       "      <td>6236</td>\n",
       "      <td>1098</td>\n",
       "      <td>1673</td>\n",
       "    </tr>\n",
       "  </tbody>\n",
       "</table>\n",
       "</div>"
      ],
      "text/plain": [
       "        sura_num  aya_in_sura  aya_num  words_in_aya  word_num uthmani  \\\n",
       "count      77430        77430    77430         77430     77430   77430   \n",
       "unique       114           77      286            74       128   18994   \n",
       "top            2          286        7            11         1     فِى   \n",
       "freq        6116         6116     1158          3795      6236    1098   \n",
       "\n",
       "       uthmani_min  \n",
       "count        77430  \n",
       "unique       17943  \n",
       "top            مِن  \n",
       "freq          1673  "
      ]
     },
     "execution_count": 136,
     "metadata": {},
     "output_type": "execute_result"
    }
   ],
   "source": [
    "uthmani_dataset.describe()"
   ]
  },
  {
   "cell_type": "code",
   "execution_count": 139,
   "metadata": {
    "ExecuteTime": {
     "end_time": "2020-12-07T01:31:07.653636Z",
     "start_time": "2020-12-07T01:31:07.211818Z"
    }
   },
   "outputs": [
    {
     "name": "stdout",
     "output_type": "stream",
     "text": [
      "SimpleTexts exported successfully\n",
      "UthmaniTexts exported successfully\n"
     ]
    }
   ],
   "source": [
    "final_dataset.to_csv(os.path.join(text_path, 'Output',\n",
    "                                  'simple_text.CSV'), encoding='utf-8-sig')\n",
    "print('SimpleTexts exported successfully')\n",
    "uthmani_dataset.to_csv(os.path.join(text_path, 'Output',\n",
    "                                  'uthmani_text.CSV'), encoding='utf-8-sig')\n",
    "print('UthmaniTexts exported successfully')"
   ]
  },
  {
   "cell_type": "code",
   "execution_count": null,
   "metadata": {},
   "outputs": [],
   "source": []
  }
 ],
 "metadata": {
  "kernelspec": {
   "display_name": "Python 3",
   "language": "python",
   "name": "python3"
  },
  "language_info": {
   "codemirror_mode": {
    "name": "ipython",
    "version": 3
   },
   "file_extension": ".py",
   "mimetype": "text/x-python",
   "name": "python",
   "nbconvert_exporter": "python",
   "pygments_lexer": "ipython3",
   "version": "3.8.3"
  },
  "varInspector": {
   "cols": {
    "lenName": 16,
    "lenType": 16,
    "lenVar": 40
   },
   "kernels_config": {
    "python": {
     "delete_cmd_postfix": "",
     "delete_cmd_prefix": "del ",
     "library": "var_list.py",
     "varRefreshCmd": "print(var_dic_list())"
    },
    "r": {
     "delete_cmd_postfix": ") ",
     "delete_cmd_prefix": "rm(",
     "library": "var_list.r",
     "varRefreshCmd": "cat(var_dic_list()) "
    }
   },
   "types_to_exclude": [
    "module",
    "function",
    "builtin_function_or_method",
    "instance",
    "_Feature"
   ],
   "window_display": false
  }
 },
 "nbformat": 4,
 "nbformat_minor": 4
}
