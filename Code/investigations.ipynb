{
 "cells": [
  {
   "cell_type": "code",
   "execution_count": 1,
   "metadata": {
    "ExecuteTime": {
     "end_time": "2020-12-12T03:58:22.792700Z",
     "start_time": "2020-12-12T03:58:22.775717Z"
    }
   },
   "outputs": [],
   "source": [
    "import numpy as np"
   ]
  },
  {
   "cell_type": "code",
   "execution_count": 2,
   "metadata": {
    "ExecuteTime": {
     "end_time": "2020-12-12T03:58:57.504963Z",
     "start_time": "2020-12-12T03:58:57.495986Z"
    }
   },
   "outputs": [],
   "source": [
    "z = np.array([[5, 9, 8], [9, 0, 6]])"
   ]
  },
  {
   "cell_type": "code",
   "execution_count": 4,
   "metadata": {
    "ExecuteTime": {
     "end_time": "2020-12-12T03:59:29.737145Z",
     "start_time": "2020-12-12T03:59:29.717171Z"
    }
   },
   "outputs": [
    {
     "data": {
      "text/plain": [
       "array([[9, 8],\n",
       "       [0, 6]])"
      ]
     },
     "execution_count": 4,
     "metadata": {},
     "output_type": "execute_result"
    }
   ],
   "source": [
    "z[0:,1:]"
   ]
  },
  {
   "cell_type": "code",
   "execution_count": 6,
   "metadata": {
    "ExecuteTime": {
     "end_time": "2020-12-12T04:08:38.180283Z",
     "start_time": "2020-12-12T04:08:38.164326Z"
    }
   },
   "outputs": [],
   "source": [
    "x=[9, 2, 8, 4, 5]"
   ]
  },
  {
   "cell_type": "code",
   "execution_count": 7,
   "metadata": {
    "ExecuteTime": {
     "end_time": "2020-12-12T04:08:56.005433Z",
     "start_time": "2020-12-12T04:08:55.988452Z"
    }
   },
   "outputs": [],
   "source": [
    "x.remove(9)"
   ]
  },
  {
   "cell_type": "code",
   "execution_count": 8,
   "metadata": {
    "ExecuteTime": {
     "end_time": "2020-12-12T04:09:00.392454Z",
     "start_time": "2020-12-12T04:09:00.381456Z"
    }
   },
   "outputs": [
    {
     "data": {
      "text/plain": [
       "[2, 8, 4, 5]"
      ]
     },
     "execution_count": 8,
     "metadata": {},
     "output_type": "execute_result"
    }
   ],
   "source": [
    "x"
   ]
  },
  {
   "cell_type": "code",
   "execution_count": 9,
   "metadata": {
    "ExecuteTime": {
     "end_time": "2020-12-12T19:45:39.217629Z",
     "start_time": "2020-12-12T19:45:39.204673Z"
    }
   },
   "outputs": [
    {
     "data": {
      "text/plain": [
       "['a', 'bb', '3']"
      ]
     },
     "execution_count": 9,
     "metadata": {},
     "output_type": "execute_result"
    }
   ],
   "source": [
    "x2=['a', 'b'*2,'3']\n",
    "x2"
   ]
  },
  {
   "cell_type": "code",
   "execution_count": 12,
   "metadata": {
    "ExecuteTime": {
     "end_time": "2020-12-15T22:39:05.359829Z",
     "start_time": "2020-12-15T22:39:05.342875Z"
    }
   },
   "outputs": [
    {
     "data": {
      "text/plain": [
       "['M', 'a', 'y', 'B', 'e']"
      ]
     },
     "execution_count": 12,
     "metadata": {},
     "output_type": "execute_result"
    }
   ],
   "source": [
    "list('MayBe')"
   ]
  },
  {
   "cell_type": "code",
   "execution_count": 13,
   "metadata": {
    "ExecuteTime": {
     "end_time": "2020-12-15T22:42:06.532217Z",
     "start_time": "2020-12-15T22:42:06.518255Z"
    }
   },
   "outputs": [],
   "source": [
    "from collections import Counter"
   ]
  },
  {
   "cell_type": "code",
   "execution_count": 14,
   "metadata": {
    "ExecuteTime": {
     "end_time": "2020-12-15T22:42:51.316120Z",
     "start_time": "2020-12-15T22:42:51.304127Z"
    }
   },
   "outputs": [],
   "source": [
    "c=Counter('Antidistablishminenterialism')"
   ]
  },
  {
   "cell_type": "code",
   "execution_count": 15,
   "metadata": {
    "ExecuteTime": {
     "end_time": "2020-12-15T22:42:54.696503Z",
     "start_time": "2020-12-15T22:42:54.687531Z"
    }
   },
   "outputs": [
    {
     "data": {
      "text/plain": [
       "Counter({'A': 1,\n",
       "         'n': 3,\n",
       "         't': 3,\n",
       "         'i': 6,\n",
       "         'd': 1,\n",
       "         's': 3,\n",
       "         'a': 2,\n",
       "         'b': 1,\n",
       "         'l': 2,\n",
       "         'h': 1,\n",
       "         'm': 2,\n",
       "         'e': 2,\n",
       "         'r': 1})"
      ]
     },
     "execution_count": 15,
     "metadata": {},
     "output_type": "execute_result"
    }
   ],
   "source": [
    "c"
   ]
  },
  {
   "cell_type": "code",
   "execution_count": 16,
   "metadata": {
    "ExecuteTime": {
     "end_time": "2020-12-15T22:44:33.497981Z",
     "start_time": "2020-12-15T22:44:33.488008Z"
    }
   },
   "outputs": [],
   "source": [
    "# لنرى هل ستحتسب اللغة الحروف الوسطى بخلاف الأخيرة بخلاف الأولى أم لا\n",
    "c2=Counter('حلحل المسألة فتم مراده')"
   ]
  },
  {
   "cell_type": "code",
   "execution_count": 17,
   "metadata": {
    "ExecuteTime": {
     "end_time": "2020-12-15T22:44:36.491021Z",
     "start_time": "2020-12-15T22:44:36.486035Z"
    }
   },
   "outputs": [
    {
     "data": {
      "text/plain": [
       "Counter({'ح': 2,\n",
       "         'ل': 4,\n",
       "         ' ': 3,\n",
       "         'ا': 2,\n",
       "         'م': 3,\n",
       "         'س': 1,\n",
       "         'أ': 1,\n",
       "         'ة': 1,\n",
       "         'ف': 1,\n",
       "         'ت': 1,\n",
       "         'ر': 1,\n",
       "         'د': 1,\n",
       "         'ه': 1})"
      ]
     },
     "execution_count": 17,
     "metadata": {},
     "output_type": "execute_result"
    }
   ],
   "source": [
    "c2"
   ]
  },
  {
   "cell_type": "code",
   "execution_count": 18,
   "metadata": {
    "ExecuteTime": {
     "end_time": "2020-12-15T22:47:40.286875Z",
     "start_time": "2020-12-15T22:47:40.278896Z"
    }
   },
   "outputs": [],
   "source": [
    "# الحمد لله، وجدناها تحلل الحرف بغض النظر عن مكانه مثل الميم واللام\n",
    "# ولكن التاء المبسوطة غير التاء المربوطة\n",
    "# والألف المهموزة مختلفة عن غير المهموزة"
   ]
  },
  {
   "cell_type": "code",
   "execution_count": 19,
   "metadata": {
    "ExecuteTime": {
     "end_time": "2020-12-15T22:47:53.651475Z",
     "start_time": "2020-12-15T22:47:53.646489Z"
    }
   },
   "outputs": [
    {
     "data": {
      "text/plain": [
       "{'ح': 2,\n",
       " 'ل': 4,\n",
       " ' ': 3,\n",
       " 'ا': 2,\n",
       " 'م': 3,\n",
       " 'س': 1,\n",
       " 'أ': 1,\n",
       " 'ة': 1,\n",
       " 'ف': 1,\n",
       " 'ت': 1,\n",
       " 'ر': 1,\n",
       " 'د': 1,\n",
       " 'ه': 1}"
      ]
     },
     "execution_count": 19,
     "metadata": {},
     "output_type": "execute_result"
    }
   ],
   "source": [
    "dict(c2)"
   ]
  },
  {
   "cell_type": "code",
   "execution_count": 20,
   "metadata": {
    "ExecuteTime": {
     "end_time": "2020-12-16T21:43:19.228097Z",
     "start_time": "2020-12-16T21:43:19.216131Z"
    }
   },
   "outputs": [
    {
     "data": {
      "text/plain": [
       "{'أ': 2,\n",
       " 'ل': 9,\n",
       " 'ا': 7,\n",
       " ' ': 7,\n",
       " 'ه': 2,\n",
       " 'خ': 1,\n",
       " 'ق': 1,\n",
       " 'و': 1,\n",
       " 'م': 2,\n",
       " 'ر': 3,\n",
       " '،': 1,\n",
       " 'ت': 1,\n",
       " 'ب': 2,\n",
       " 'ك': 1,\n",
       " 'ع': 1,\n",
       " 'ي': 1,\n",
       " 'ن': 1}"
      ]
     },
     "execution_count": 20,
     "metadata": {},
     "output_type": "execute_result"
    }
   ],
   "source": [
    "c3= dict(Counter('ألا له الخلق والأمر، تبارك الله رب العالمين'))\n",
    "c3"
   ]
  },
  {
   "cell_type": "code",
   "execution_count": 21,
   "metadata": {
    "ExecuteTime": {
     "end_time": "2020-12-16T21:45:18.157271Z",
     "start_time": "2020-12-16T21:45:17.400053Z"
    }
   },
   "outputs": [],
   "source": [
    "import pandas as pd"
   ]
  },
  {
   "cell_type": "code",
   "execution_count": 22,
   "metadata": {
    "ExecuteTime": {
     "end_time": "2020-12-16T21:45:39.355986Z",
     "start_time": "2020-12-16T21:45:39.344018Z"
    }
   },
   "outputs": [],
   "source": [
    "df=pd.DataFrame([c2,c3])"
   ]
  },
  {
   "cell_type": "code",
   "execution_count": 23,
   "metadata": {
    "ExecuteTime": {
     "end_time": "2020-12-16T21:45:41.307269Z",
     "start_time": "2020-12-16T21:45:41.281310Z"
    }
   },
   "outputs": [
    {
     "data": {
      "text/html": [
       "<div>\n",
       "<style scoped>\n",
       "    .dataframe tbody tr th:only-of-type {\n",
       "        vertical-align: middle;\n",
       "    }\n",
       "\n",
       "    .dataframe tbody tr th {\n",
       "        vertical-align: top;\n",
       "    }\n",
       "\n",
       "    .dataframe thead th {\n",
       "        text-align: right;\n",
       "    }\n",
       "</style>\n",
       "<table border=\"1\" class=\"dataframe\">\n",
       "  <thead>\n",
       "    <tr style=\"text-align: right;\">\n",
       "      <th></th>\n",
       "      <th>ح</th>\n",
       "      <th>ل</th>\n",
       "      <th></th>\n",
       "      <th>ا</th>\n",
       "      <th>م</th>\n",
       "      <th>س</th>\n",
       "      <th>أ</th>\n",
       "      <th>ة</th>\n",
       "      <th>ف</th>\n",
       "      <th>ت</th>\n",
       "      <th>...</th>\n",
       "      <th>ه</th>\n",
       "      <th>خ</th>\n",
       "      <th>ق</th>\n",
       "      <th>و</th>\n",
       "      <th>،</th>\n",
       "      <th>ب</th>\n",
       "      <th>ك</th>\n",
       "      <th>ع</th>\n",
       "      <th>ي</th>\n",
       "      <th>ن</th>\n",
       "    </tr>\n",
       "  </thead>\n",
       "  <tbody>\n",
       "    <tr>\n",
       "      <th>0</th>\n",
       "      <td>2.0</td>\n",
       "      <td>4</td>\n",
       "      <td>3</td>\n",
       "      <td>2</td>\n",
       "      <td>3</td>\n",
       "      <td>1.0</td>\n",
       "      <td>1</td>\n",
       "      <td>1.0</td>\n",
       "      <td>1.0</td>\n",
       "      <td>1</td>\n",
       "      <td>...</td>\n",
       "      <td>1</td>\n",
       "      <td>NaN</td>\n",
       "      <td>NaN</td>\n",
       "      <td>NaN</td>\n",
       "      <td>NaN</td>\n",
       "      <td>NaN</td>\n",
       "      <td>NaN</td>\n",
       "      <td>NaN</td>\n",
       "      <td>NaN</td>\n",
       "      <td>NaN</td>\n",
       "    </tr>\n",
       "    <tr>\n",
       "      <th>1</th>\n",
       "      <td>NaN</td>\n",
       "      <td>9</td>\n",
       "      <td>7</td>\n",
       "      <td>7</td>\n",
       "      <td>2</td>\n",
       "      <td>NaN</td>\n",
       "      <td>2</td>\n",
       "      <td>NaN</td>\n",
       "      <td>NaN</td>\n",
       "      <td>1</td>\n",
       "      <td>...</td>\n",
       "      <td>2</td>\n",
       "      <td>1.0</td>\n",
       "      <td>1.0</td>\n",
       "      <td>1.0</td>\n",
       "      <td>1.0</td>\n",
       "      <td>2.0</td>\n",
       "      <td>1.0</td>\n",
       "      <td>1.0</td>\n",
       "      <td>1.0</td>\n",
       "      <td>1.0</td>\n",
       "    </tr>\n",
       "  </tbody>\n",
       "</table>\n",
       "<p>2 rows × 22 columns</p>\n",
       "</div>"
      ],
      "text/plain": [
       "     ح  ل     ا  م    س  أ    ة    ف  ت  ...  ه    خ    ق    و    ،    ب    ك  \\\n",
       "0  2.0  4  3  2  3  1.0  1  1.0  1.0  1  ...  1  NaN  NaN  NaN  NaN  NaN  NaN   \n",
       "1  NaN  9  7  7  2  NaN  2  NaN  NaN  1  ...  2  1.0  1.0  1.0  1.0  2.0  1.0   \n",
       "\n",
       "     ع    ي    ن  \n",
       "0  NaN  NaN  NaN  \n",
       "1  1.0  1.0  1.0  \n",
       "\n",
       "[2 rows x 22 columns]"
      ]
     },
     "execution_count": 23,
     "metadata": {},
     "output_type": "execute_result"
    }
   ],
   "source": [
    "df"
   ]
  },
  {
   "cell_type": "code",
   "execution_count": 24,
   "metadata": {
    "ExecuteTime": {
     "end_time": "2020-12-16T21:46:52.327981Z",
     "start_time": "2020-12-16T21:46:52.305041Z"
    }
   },
   "outputs": [
    {
     "data": {
      "text/html": [
       "<div>\n",
       "<style scoped>\n",
       "    .dataframe tbody tr th:only-of-type {\n",
       "        vertical-align: middle;\n",
       "    }\n",
       "\n",
       "    .dataframe tbody tr th {\n",
       "        vertical-align: top;\n",
       "    }\n",
       "\n",
       "    .dataframe thead th {\n",
       "        text-align: right;\n",
       "    }\n",
       "</style>\n",
       "<table border=\"1\" class=\"dataframe\">\n",
       "  <thead>\n",
       "    <tr style=\"text-align: right;\">\n",
       "      <th></th>\n",
       "      <th>ح</th>\n",
       "      <th>ل</th>\n",
       "      <th></th>\n",
       "      <th>ا</th>\n",
       "      <th>م</th>\n",
       "      <th>س</th>\n",
       "      <th>أ</th>\n",
       "      <th>ة</th>\n",
       "      <th>ف</th>\n",
       "      <th>ت</th>\n",
       "      <th>...</th>\n",
       "      <th>ه</th>\n",
       "      <th>خ</th>\n",
       "      <th>ق</th>\n",
       "      <th>و</th>\n",
       "      <th>،</th>\n",
       "      <th>ب</th>\n",
       "      <th>ك</th>\n",
       "      <th>ع</th>\n",
       "      <th>ي</th>\n",
       "      <th>ن</th>\n",
       "    </tr>\n",
       "  </thead>\n",
       "  <tbody>\n",
       "    <tr>\n",
       "      <th>0</th>\n",
       "      <td>2.0</td>\n",
       "      <td>4</td>\n",
       "      <td>3</td>\n",
       "      <td>2</td>\n",
       "      <td>3</td>\n",
       "      <td>1.0</td>\n",
       "      <td>1</td>\n",
       "      <td>1.0</td>\n",
       "      <td>1.0</td>\n",
       "      <td>1</td>\n",
       "      <td>...</td>\n",
       "      <td>1</td>\n",
       "      <td>0.0</td>\n",
       "      <td>0.0</td>\n",
       "      <td>0.0</td>\n",
       "      <td>0.0</td>\n",
       "      <td>0.0</td>\n",
       "      <td>0.0</td>\n",
       "      <td>0.0</td>\n",
       "      <td>0.0</td>\n",
       "      <td>0.0</td>\n",
       "    </tr>\n",
       "    <tr>\n",
       "      <th>1</th>\n",
       "      <td>0.0</td>\n",
       "      <td>9</td>\n",
       "      <td>7</td>\n",
       "      <td>7</td>\n",
       "      <td>2</td>\n",
       "      <td>0.0</td>\n",
       "      <td>2</td>\n",
       "      <td>0.0</td>\n",
       "      <td>0.0</td>\n",
       "      <td>1</td>\n",
       "      <td>...</td>\n",
       "      <td>2</td>\n",
       "      <td>1.0</td>\n",
       "      <td>1.0</td>\n",
       "      <td>1.0</td>\n",
       "      <td>1.0</td>\n",
       "      <td>2.0</td>\n",
       "      <td>1.0</td>\n",
       "      <td>1.0</td>\n",
       "      <td>1.0</td>\n",
       "      <td>1.0</td>\n",
       "    </tr>\n",
       "  </tbody>\n",
       "</table>\n",
       "<p>2 rows × 22 columns</p>\n",
       "</div>"
      ],
      "text/plain": [
       "     ح  ل     ا  م    س  أ    ة    ف  ت  ...  ه    خ    ق    و    ،    ب    ك  \\\n",
       "0  2.0  4  3  2  3  1.0  1  1.0  1.0  1  ...  1  0.0  0.0  0.0  0.0  0.0  0.0   \n",
       "1  0.0  9  7  7  2  0.0  2  0.0  0.0  1  ...  2  1.0  1.0  1.0  1.0  2.0  1.0   \n",
       "\n",
       "     ع    ي    ن  \n",
       "0  0.0  0.0  0.0  \n",
       "1  1.0  1.0  1.0  \n",
       "\n",
       "[2 rows x 22 columns]"
      ]
     },
     "execution_count": 24,
     "metadata": {},
     "output_type": "execute_result"
    }
   ],
   "source": [
    "df.fillna(0)"
   ]
  },
  {
   "cell_type": "code",
   "execution_count": 27,
   "metadata": {
    "ExecuteTime": {
     "end_time": "2020-12-17T04:03:28.395841Z",
     "start_time": "2020-12-17T04:03:28.363896Z"
    }
   },
   "outputs": [
    {
     "data": {
      "text/html": [
       "<div>\n",
       "<style scoped>\n",
       "    .dataframe tbody tr th:only-of-type {\n",
       "        vertical-align: middle;\n",
       "    }\n",
       "\n",
       "    .dataframe tbody tr th {\n",
       "        vertical-align: top;\n",
       "    }\n",
       "\n",
       "    .dataframe thead th {\n",
       "        text-align: right;\n",
       "    }\n",
       "</style>\n",
       "<table border=\"1\" class=\"dataframe\">\n",
       "  <thead>\n",
       "    <tr style=\"text-align: right;\">\n",
       "      <th></th>\n",
       "      <th></th>\n",
       "      <th>،</th>\n",
       "      <th>أ</th>\n",
       "      <th>ا</th>\n",
       "      <th>ب</th>\n",
       "      <th>ة</th>\n",
       "      <th>ت</th>\n",
       "      <th>ح</th>\n",
       "      <th>خ</th>\n",
       "      <th>د</th>\n",
       "      <th>...</th>\n",
       "      <th>ع</th>\n",
       "      <th>ف</th>\n",
       "      <th>ق</th>\n",
       "      <th>ك</th>\n",
       "      <th>ل</th>\n",
       "      <th>م</th>\n",
       "      <th>ن</th>\n",
       "      <th>ه</th>\n",
       "      <th>و</th>\n",
       "      <th>ي</th>\n",
       "    </tr>\n",
       "  </thead>\n",
       "  <tbody>\n",
       "    <tr>\n",
       "      <th>0</th>\n",
       "      <td>3</td>\n",
       "      <td>0.0</td>\n",
       "      <td>1</td>\n",
       "      <td>2</td>\n",
       "      <td>0.0</td>\n",
       "      <td>1.0</td>\n",
       "      <td>1</td>\n",
       "      <td>2.0</td>\n",
       "      <td>0.0</td>\n",
       "      <td>1.0</td>\n",
       "      <td>...</td>\n",
       "      <td>0.0</td>\n",
       "      <td>1.0</td>\n",
       "      <td>0.0</td>\n",
       "      <td>0.0</td>\n",
       "      <td>4</td>\n",
       "      <td>3</td>\n",
       "      <td>0.0</td>\n",
       "      <td>1</td>\n",
       "      <td>0.0</td>\n",
       "      <td>0.0</td>\n",
       "    </tr>\n",
       "    <tr>\n",
       "      <th>1</th>\n",
       "      <td>7</td>\n",
       "      <td>1.0</td>\n",
       "      <td>2</td>\n",
       "      <td>7</td>\n",
       "      <td>2.0</td>\n",
       "      <td>0.0</td>\n",
       "      <td>1</td>\n",
       "      <td>0.0</td>\n",
       "      <td>1.0</td>\n",
       "      <td>0.0</td>\n",
       "      <td>...</td>\n",
       "      <td>1.0</td>\n",
       "      <td>0.0</td>\n",
       "      <td>1.0</td>\n",
       "      <td>1.0</td>\n",
       "      <td>9</td>\n",
       "      <td>2</td>\n",
       "      <td>1.0</td>\n",
       "      <td>2</td>\n",
       "      <td>1.0</td>\n",
       "      <td>1.0</td>\n",
       "    </tr>\n",
       "  </tbody>\n",
       "</table>\n",
       "<p>2 rows × 22 columns</p>\n",
       "</div>"
      ],
      "text/plain": [
       "        ،  أ  ا    ب    ة  ت    ح    خ    د  ...    ع    ف    ق    ك  ل  م  \\\n",
       "0  3  0.0  1  2  0.0  1.0  1  2.0  0.0  1.0  ...  0.0  1.0  0.0  0.0  4  3   \n",
       "1  7  1.0  2  7  2.0  0.0  1  0.0  1.0  0.0  ...  1.0  0.0  1.0  1.0  9  2   \n",
       "\n",
       "     ن  ه    و    ي  \n",
       "0  0.0  1  0.0  0.0  \n",
       "1  1.0  2  1.0  1.0  \n",
       "\n",
       "[2 rows x 22 columns]"
      ]
     },
     "execution_count": 27,
     "metadata": {},
     "output_type": "execute_result"
    }
   ],
   "source": [
    "df.reindex(sorted(df.columns), axis=1).fillna(0)"
   ]
  },
  {
   "cell_type": "code",
   "execution_count": null,
   "metadata": {},
   "outputs": [],
   "source": []
  }
 ],
 "metadata": {
  "kernelspec": {
   "display_name": "Python 3",
   "language": "python",
   "name": "python3"
  },
  "language_info": {
   "codemirror_mode": {
    "name": "ipython",
    "version": 3
   },
   "file_extension": ".py",
   "mimetype": "text/x-python",
   "name": "python",
   "nbconvert_exporter": "python",
   "pygments_lexer": "ipython3",
   "version": "3.8.3"
  },
  "varInspector": {
   "cols": {
    "lenName": 16,
    "lenType": 16,
    "lenVar": 40
   },
   "kernels_config": {
    "python": {
     "delete_cmd_postfix": "",
     "delete_cmd_prefix": "del ",
     "library": "var_list.py",
     "varRefreshCmd": "print(var_dic_list())"
    },
    "r": {
     "delete_cmd_postfix": ") ",
     "delete_cmd_prefix": "rm(",
     "library": "var_list.r",
     "varRefreshCmd": "cat(var_dic_list()) "
    }
   },
   "types_to_exclude": [
    "module",
    "function",
    "builtin_function_or_method",
    "instance",
    "_Feature"
   ],
   "window_display": false
  }
 },
 "nbformat": 4,
 "nbformat_minor": 4
}
